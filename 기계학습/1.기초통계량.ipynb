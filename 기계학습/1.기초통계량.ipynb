{
 "cells": [
  {
   "cell_type": "code",
   "execution_count": 2,
   "metadata": {},
   "outputs": [
    {
     "name": "stdout",
     "output_type": "stream",
     "text": [
      "4.111111111111111\n"
     ]
    }
   ],
   "source": [
    "import numpy as np\n",
    "from scipy import stats\n",
    "\n",
    "#numpy 배열\n",
    "data = np.array([4,5,1,2,7,2,6,7,3])\n",
    "\n",
    "#평균\n",
    "a = np.mean(data)\n",
    "print(a)\n",
    "\n"
   ]
  },
  {
   "cell_type": "code",
   "execution_count": 4,
   "metadata": {},
   "outputs": [
    {
     "name": "stdout",
     "output_type": "stream",
     "text": [
      "4.0\n"
     ]
    }
   ],
   "source": [
    "#중위수\n",
    "b = np.median(data)\n",
    "print(b)"
   ]
  },
  {
   "cell_type": "code",
   "execution_count": 5,
   "metadata": {},
   "outputs": [
    {
     "name": "stdout",
     "output_type": "stream",
     "text": [
      "2\n"
     ]
    }
   ],
   "source": [
    "#최빈값\n",
    "c=stats.mode(data)\n",
    "print(c[0][0])"
   ]
  },
  {
   "cell_type": "code",
   "execution_count": 6,
   "metadata": {},
   "outputs": [
    {
     "name": "stdout",
     "output_type": "stream",
     "text": [
      "374\n"
     ]
    }
   ],
   "source": [
    "from statistics import variance, stdev\n",
    "\n",
    "points = np.array([20,80,90,95,87,89,95,99,97,100,60,70,77,88,89,89,90])\n",
    "\n",
    "#분산\n",
    "a=variance(points)\n",
    "print(a)"
   ]
  },
  {
   "cell_type": "code",
   "execution_count": 7,
   "metadata": {},
   "outputs": [
    {
     "name": "stdout",
     "output_type": "stream",
     "text": [
      "19.339079605813716\n"
     ]
    }
   ],
   "source": [
    "#표준편차\n",
    "b=stdev(points)\n",
    "print(b)"
   ]
  },
  {
   "cell_type": "code",
   "execution_count": 8,
   "metadata": {},
   "outputs": [
    {
     "name": "stdout",
     "output_type": "stream",
     "text": [
      "80\n"
     ]
    }
   ],
   "source": [
    "c = np.max(points) - np.min(points)\n",
    "print(c)"
   ]
  },
  {
   "cell_type": "code",
   "execution_count": 9,
   "metadata": {},
   "outputs": [
    {
     "name": "stdout",
     "output_type": "stream",
     "text": [
      "100\n",
      "20\n",
      "80\n"
     ]
    }
   ],
   "source": [
    "#최대, 최소값\n",
    "a = np.max(points)\n",
    "b = np.min(points)\n",
    "\n",
    "c= a-b\n",
    "print(a)\n",
    "print(b)\n",
    "print(c)"
   ]
  },
  {
   "cell_type": "code",
   "execution_count": 10,
   "metadata": {},
   "outputs": [
    {
     "name": "stdout",
     "output_type": "stream",
     "text": [
      "20% 77.6\n",
      "80% 95.0\n",
      "100% 100.0\n"
     ]
    }
   ],
   "source": [
    "#백분위\n",
    "for val in [20, 80, 100]:\n",
    "    d = np.percentile(points, val)\n",
    "    print(str(val)+\"%\",d)"
   ]
  },
  {
   "cell_type": "code",
   "execution_count": 11,
   "metadata": {},
   "outputs": [
    {
     "name": "stdout",
     "output_type": "stream",
     "text": [
      "80.0\n",
      "89.0\n",
      "95.0\n",
      "15.0\n"
     ]
    }
   ],
   "source": [
    "#사분위수\n",
    "\n",
    "a,b,c = np.percentile(points, [25,50,75])\n",
    "print(a)\n",
    "print(b)\n",
    "print(c)\n",
    "print(c-a)"
   ]
  },
  {
   "cell_type": "code",
   "execution_count": 12,
   "metadata": {},
   "outputs": [
    {
     "data": {
      "image/png": "[encoded data removed]",
      "text/plain": [
       "<Figure size 432x288 with 1 Axes>"
      ]
     },
     "metadata": {
      "needs_background": "light"
     },
     "output_type": "display_data"
    }
   ],
   "source": [
    "import matplotlib.pyplot as plt\n",
    "\n",
    "#데이터가 한쪽으로 쏠려있는지 확인하기 위해 시각화한 그래프\n",
    "#가운데 선은 중위수\n",
    "#양 끝의 수염은 최솟값과 최대값\n",
    "#동떨어진 값 1개는 이상치\n",
    "#박스의 양끝은 각각 75%와 25%를 가리킴\n",
    "plt.boxplot(points) #상자수염그림\n",
    "plt.show()"
   ]
  },
  {
   "cell_type": "code",
   "execution_count": 13,
   "metadata": {},
   "outputs": [
    {
     "data": {
      "image/png": "[encoded data removed]",
      "text/plain": [
       "<Figure size 432x288 with 1 Axes>"
      ]
     },
     "metadata": {
      "needs_background": "light"
     },
     "output_type": "display_data"
    }
   ],
   "source": [
    "plt.hist(points)\n",
    "plt.show()\n",
    "\n",
    "#20점의 경우 이상치로 볼 수 있음\n",
    "# 이상치는 데이터에 큰 영향을 줄 수 있기 때문에 따로 처리가 필요함(배제)"
   ]
  },
  {
   "cell_type": "code",
   "execution_count": 14,
   "metadata": {},
   "outputs": [
    {
     "data": {
      "text/plain": [
       "Power_divergenceResult(statistic=14.200000000000001, pvalue=0.014387678176921308)"
      ]
     },
     "execution_count": 14,
     "metadata": {},
     "output_type": "execute_result"
    }
   ],
   "source": [
    "#귀무가설: 두 데이터의 차이가 없다\n",
    "#대립가설: 두 데이터의 차이가 있다(내가 주장하고 싶은 가설)\n",
    "data1 = [4,6,17,16,8,9]\n",
    "data2 = [10,10,10,10,10,10]\n",
    "stats.chisquare(data1,data2) #카이제곱검정\n",
    "# pvalue 0.5 보다 작으므로 대립가설 채택"
   ]
  },
  {
   "cell_type": "code",
   "execution_count": 17,
   "metadata": {},
   "outputs": [
    {
     "data": {
      "text/html": [
       "<div>\n",
       "<style scoped>\n",
       "    .dataframe tbody tr th:only-of-type {\n",
       "        vertical-align: middle;\n",
       "    }\n",
       "\n",
       "    .dataframe tbody tr th {\n",
       "        vertical-align: top;\n",
       "    }\n",
       "\n",
       "    .dataframe thead th {\n",
       "        text-align: right;\n",
       "    }\n",
       "</style>\n",
       "<table border=\"1\" class=\"dataframe\">\n",
       "  <thead>\n",
       "    <tr style=\"text-align: right;\">\n",
       "      <th>Exer</th>\n",
       "      <th>Freq</th>\n",
       "      <th>None</th>\n",
       "      <th>Some</th>\n",
       "    </tr>\n",
       "    <tr>\n",
       "      <th>Smoke</th>\n",
       "      <th></th>\n",
       "      <th></th>\n",
       "      <th></th>\n",
       "    </tr>\n",
       "  </thead>\n",
       "  <tbody>\n",
       "    <tr>\n",
       "      <th>Heavy</th>\n",
       "      <td>7</td>\n",
       "      <td>1</td>\n",
       "      <td>3</td>\n",
       "    </tr>\n",
       "    <tr>\n",
       "      <th>Never</th>\n",
       "      <td>87</td>\n",
       "      <td>18</td>\n",
       "      <td>84</td>\n",
       "    </tr>\n",
       "    <tr>\n",
       "      <th>Occas</th>\n",
       "      <td>12</td>\n",
       "      <td>3</td>\n",
       "      <td>4</td>\n",
       "    </tr>\n",
       "    <tr>\n",
       "      <th>Regul</th>\n",
       "      <td>9</td>\n",
       "      <td>1</td>\n",
       "      <td>7</td>\n",
       "    </tr>\n",
       "  </tbody>\n",
       "</table>\n",
       "</div>"
      ],
      "text/plain": [
       "Exer   Freq  None  Some\n",
       "Smoke                  \n",
       "Heavy     7     1     3\n",
       "Never    87    18    84\n",
       "Occas    12     3     4\n",
       "Regul     9     1     7"
      ]
     },
     "execution_count": 17,
     "metadata": {},
     "output_type": "execute_result"
    }
   ],
   "source": [
    "import pandas as pd\n",
    "from scipy import stats\n",
    "\n",
    "survey = pd.read_csv('c:/data/smoke/survey.csv')\n",
    "#survey\n",
    "#Smoke와 Exer 필드를 기준으로 집계\n",
    "data = pd.crosstab(survey.Smoke, survey.Exer)\n",
    "data\n",
    "\n"
   ]
  },
  {
   "cell_type": "code",
   "execution_count": 18,
   "metadata": {},
   "outputs": [
    {
     "name": "stdout",
     "output_type": "stream",
     "text": [
      "5.488545890584232\n",
      "0.48284216946545633\n"
     ]
    }
   ],
   "source": [
    "#카이제곱검정 수행\n",
    "#귀무가설 : 운동습관과 흡연량은 관계가 없다.\n",
    "#대립가설 : 운동습관과 흡연량은 관계가 있다.\n",
    "result = stats.chi2_contingency(observed=data)\n",
    "print(result[0]) #검정통계량\n",
    "print(result[1]) #p-value"
   ]
  },
  {
   "cell_type": "code",
   "execution_count": 20,
   "metadata": {},
   "outputs": [
    {
     "name": "stdout",
     "output_type": "stream",
     "text": [
      "검정통계량 : 3.435, p-value : 0.003\n"
     ]
    }
   ],
   "source": [
    "#단일표본 t검정\n",
    "#전체 학생들 중 20명의 학생들을 선택하여 전체 학생들의 평균키가 175cm인지 아닌지 판단\n",
    "#귀무가설 : 학생들의 평균키는 175cm\n",
    "#대립가설 : 학생들의 평균키는 175cm 가 아니다.\n",
    "\n",
    "import numpy as np\n",
    "from scipy import stats\n",
    "\n",
    "#랜덤 시드 설정, 시드를 고정하지 않을 경우 값이 달라짐\n",
    "np.random.seed(1)\n",
    "\n",
    "#np.random.normal(0,5) : 평균 0, 표준편차 5인 난수\n",
    "heights = [180 + np.random.normal(0,5) for a in range(20)]\n",
    "\n",
    "result = stats.ttest_1samp(heights, 175)\n",
    "print('검정통계량 : %.3f, p-value : %.3f' % result)\n",
    "# p-value가 0.05보다 작으므로 95% 신뢰수준 하에서\n",
    "# 학생들의 평균키는 통계적으로 유의하게 차이가 난다고 할 수 있음\n",
    "# 따라서 대립가설이 옳다."
   ]
  },
  {
   "cell_type": "code",
   "execution_count": 23,
   "metadata": {},
   "outputs": [
    {
     "name": "stdout",
     "output_type": "stream",
     "text": [
      "[166.22801029501673, 176.26434077616645, 172.56464910209004, 168.50953582448642, 172.44259073268748, 169.62214143489473, 175.65814693725713, 177.599084082111, 180.9278770326658, 163.0175183225593, 162.77943097285205, 167.47767068526775, 170.80018534723916, 174.38084460558113, 171.578174736208, 159.88899392087998, 168.46897993685815, 174.13987321303622, 171.15047367682192, 173.81005590156013]\n",
      "[172.7767185738964, 172.99241931070003, 176.86561390988285, 179.10051647208257, 176.9829972012677, 176.19008645807457, 168.2933771371097, 178.7756378632092, 176.21821270991438, 186.29483907911919, 186.98917879901506, 176.85156417483944, 171.24715049909886, 168.61269592545779, 179.23494354064113, 175.7734006834856, 171.56146324428926, 175.43596856834247, 168.79999156051872, 181.9803203407222]\n"
     ]
    },
    {
     "data": {
      "text/plain": [
       "Ttest_indResult(statistic=-3.117711996238903, pvalue=0.003466277262628802)"
      ]
     },
     "execution_count": 23,
     "metadata": {},
     "output_type": "execute_result"
    }
   ],
   "source": [
    "#귀무가설 : 두 학급의 평균키는 같다.\n",
    "#대립가설 : 두 학급의 평균키는 다르다.\n",
    "#독립표본 t검정(2개의 그룹)\n",
    "\n",
    "group1 = [170+np.random.normal(0,5) for a in range(20)]\n",
    "group2 = [175+np.random.normal(0,10) for a in range(20)]\n",
    "print(group1)\n",
    "print(group2)\n",
    "\n",
    "stats.ttest_ind(group1, group2)"
   ]
  },
  {
   "cell_type": "code",
   "execution_count": 22,
   "metadata": {},
   "outputs": [
    {
     "data": {
      "text/plain": [
       "Ttest_indResult(statistic=-3.5031868454370456, pvalue=0.0015725905402840974)"
      ]
     },
     "execution_count": 22,
     "metadata": {},
     "output_type": "execute_result"
    }
   ],
   "source": [
    "#등분산 가정을 하지 않을 경우\n",
    "stats.ttest_ind(group1, group2, equal_var=False)"
   ]
  },
  {
   "cell_type": "code",
   "execution_count": 26,
   "metadata": {},
   "outputs": [
    {
     "name": "stdout",
     "output_type": "stream",
     "text": [
      "before: [68.1217268183162, 56.94121793174962, 57.359141238682724, 54.63515688921915, 64.3270381466234, 48.492306515598585, 68.7240588210824, 56.19396549552449, 61.59519548028549, 58.75314812261295, 67.31053968522487, 49.69929645251173, 58.38791397993246, 58.07972822665792, 65.66884721167719, 54.500543663429845, 59.13785896224782, 55.61070791039314, 60.21106873357797, 62.914076068579114]\n",
      "after: [65.94098797171107, 57.67544499710449, 57.819839215935254, 54.63788246116392, 64.84275566541605, 47.34427263203588, 67.86790793112998, 54.58033393455883, 60.64923115285458, 58.78881770728494, 65.70631311881824, 48.80793606499072, 57.001583230054315, 56.517144665313666, 64.13055954741337, 53.94173367626836, 57.224973536332286, 55.315321289307555, 61.60772730564428, 63.218635763189475]\n",
      "Ttest_relResult(statistic=2.9154993563693186, pvalue=0.008871163766572827)\n",
      "검정통계량: 2.915, p-value: 0.009\n"
     ]
    }
   ],
   "source": [
    "#다이어트 약을 복용한 사람들 중 20명을 선택하여 복용 전후의 체중 차이가 유의미한가?\n",
    "#귀무가설 : 복용 전후의 체중차이 X\n",
    "#대립가설 : 복용 전후의 체중차이 O\n",
    "import numpy as np\n",
    "from scipy import stats\n",
    "\n",
    "np.random.seed(1)\n",
    "before=[60 + np.random.normal(0,5) for _ in range(20)]\n",
    "print('before:', before)\n",
    "\n",
    "after = [w * np.random.normal(0.99, 0.02) for w in before]\n",
    "print('after:', after)\n",
    "\n",
    "result = stats.ttest_rel(before, after)\n",
    "print(result)\n",
    "print('검정통계량: %.3f, p-value: %.3f' % result)"
   ]
  },
  {
   "cell_type": "code",
   "execution_count": 31,
   "metadata": {},
   "outputs": [
    {
     "name": "stdout",
     "output_type": "stream",
     "text": [
      "a평균: 79.0\n",
      "b평균: 65.375\n",
      "c평균: 64.375\n",
      "d평균: 69.5\n"
     ]
    },
    {
     "data": {
      "image/png": "[encoded data removed]",
      "text/plain": [
       "<Figure size 432x288 with 1 Axes>"
      ]
     },
     "metadata": {
      "needs_background": "light"
     },
     "output_type": "display_data"
    },
    {
     "name": "stdout",
     "output_type": "stream",
     "text": [
      "검정통계량: 4.2210931159803815\n",
      "p-value: 0.013933707427484199\n"
     ]
    }
   ],
   "source": [
    "# 아노바분석(일원배치분석)\n",
    "\n",
    "#A는 4개의 각기 다른 신입사원 교육훈련 기법의 효과성을 평가함\n",
    "#신규사원 32명에게 4가지 교육을 임의로 적용\n",
    "#한달의 훈련기간 후, 표준 시험의 점수는 아래와 같음\n",
    "# 4개의 교육방법은 성능의 차이가 있는가?\n",
    "# 3개 이상의 대응표본을 비교해야 하므로, 일원배치 분산분석 기법사용\n",
    "# 기무가설 : 4개의 교육훈련 기법의 차이 X\n",
    "# 대립가설 : 차이 O\n",
    "import scipy.stats as stats\n",
    "import matplotlib.pyplot as plt\n",
    "%matplotlib inline\n",
    "\n",
    "#표준 시험 점수\n",
    "a = [66,74,82,75,73,97,87,78]\n",
    "b= [72,51,59,62,74,64,78,63]\n",
    "c= [61,60,57,60,81,55,70,71]\n",
    "d = [63,61,76,84,58,65,69,80]\n",
    "\n",
    "#표준 시험의 평균\n",
    "print('a평균:', np.mean(a))\n",
    "print('b평균:', np.mean(b))\n",
    "print('c평균:', np.mean(c))\n",
    "print('d평균:', np.mean(d))\n",
    "\n",
    "plot_data = [a,b,c,d]\n",
    "\n",
    "#수염난상자 모형의 데이터 그래프\n",
    "ax = plt.boxplot(plot_data)\n",
    "plt.show()\n",
    "f, p = stats.f_oneway(a,b,c,d)\n",
    "print('검정통계량:', f)\n",
    "print('p-value:', p)"
   ]
  },
  {
   "cell_type": "code",
   "execution_count": 33,
   "metadata": {},
   "outputs": [
    {
     "name": "stdout",
     "output_type": "stream",
     "text": [
      "   fertilizer1  fertilizer2  fertilizer3\n",
      "0           72           54           48\n",
      "1           62           56           62\n",
      "2           90           58           92\n",
      "3           42           36           96\n",
      "4           84           72           92\n",
      "5           64           34           80\n",
      "F_onewayResult(statistic=3.7551268418654105, pvalue=0.04762461989261837)\n",
      "3.7551268418654105\n",
      "0.04762461989261837\n"
     ]
    }
   ],
   "source": [
    "#검정통계량: 표본수, 표본평균 / 표준편차를 이용하여 계산된 값\n",
    "import pandas as pd\n",
    "from scipy import stats\n",
    "\n",
    "# 귀무가설: 세가지 비료의 수확량은 차이가 없다.\n",
    "# 대립가설: 세가지 비료의 수확량은 차이가 있다.\n",
    "\n",
    "data = pd.read_csv('c:/data/anova/fertilizers.csv')\n",
    "\n",
    "print(data)\n",
    "\n",
    "result = stats.f_oneway(data['fertilizer1'], data['fertilizer2'], data['fertilizer3'])\n",
    "\n",
    "print(result)\n",
    "print(result[0])\n",
    "print(result[1])"
   ]
  },
  {
   "cell_type": "code",
   "execution_count": null,
   "metadata": {},
   "outputs": [],
   "source": []
  }
 ],
 "metadata": {
  "interpreter": {
   "hash": "cef9e06bb236b2a8629b07e87a04b187b952a0f661eff5533360a155783f0c33"
  },
  "kernelspec": {
   "display_name": "Python 3.8.8 64-bit ('base': conda)",
   "language": "python",
   "name": "python3"
  },
  "language_info": {
   "codemirror_mode": {
    "name": "ipython",
    "version": 3
   },
   "file_extension": ".py",
   "mimetype": "text/x-python",
   "name": "python",
   "nbconvert_exporter": "python",
   "pygments_lexer": "ipython3",
   "version": "3.8.8"
  },
  "orig_nbformat": 4
 },
 "nbformat": 4,
 "nbformat_minor": 2
}
