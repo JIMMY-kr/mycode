{
 "cells": [
  {
   "cell_type": "code",
   "execution_count": 1,
   "metadata": {},
   "outputs": [],
   "source": [
    "%matplotlib inline\n",
    "import matplotlib.pyplot as plt\n",
    "import numpy as np\n",
    "\n",
    "from scipy import stats\n",
    "from matplotlib import font_manager, rc\n",
    "\n",
    "font_name = font_manager.FontProperties(fname='c:/Windows/Fonts/malgun.ttf').get_name()\n",
    "rc('font', family=font_name)"
   ]
  },
  {
   "cell_type": "code",
   "execution_count": 2,
   "metadata": {},
   "outputs": [],
   "source": [
    "%load_ext watermark"
   ]
  },
  {
   "cell_type": "code",
   "execution_count": 3,
   "metadata": {},
   "outputs": [
    {
     "name": "stdout",
     "output_type": "stream",
     "text": [
      "Last updated: 2021-12-03T10:51:19.397916+09:00\n",
      "\n",
      "Python implementation: CPython\n",
      "Python version       : 3.8.8\n",
      "IPython version      : 7.22.0\n",
      "\n",
      "Compiler    : MSC v.1916 64 bit (AMD64)\n",
      "OS          : Windows\n",
      "Release     : 10\n",
      "Machine     : AMD64\n",
      "Processor   : Intel64 Family 6 Model 167 Stepping 1, GenuineIntel\n",
      "CPU cores   : 16\n",
      "Architecture: 64bit\n",
      "\n"
     ]
    }
   ],
   "source": [
    "%watermark"
   ]
  },
  {
   "cell_type": "code",
   "execution_count": 4,
   "metadata": {},
   "outputs": [
    {
     "name": "stdout",
     "output_type": "stream",
     "text": [
      "\n"
     ]
    }
   ],
   "source": [
    "%watermark -d -t"
   ]
  },
  {
   "cell_type": "code",
   "execution_count": 5,
   "metadata": {},
   "outputs": [
    {
     "name": "stderr",
     "output_type": "stream",
     "text": [
      "UsageError: unrecognized arguments: scipy, sklearn, pandas, matplotlib\n"
     ]
    }
   ],
   "source": [
    "%watermark -p np, scipy, sklearn, pandas, matplotlib"
   ]
  },
  {
   "cell_type": "code",
   "execution_count": 6,
   "metadata": {},
   "outputs": [
    {
     "data": {
      "text/plain": [
       "LinregressResult(slope=0.4956032360182905, intercept=0.9195814280689418, rvalue=0.8929235125385305, pvalue=9.238421943157891e-05, stderr=0.07901935226531728, intercept_stderr=0.3110591892275586)"
      ]
     },
     "execution_count": 6,
     "metadata": {},
     "output_type": "execute_result"
    }
   ],
   "source": [
    "# 회귀분석 : 1.전기 생산량과 소비량\n",
    "# 독립변수(전기생산량), 종속변수(전기소비량)\n",
    "# 독립변수가 1개이므로 단순회기분석(선형회귀분석) 사용\n",
    "# 귀무가설 : 전기생산량과 전기소비량 간에 상관관계가 없다.\n",
    "# 대립가설 : 전기생산량과 전기소비량 간에 상관관계가 있다.\n",
    "# 월별 전기 생산금액(억원)\n",
    "\n",
    "x =[3.52,2.58,3.31,4.07,4.62,3.98,4.29, 4.83, 3.71, 4.61, 3.90,3.20]\n",
    "\n",
    "# 월별 전기 사용량(백만 kwh)\n",
    "y =[2.48,2.27,2.47,2.77,2.98,3.05,3.18, 3.46, 3.03, 3.25, 2.67,2.53]\n",
    "\n",
    "#slope(기울기), 절편(intercept),\n",
    "#rvalue(상관계수, 1을 기준으로 얼마나 이 수치가 믿을만 한가를 판단), pvalue(예측 불확실성으 정도를 나타내는 값)\n",
    "#에러의 표준편차(stderr) 실제값과 예측값의 평균적인 차이\n",
    "# linregress(독립변수, 종속변수) 선형회귀분석\n",
    "\n",
    "result = stats.linregress(x,y)\n",
    "result"
   ]
  },
  {
   "cell_type": "code",
   "execution_count": 7,
   "metadata": {},
   "outputs": [
    {
     "data": {
      "text/plain": [
       "Text(0, 0.5, '전기사용량')"
      ]
     },
     "execution_count": 7,
     "metadata": {},
     "output_type": "execute_result"
    },
    {
     "data": {
      "image/png": "[encoded data removed]",
      "text/plain": [
       "<Figure size 432x288 with 1 Axes>"
      ]
     },
     "metadata": {
      "needs_background": "light"
     },
     "output_type": "display_data"
    }
   ],
   "source": [
    "slope, intercept, r_value, p_value, stderr = stats.linregress(x,y)\n",
    "x1 = np.array(x)\n",
    "\n",
    "plt.scatter(x,y)\n",
    "\n",
    "plt.plot(x1, slope*x1 + intercept, c='red')\n",
    "plt.xlabel('전기생산량')\n",
    "plt.ylabel('전기사용량')"
   ]
  },
  {
   "cell_type": "code",
   "execution_count": 8,
   "metadata": {},
   "outputs": [
    {
     "data": {
      "text/plain": [
       "2.901994372142104"
      ]
     },
     "execution_count": 8,
     "metadata": {},
     "output_type": "execute_result"
    }
   ],
   "source": [
    "4*slope + intercept"
   ]
  },
  {
   "cell_type": "code",
   "execution_count": 1,
   "metadata": {},
   "outputs": [
    {
     "name": "stdout",
     "output_type": "stream",
     "text": [
      "t=4.752, p-value=0.000096\n",
      "p-value < 0.05, 대립가설 채택\n"
     ]
    }
   ],
   "source": [
    "from math import sqrt\n",
    "from numpy import mean\n",
    "from scipy.stats import sem\n",
    "from scipy.stats import t\n",
    "\n",
    "def independent_ttest(data1, data2, alpha):\n",
    "    mean1, mean2 = mean(data1), mean(data2) #평균\n",
    "    # 표준오차 계산\n",
    "    se1, se2 = sem(data1), sem(data2)\n",
    "    sed = sqrt(se1**2 + se2**2)\n",
    "    # t통계량 계산\n",
    "    t_stat = (mean1 - mean2) / sed\n",
    "    # 자유도 계산\n",
    "    df = len(data1) + len(data2) - 2\n",
    "    p = (1.0 - t.cdf(abs(t_stat), df)) * 2.0\n",
    "    return t_stat, p\n",
    "\n",
    "x=[3.52, 2.58, 3.31, 4.07, 4.62, 3.98, 4.29, 4.83, 3.71, 4.61, 3.9, 3.2]\n",
    "y=[2.48, 2.27, 2.47, 2.77, 2.98, 3.05, 3.18, 3.46, 3.03, 3.25, 2.67, 2.53]\n",
    "\n",
    "alpha = 0.05\n",
    "t_stat, p = independent_ttest(x,y, alpha)\n",
    "print('t=%.3f, p-value=%f' % (t_stat, p))\n",
    "\n",
    "if p > alpha:\n",
    "    print('p-value > 0.05, 귀무가설 채택')\n",
    "else:\n",
    "    print('p-value < 0.05, 대립가설 채택')\n"
   ]
  },
  {
   "cell_type": "code",
   "execution_count": 2,
   "metadata": {},
   "outputs": [
    {
     "name": "stdout",
     "output_type": "stream",
     "text": [
      "[-8.         -7.83838384 -7.67676768 -7.51515152 -7.35353535]\n",
      "[3.39767312e-06 4.95353201e-06 7.17671574e-06 1.03327820e-05\n",
      " 1.47840373e-05]\n"
     ]
    },
    {
     "data": {
      "image/png": "[encoded data removed]",
      "text/plain": [
       "<Figure size 432x288 with 1 Axes>"
      ]
     },
     "metadata": {
      "needs_background": "light"
     },
     "output_type": "display_data"
    }
   ],
   "source": [
    "%matplotlib inline\n",
    "import matplotlib.pyplot as plt\n",
    "import numpy as np\n",
    "import scipy as sp\n",
    "\n",
    "xx = np.linspace(-8, 8, 100) #-8에서 8까지 100등분\n",
    "rv = sp.stats.norm(loc=1, scale=2)\n",
    "cdf = rv.cdf(xx) #누적함수\n",
    "pdf = rv.pdf(xx) #확률밀도함수(누적분포함수를 미분)\n",
    "\n",
    "print(xx[:5])\n",
    "print(cdf[:5])\n",
    "plt.plot(xx, pdf)\n",
    "plt.plot(xx, cdf)\n",
    "plt.show()"
   ]
  },
  {
   "cell_type": "code",
   "execution_count": 3,
   "metadata": {},
   "outputs": [
    {
     "name": "stdout",
     "output_type": "stream",
     "text": [
      "[-0.85409574  1.49407907 -0.34791215  0.44386323 -0.18718385]\n",
      "[ 69.16576208 129.94932345  80.01389923 100.30585701 107.20314663]\n",
      "15.896958364551972\n"
     ]
    }
   ],
   "source": [
    "#회귀함수\n",
    "#사이킷런\n",
    "from sklearn.datasets import make_regression\n",
    "#가상의 회귀분석 데이터 생성 함수\n",
    "#n_features : 독립변수의 개수, bias:y절편\n",
    "#noise: y의 표준편차\n",
    "#coef: 회귀계수(기울기) 사용 여부, True이면 w값을 리턴함\n",
    "\n",
    "X,y,w = make_regression(\n",
    "    n_samples=50, n_features=1, bias=100, noise=10,\n",
    "    random_state=0, coef=True\n",
    ")\n",
    "\n",
    "print(X[:5].flatten()) #2차원 배열을 1차원 배열로 변환\n",
    "print(y[:5])\n",
    "print(w)"
   ]
  },
  {
   "cell_type": "code",
   "execution_count": 4,
   "metadata": {},
   "outputs": [],
   "source": [
    "import numpy as np\n",
    "\n",
    "xx = np.linspace(-3, 3, 100)\n",
    "y0 = w * xx + 100 #회귀함수, 기울기*x + 절편"
   ]
  },
  {
   "cell_type": "code",
   "execution_count": 5,
   "metadata": {},
   "outputs": [
    {
     "data": {
      "text/plain": [
       "Text(0.5, 1.0, 'regression')"
      ]
     },
     "execution_count": 5,
     "metadata": {},
     "output_type": "execute_result"
    },
    {
     "data": {
      "image/png": "[encoded data removed]",
      "text/plain": [
       "<Figure size 432x288 with 1 Axes>"
      ]
     },
     "metadata": {
      "needs_background": "light"
     },
     "output_type": "display_data"
    }
   ],
   "source": [
    "%matplotlib inline\n",
    "import matplotlib.pyplot as plt\n",
    "plt.plot(xx, y0, 'r-')\n",
    "plt.scatter(X, y, s=100)\n",
    "plt.xlabel('x')\n",
    "plt.ylabel('y')\n",
    "plt.title('regression')"
   ]
  }
 ],
 "metadata": {
  "interpreter": {
   "hash": "cef9e06bb236b2a8629b07e87a04b187b952a0f661eff5533360a155783f0c33"
  },
  "kernelspec": {
   "display_name": "Python 3.8.8 64-bit ('base': conda)",
   "language": "python",
   "name": "python3"
  },
  "language_info": {
   "codemirror_mode": {
    "name": "ipython",
    "version": 3
   },
   "file_extension": ".py",
   "mimetype": "text/x-python",
   "name": "python",
   "nbconvert_exporter": "python",
   "pygments_lexer": "ipython3",
   "version": "3.8.8"
  },
  "orig_nbformat": 4
 },
 "nbformat": 4,
 "nbformat_minor": 2
}
