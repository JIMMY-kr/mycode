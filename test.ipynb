{
 "cells": [
  {
   "cell_type": "code",
   "execution_count": null,
   "metadata": {},
   "outputs": [],
   "source": [
    "import keyword\n",
    "pring(keyword.kwlist)\n",
    "print(len(keyword.kwlist))"
   ]
  },
  {
   "cell_type": "code",
   "execution_count": null,
   "metadata": {},
   "outputs": [],
   "source": [
    "import keyword\n",
    "print(keyword.kwlist)\n",
    "print(len(keyword.kwlist))"
   ]
  },
  {
   "cell_type": "code",
   "execution_count": null,
   "metadata": {},
   "outputs": [],
   "source": [
    "a=10\n",
    "a+=1\n",
    "print(a)"
   ]
  },
  {
   "cell_type": "code",
   "execution_count": null,
   "metadata": {},
   "outputs": [],
   "source": [
    "a,b = 10,20\n",
    "print(a,b)\n",
    "a,b = b,a\n",
    "print(a,b)"
   ]
  },
  {
   "cell_type": "code",
   "execution_count": null,
   "metadata": {},
   "outputs": [],
   "source": [
    "b = 2\n",
    "print(b)\n",
    "del b\n",
    "print(b)"
   ]
  },
  {
   "cell_type": "code",
   "execution_count": null,
   "metadata": {},
   "outputs": [],
   "source": [
    "x=9\n",
    "print('정수: {}'.format(x))\n",
    "print('정수: {}'.foramt(3**4))\n",
    "print('정수: {}'.format((int(8.3)/int(2.7))))"
   ]
  },
  {
   "cell_type": "code",
   "execution_count": null,
   "metadata": {},
   "outputs": [],
   "source": [
    "x=9\n",
    "print('정수: {}'.format(x))\n",
    "print('정수: {}'.format(3**4))\n",
    "print('정수: {}'.format((int(8.3)/int(2.7))))"
   ]
  },
  {
   "cell_type": "code",
   "execution_count": null,
   "metadata": {},
   "outputs": [],
   "source": [
    "print(8.3/2.7)\n",
    "print('8.3 : {0:.3f}'.format(8.3/2.7))\n",
    "y=2.5*4.8\n",
    "print('{:.1f}'.format(y))\n",
    "r=8/float(3)\n",
    "print('{:.2f}'.format(r))\n",
    "print('{:.2f}'.format(8.0/3))"
   ]
  },
  {
   "cell_type": "code",
   "execution_count": null,
   "metadata": {},
   "outputs": [],
   "source": [
    "cls"
   ]
  },
  {
   "cell_type": "code",
   "execution_count": null,
   "metadata": {},
   "outputs": [],
   "source": [
    "a=1\n",
    "b=3\n",
    "if a ==1 and b == 3:\n",
    "    print('ok')"
   ]
  },
  {
   "cell_type": "code",
   "execution_count": 4,
   "metadata": {},
   "outputs": [
    {
     "data": {
      "text/plain": [
       "'hello'"
      ]
     },
     "execution_count": 4,
     "metadata": {},
     "output_type": "execute_result"
    }
   ],
   "source": [
    "a=\"he\"\n",
    "b=\"llo\"\n",
    "a+b"
   ]
  },
  {
   "cell_type": "markdown",
   "metadata": {},
   "source": []
  },
  {
   "cell_type": "code",
   "execution_count": 7,
   "metadata": {},
   "outputs": [
    {
     "name": "stdout",
     "output_type": "stream",
     "text": [
      "name:kim\n",
      "age:20\n"
     ]
    }
   ],
   "source": [
    "name='kim'\n",
    "age='20'\n",
    "print('name:'+name)\n",
    "print('age:'+str(age))"
   ]
  },
  {
   "cell_type": "code",
   "execution_count": 8,
   "metadata": {},
   "outputs": [
    {
     "name": "stdout",
     "output_type": "stream",
     "text": [
      "pythonpython\n",
      "pythonpythonpython\n",
      "==================================================\n",
      "My program\n",
      "==================================================\n"
     ]
    }
   ],
   "source": [
    "a='python'\n",
    "print(a*2)\n",
    "print(a*3)\n",
    "print('='*50)\n",
    "print('My program')\n",
    "print('='*50)"
   ]
  },
  {
   "cell_type": "code",
   "execution_count": 10,
   "metadata": {},
   "outputs": [
    {
     "name": "stdout",
     "output_type": "stream",
     "text": [
      "l\n",
      "o\n",
      "hell\n",
      "\n",
      "hello python\n"
     ]
    }
   ],
   "source": [
    "a='hello python'\n",
    "print(a[3])\n",
    "print(a[-2])\n",
    "print(a[0:4])\n",
    "print(a[3:0])\n",
    "print(a[:])"
   ]
  },
  {
   "cell_type": "code",
   "execution_count": 13,
   "metadata": {},
   "outputs": [
    {
     "name": "stdout",
     "output_type": "stream",
     "text": [
      "True\n",
      "False\n"
     ]
    },
    {
     "ename": "NameError",
     "evalue": "name 'cls' is not defined",
     "output_type": "error",
     "traceback": [
      "\u001b[1;31m---------------------------------------------------------------------------\u001b[0m",
      "\u001b[1;31mNameError\u001b[0m                                 Traceback (most recent call last)",
      "\u001b[1;32m<ipython-input-13-df0f059af8b3>\u001b[0m in \u001b[0;36m<module>\u001b[1;34m\u001b[0m\n\u001b[0;32m      2\u001b[0m \u001b[0mprint\u001b[0m\u001b[1;33m(\u001b[0m\u001b[1;34m'world'\u001b[0m \u001b[1;32min\u001b[0m \u001b[0ma\u001b[0m\u001b[1;33m)\u001b[0m\u001b[1;33m\u001b[0m\u001b[1;33m\u001b[0m\u001b[0m\n\u001b[0;32m      3\u001b[0m \u001b[0mprint\u001b[0m\u001b[1;33m(\u001b[0m\u001b[1;34m'world'\u001b[0m \u001b[1;32mnot\u001b[0m \u001b[1;32min\u001b[0m \u001b[0ma\u001b[0m\u001b[1;33m)\u001b[0m\u001b[1;33m\u001b[0m\u001b[1;33m\u001b[0m\u001b[0m\n\u001b[1;32m----> 4\u001b[1;33m \u001b[0mcls\u001b[0m\u001b[1;33m\u001b[0m\u001b[1;33m\u001b[0m\u001b[0m\n\u001b[0m",
      "\u001b[1;31mNameError\u001b[0m: name 'cls' is not defined"
     ]
    }
   ],
   "source": [
    "a='hello world'\n",
    "print('world' in a)\n",
    "print('world' not in a)"
   ]
  },
  {
   "cell_type": "code",
   "execution_count": 12,
   "metadata": {},
   "outputs": [
    {
     "name": "stdout",
     "output_type": "stream",
     "text": [
      "your age is 20\n",
      "I like apple\n",
      "John's age is 20\n",
      "accuracy: 98%\n",
      "perimeter:     3.141\n"
     ]
    }
   ],
   "source": [
    "age=20\n",
    "print('your age is %s' % age)\n",
    "fruit='apple'\n",
    "print('I like %s' % fruit)\n",
    "name=\"John\"\n",
    "print(\"%s's age is %d\" %(name, age))\n",
    "rate=98\n",
    "print('accuracy: %d%%' % rate)\n",
    "point=3.141492\n",
    "print('perimeter:%10.3f' % point)"
   ]
  },
  {
   "cell_type": "code",
   "execution_count": 15,
   "metadata": {},
   "outputs": [
    {
     "name": "stdout",
     "output_type": "stream",
     "text": [
      "\f\n"
     ]
    }
   ],
   "source": [
    "cls"
   ]
  },
  {
   "cell_type": "code",
   "execution_count": 20,
   "metadata": {},
   "outputs": [
    {
     "name": "stdout",
     "output_type": "stream",
     "text": [
      "age:15\n",
      "John\n",
      "John's age is 20.\n"
     ]
    }
   ],
   "source": [
    "age=15\n",
    "result='age:{}'.format(age)\n",
    "print(result)\n",
    "\n",
    "name=\"John\"\n",
    "result=\"name:{}\".format(name)\n",
    "print(name)\n",
    "\n",
    "result=\"{name}'s age is {age}.\".format(name=\"John\", age=\"20\")\n",
    "print(result)"
   ]
  },
  {
   "cell_type": "code",
   "execution_count": 22,
   "metadata": {},
   "outputs": [
    {
     "name": "stdout",
     "output_type": "stream",
     "text": [
      "hi        \n",
      "        hi\n",
      "    hi    \n",
      "====hi====\n",
      "----hi----\n"
     ]
    }
   ],
   "source": [
    "result='{0:<10}'.format('hi') #왼쪽정렬\n",
    "print(result)\n",
    "\n",
    "result='{0:>10}'.format('hi') #오른쪽 정렬\n",
    "print(result)\n",
    "\n",
    "result='{0:^10}'.format('hi') #가운대 정력\n",
    "print(result)\n",
    "\n",
    "result='{0:=^10}'.format('hi') #공백문자 대체\n",
    "print(result)\n",
    "\n",
    "result='{0:-^10}'.format('hi')\n",
    "print(result)"
   ]
  },
  {
   "cell_type": "code",
   "execution_count": 23,
   "metadata": {},
   "outputs": [
    {
     "name": "stdout",
     "output_type": "stream",
     "text": [
      "a,b,c,d\n"
     ]
    }
   ],
   "source": [
    "a=','\n",
    "result=a.join('abcd')\n",
    "print(result)"
   ]
  },
  {
   "cell_type": "code",
   "execution_count": 25,
   "metadata": {},
   "outputs": [
    {
     "name": "stdout",
     "output_type": "stream",
     "text": [
      "HI\n",
      "hi\n",
      "Python program\n"
     ]
    }
   ],
   "source": [
    "a='hi'\n",
    "result=a.upper()\n",
    "print(result)\n",
    "\n",
    "a=\"HI\"\n",
    "result=a.lower()\n",
    "print(result)\n",
    "\n",
    "a='python program'\n",
    "result=a.capitalize()\n",
    "print(result)"
   ]
  },
  {
   "cell_type": "code",
   "execution_count": 26,
   "metadata": {},
   "outputs": [
    {
     "name": "stdout",
     "output_type": "stream",
     "text": [
      "2\n"
     ]
    }
   ],
   "source": [
    "a='hobby'\n",
    "print(a.count('b'))"
   ]
  },
  {
   "cell_type": "code",
   "execution_count": 27,
   "metadata": {},
   "outputs": [
    {
     "name": "stdout",
     "output_type": "stream",
     "text": [
      "7\n"
     ]
    }
   ],
   "source": [
    "a='have a nice day.'\n",
    "print(a.find('nice'))"
   ]
  },
  {
   "cell_type": "code",
   "execution_count": 28,
   "metadata": {},
   "outputs": [
    {
     "name": "stdout",
     "output_type": "stream",
     "text": [
      "8\n"
     ]
    }
   ],
   "source": [
    "a='Life is too short'\n",
    "print(a.index('too'))"
   ]
  },
  {
   "cell_type": "code",
   "execution_count": 32,
   "metadata": {},
   "outputs": [
    {
     "name": "stdout",
     "output_type": "stream",
     "text": [
      "hi    \n",
      "    hi\n",
      "hi\n"
     ]
    }
   ],
   "source": [
    "a='    hi    '\n",
    "result=a.lstrip() #왼쪽공백제거\n",
    "print(result)\n",
    "\n",
    "result=a.rstrip() #오른쪽공백제거\n",
    "print(result)\n",
    "\n",
    "result=a.strip() #공백제거\n",
    "print(result)"
   ]
  },
  {
   "cell_type": "code",
   "execution_count": 33,
   "metadata": {},
   "outputs": [
    {
     "name": "stdout",
     "output_type": "stream",
     "text": [
      "old developer\n"
     ]
    }
   ],
   "source": [
    "a='new developer'\n",
    "result=a.replace('new', 'old')\n",
    "print(result)"
   ]
  },
  {
   "cell_type": "code",
   "execution_count": 34,
   "metadata": {},
   "outputs": [
    {
     "name": "stdout",
     "output_type": "stream",
     "text": [
      "['a', 'b', 'c', 'd']\n"
     ]
    }
   ],
   "source": [
    "a='a:b:c:d'\n",
    "result=a.split(':') #구분자 지정\n",
    "print(result)"
   ]
  },
  {
   "cell_type": "code",
   "execution_count": null,
   "metadata": {},
   "outputs": [],
   "source": []
  }
 ],
 "metadata": {
  "interpreter": {
   "hash": "cef9e06bb236b2a8629b07e87a04b187b952a0f661eff5533360a155783f0c33"
  },
  "kernelspec": {
   "display_name": "Python 3.8.8 64-bit ('base': conda)",
   "language": "python",
   "name": "python3"
  },
  "language_info": {
   "codemirror_mode": {
    "name": "ipython",
    "version": 3
   },
   "file_extension": ".py",
   "mimetype": "text/x-python",
   "name": "python",
   "nbconvert_exporter": "python",
   "pygments_lexer": "ipython3",
   "version": "3.8.8"
  },
  "orig_nbformat": 4
 },
 "nbformat": 4,
 "nbformat_minor": 2
}
