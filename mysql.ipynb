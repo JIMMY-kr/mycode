{
 "cells": [
  {
   "cell_type": "code",
   "execution_count": 4,
   "metadata": {},
   "outputs": [
    {
     "name": "stdout",
     "output_type": "stream",
     "text": [
      "['A', '001-1001', '2341', '500000', '2014-01-20']\n",
      "['A', '001-1001', '2341', '500000', '2014-01-20']\n",
      "['A', '001-1001', '5467', '750000', '2014-01-20']\n",
      "['A', '001-1001', '5467', '750000', '2014-01-20']\n",
      "['B', '50-9501', '7009', '250000', '2018-01-30']\n",
      "['B', '50-9501', '7009', '250000', '2018-01-30']\n",
      "['B', '50-9505', '6650', '125000', '2017-02-03']\n",
      "['B', '50-9505', '6650', '125000', '2017-02-03']\n",
      "['C', '920-4803', '3321', '615000', '2017-02-03']\n",
      "['C', '920-4804', '3321', '615000', '2017-02-10']\n",
      "['C', '920-4805', '3321', '615000', '2017-02-17']\n",
      "['C', '920-4806', '3321', '615000', '2017-02-24']\n",
      "['A', '001-1001', '2341', '500000.0', '2014-01-20']\n",
      "['A', '001-1001', '2341', '500000.0', '2014-01-20']\n",
      "['A', '001-1001', '5467', '750000.0', '2014-01-20']\n",
      "['A', '001-1001', '5467', '750000.0', '2014-01-20']\n",
      "['B', '50-9501', '7009', '250000.0', '2018-01-30']\n",
      "['B', '50-9501', '7009', '250000.0', '2018-01-30']\n",
      "['B', '50-9505', '6650', '125000.0', '2017-02-03']\n",
      "['B', '50-9505', '6650', '125000.0', '2017-02-03']\n",
      "['C', '920-4803', '3321', '615000.0', '2017-02-03']\n",
      "['C', '920-4804', '3321', '615000.0', '2017-02-10']\n",
      "['C', '920-4805', '3321', '615000.0', '2017-02-17']\n",
      "['C', '920-4806', '3321', '615000.0', '2017-02-24']\n"
     ]
    }
   ],
   "source": [
    "import csv\n",
    "import MySQLdb\n",
    "\n",
    "input_file='c:/data/db/input.csv'\n",
    "#mysql 서버에 접속\n",
    "conn=MySQLdb.connect(host='localhost', port=3306,db='my_suppliers',user='python',passwd='1234',charset='utf8')\n",
    "cursor = conn.cursor() #select 명령어는 반드시 cursor가 필요\n",
    "file_reader = csv.reader(open(input_file)) #csv파일을 불러옴\n",
    "header = next(file_reader)#첫 행을 읽음\n",
    "for row in file_reader:\n",
    "    data=[]\n",
    "    for idx in range(len(header)):\n",
    "        data.append(row[idx])\n",
    "    print(data)\n",
    "    #mysql에 저장\n",
    "    cursor.execute('insert into suppliers values (%s,%s,%s,%s,%s)',data)\n",
    "conn.commit()\n",
    "cursor.execute('select * from suppliers')\n",
    "rows = cursor.fetchall()\n",
    "for row in rows:\n",
    "    output=[]\n",
    "    for idx in range(len(row)):\n",
    "        output.append(str(row[idx]))#리스트에 추가\n",
    "    print(output)"
   ]
  },
  {
   "cell_type": "code",
   "execution_count": 7,
   "metadata": {},
   "outputs": [],
   "source": [
    "output_file='c:/data/db/mysql_output.csv'\n",
    "cursor=conn.cursor()\n",
    "filewriter=csv.writer(open(output_file,'w'))\n",
    "header=['Supplier Name', 'Invoice Number', 'Part Number', 'Cost', 'Purchase Date']\n",
    "filewriter.writerow(header)\n",
    "cursor.execute('select * from suppliers where cost > 500000')\n",
    "rows = cursor.fetchall()\n",
    "for row in rows:\n",
    "    filewriter.writerow(row)"
   ]
  },
  {
   "cell_type": "code",
   "execution_count": 8,
   "metadata": {},
   "outputs": [],
   "source": [
    "sql='update suppliers set cost=%s, purchase_date=%s where supplier_name=%s'\n",
    "cursor.execute(sql, (777,'2014-01-20','A'))\n",
    "conn.commit()"
   ]
  },
  {
   "cell_type": "code",
   "execution_count": 9,
   "metadata": {},
   "outputs": [
    {
     "name": "stdout",
     "output_type": "stream",
     "text": [
      "['A', '001-1001', '2341', '777.0', '2014-01-20']\n",
      "['A', '001-1001', '2341', '777.0', '2014-01-20']\n",
      "['A', '001-1001', '5467', '777.0', '2014-01-20']\n",
      "['A', '001-1001', '5467', '777.0', '2014-01-20']\n",
      "['B', '50-9501', '7009', '250000.0', '2018-01-30']\n",
      "['B', '50-9501', '7009', '250000.0', '2018-01-30']\n",
      "['B', '50-9505', '6650', '125000.0', '2017-02-03']\n",
      "['B', '50-9505', '6650', '125000.0', '2017-02-03']\n",
      "['C', '920-4803', '3321', '615000.0', '2017-02-03']\n",
      "['C', '920-4804', '3321', '615000.0', '2017-02-10']\n",
      "['C', '920-4805', '3321', '615000.0', '2017-02-17']\n",
      "['C', '920-4806', '3321', '615000.0', '2017-02-24']\n"
     ]
    }
   ],
   "source": [
    "cursor.execute('select * from suppliers')\n",
    "rows=cursor.fetchall()\n",
    "for row in rows:\n",
    "    output=[]\n",
    "    for idx in range(len(row)):\n",
    "        output.append(str(row[idx]))\n",
    "    print(output)"
   ]
  },
  {
   "cell_type": "code",
   "execution_count": 2,
   "metadata": {},
   "outputs": [
    {
     "name": "stdout",
     "output_type": "stream",
     "text": [
      "(2008, 1, 3, 4, 2003, 1955, 2211, 2225, 'WN', 335, 'N712SW', 128, 150, 116, -14, 8, 'IAD', 'TPA', 810, 4, 8, 0, '', '0', 0, 0, 0, 0, 0)\n",
      "(2008, 1, 3, 4, 754, 735, 1002, 1000, 'WN', 3231, 'N772SW', 128, 145, 113, 2, 19, 'IAD', 'TPA', 810, 5, 10, 0, '', '0', 0, 0, 0, 0, 0)\n",
      "(2008, 1, 3, 4, 628, 620, 804, 750, 'WN', 448, 'N428WN', 96, 90, 76, 14, 8, 'IND', 'BWI', 515, 3, 17, 0, '', '0', 0, 0, 0, 0, 0)\n",
      "(2008, 1, 3, 4, 926, 930, 1054, 1100, 'WN', 1746, 'N612SW', 88, 90, 78, -6, -4, 'IND', 'BWI', 515, 3, 7, 0, '', '0', 0, 0, 0, 0, 0)\n",
      "(2008, 1, 3, 4, 1829, 1755, 1959, 1925, 'WN', 3920, 'N464WN', 90, 90, 77, 34, 34, 'IND', 'BWI', 515, 3, 10, 0, '', '0', 2, 0, 0, 0, 32)\n"
     ]
    }
   ],
   "source": [
    "import MySQLdb\n",
    "conn=MySQLdb.connect(host='localhost', port=3306, db='ontime', user='python', passwd='1234')\n",
    "cursor=conn.cursor()\n",
    "cursor.execute('select * from ontime limit 5')\n",
    "rows = cursor.fetchall()\n",
    "for row in rows:\n",
    "    print(row)\n",
    "\n",
    "cursor.close()\n",
    "conn.close()"
   ]
  },
  {
   "cell_type": "code",
   "execution_count": 6,
   "metadata": {},
   "outputs": [
    {
     "name": "stdout",
     "output_type": "stream",
     "text": [
      "WN\t10.2763\n",
      "XE\t11.0937\n",
      "YV\t11.5720\n",
      "OH\t11.1605\n",
      "OO\t7.2953\n",
      "UA\t13.7844\n",
      "US\t5.6355\n",
      "DL\t7.8880\n",
      "EV\t11.7114\n",
      "F9\t5.9011\n",
      "FL\t9.1839\n",
      "HA\t0.4511\n",
      "MQ\t10.2998\n",
      "NW\t6.4098\n",
      "9E\t6.5856\n",
      "AA\t12.8999\n",
      "AQ\t-1.3903\n",
      "AS\t6.7527\n",
      "B6\t12.4477\n",
      "CO\t13.0236\n"
     ]
    }
   ],
   "source": [
    "#항공사별 출발 지연시간의 평균\n",
    "import MySQLdb\n",
    "conn=MySQLdb.connect(host='localhost', port=3306, db='ontime', user='python', passwd='1234')\n",
    "cursor=conn.cursor()\n",
    "cursor.execute('''select uniquecarrier,\n",
    "avg(depdelay)\n",
    "from ontime\n",
    "group by uniquecarrier''')\n",
    "rows = cursor.fetchall()\n",
    "for row in rows:\n",
    "    print(f'{row[0]}\\t{row[1]}')\n",
    "\n",
    "cursor.close()\n",
    "conn.close()"
   ]
  },
  {
   "cell_type": "code",
   "execution_count": 9,
   "metadata": {},
   "outputs": [
    {
     "name": "stdout",
     "output_type": "stream",
     "text": [
      "(1, 279427)\n",
      "(2, 278902)\n",
      "(3, 294556)\n",
      "(4, 256142)\n",
      "(5, 254673)\n",
      "(6, 295897)\n",
      "(7, 264630)\n",
      "(8, 239737)\n",
      "(9, 169959)\n",
      "(10, 183582)\n",
      "(11, 181506)\n",
      "(12, 280493)\n"
     ]
    }
   ],
   "source": [
    "#2008년 도착 지연횟수 월별 집계\n",
    "import MySQLdb\n",
    "conn=MySQLdb.connect(host='localhost', port=3306, db='ontime', user='python', passwd='1234')\n",
    "cursor=conn.cursor()\n",
    "cursor.execute('''select month,\n",
    "count(*)\n",
    "from ontime\n",
    "where year=2008 and arrdelay > 0\n",
    "group by month''')\n",
    "rows = cursor.fetchall()\n",
    "for row in rows:\n",
    "    print(row)\n",
    "\n",
    "cursor.close()\n",
    "conn.close()"
   ]
  },
  {
   "cell_type": "code",
   "execution_count": 10,
   "metadata": {},
   "outputs": [
    {
     "name": "stdout",
     "output_type": "stream",
     "text": [
      "[1, 2, 3, 4, 5, 6, 7, 8, 9, 10, 11, 12]\n",
      "[279427, 278902, 294556, 256142, 254673, 295897, 264630, 239737, 169959, 183582, 181506, 280493]\n"
     ]
    }
   ],
   "source": [
    "x=list(range(1,13))\n",
    "y=[]\n",
    "for row in rows:\n",
    "    y.append(row[1])\n",
    "\n",
    "print(x)\n",
    "print(y)"
   ]
  },
  {
   "cell_type": "code",
   "execution_count": 12,
   "metadata": {},
   "outputs": [
    {
     "data": {
      "image/png": "[encoded data removed]",
      "text/plain": [
       "<Figure size 432x288 with 1 Axes>"
      ]
     },
     "metadata": {
      "needs_background": "light"
     },
     "output_type": "display_data"
    }
   ],
   "source": [
    "import pandas as pd\n",
    "%matplotlib inline\n",
    "import matplotlib.pyplot as plt\n",
    "\n",
    "plt.plot(x,y)\n",
    "plt.bar(x,y)\n",
    "plt.show() #그래프 제목 삭제"
   ]
  },
  {
   "cell_type": "code",
   "execution_count": 14,
   "metadata": {},
   "outputs": [
    {
     "name": "stdout",
     "output_type": "stream",
     "text": [
      "(1, Decimal('8.0303'))\n",
      "(2, Decimal('7.2923'))\n",
      "(3, Decimal('6.3798'))\n",
      "(4, Decimal('8.2465'))\n",
      "(5, Decimal('10.6752'))\n",
      "(6, Decimal('5.6825'))\n",
      "(7, Decimal('9.2941'))\n"
     ]
    }
   ],
   "source": [
    "#요일별 평귣 지연시간\n",
    "import MySQLdb\n",
    "conn=MySQLdb.connect(host='localhost', port=3306, db='ontime', user='python', passwd='1234')\n",
    "cursor=conn.cursor()\n",
    "cursor.execute('''select dayofweek,\n",
    "avg(arrdelay)\n",
    "from ontime\n",
    "group by dayofweek\n",
    "order by dayofweek''')\n",
    "rows = cursor.fetchall()\n",
    "for row in rows:\n",
    "    print(row)\n",
    "\n",
    "cursor.close()\n",
    "conn.close()"
   ]
  },
  {
   "cell_type": "code",
   "execution_count": 15,
   "metadata": {},
   "outputs": [
    {
     "name": "stdout",
     "output_type": "stream",
     "text": [
      "['월', '화', '수', '목', '금', '토', '일']\n",
      "[Decimal('8.0303'), Decimal('7.2923'), Decimal('6.3798'), Decimal('8.2465'), Decimal('10.6752'), Decimal('5.6825'), Decimal('9.2941')]\n"
     ]
    }
   ],
   "source": [
    "x=['월','화','수','목','금','토','일']\n",
    "y=[]\n",
    "for row in rows:\n",
    "    y.append(row[1])\n",
    "print(x)\n",
    "print(y)"
   ]
  },
  {
   "cell_type": "code",
   "execution_count": 16,
   "metadata": {},
   "outputs": [
    {
     "data": {
      "text/plain": [
       "([0, 1, 2, 3, 4, 5, 6],\n",
       " [Text(0, 0, ''),\n",
       "  Text(0, 0, ''),\n",
       "  Text(0, 0, ''),\n",
       "  Text(0, 0, ''),\n",
       "  Text(0, 0, ''),\n",
       "  Text(0, 0, ''),\n",
       "  Text(0, 0, '')])"
      ]
     },
     "execution_count": 16,
     "metadata": {},
     "output_type": "execute_result"
    },
    {
     "data": {
      "image/png": "[encoded data removed]",
      "text/plain": [
       "<Figure size 432x288 with 1 Axes>"
      ]
     },
     "metadata": {
      "needs_background": "light"
     },
     "output_type": "display_data"
    }
   ],
   "source": [
    "import pandas as pd\n",
    "%matplotlib inline\n",
    "import matplotlib.pyplot as plt\n",
    "\n",
    "from matplotlib import rc, font_manager\n",
    "font_name=font_manager.FontProperties(fname='c:/windows/fonts/gulim.ttc').get_name()\n",
    "rc('font', family=font_name)\n",
    "\n",
    "plt.plot(x,y)\n",
    "plt.bar(x,y)\n",
    "plt.xticks(rotation=0)"
   ]
  },
  {
   "cell_type": "code",
   "execution_count": 17,
   "metadata": {},
   "outputs": [
    {
     "name": "stdout",
     "output_type": "stream",
     "text": [
      "(2202, Decimal('-28.0000'))\n"
     ]
    }
   ],
   "source": [
    "# 시간대별(10월, 월요일에 출발할 때 가장 좋은 시간대)\n",
    "import MySQLdb\n",
    "conn=MySQLdb.connect(host='localhost', port=3306, db='ontime', user='python', passwd='1234')\n",
    "cursor=conn.cursor()\n",
    "cursor.execute('''select CRSDepTime,\n",
    "avg(arrdelay) arrdelay\n",
    "from ontime\n",
    "where month=10 and dayofweek=1\n",
    "group by CRSDepTime\n",
    "order by avg(arrdelay)\n",
    "limit 1''')\n",
    "\n",
    "rows = cursor.fetchall()\n",
    "for row in rows:   \n",
    "    print(row)\n",
    "\n",
    "cursor.close()\n",
    "conn.close()"
   ]
  },
  {
   "cell_type": "code",
   "execution_count": null,
   "metadata": {},
   "outputs": [],
   "source": []
  }
 ],
 "metadata": {
  "interpreter": {
   "hash": "cef9e06bb236b2a8629b07e87a04b187b952a0f661eff5533360a155783f0c33"
  },
  "kernelspec": {
   "display_name": "Python 3.8.8 64-bit ('base': conda)",
   "language": "python",
   "name": "python3"
  },
  "language_info": {
   "codemirror_mode": {
    "name": "ipython",
    "version": 3
   },
   "file_extension": ".py",
   "mimetype": "text/x-python",
   "name": "python",
   "nbconvert_exporter": "python",
   "pygments_lexer": "ipython3",
   "version": "3.8.8"
  },
  "orig_nbformat": 4
 },
 "nbformat": 4,
 "nbformat_minor": 2
}
