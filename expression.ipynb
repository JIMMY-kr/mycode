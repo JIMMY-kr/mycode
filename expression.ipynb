{
 "cells": [
  {
   "cell_type": "code",
   "execution_count": 3,
   "metadata": {},
   "outputs": [
    {
     "name": "stdout",
     "output_type": "stream",
     "text": [
      "total: 1\n",
      "total: 1\n",
      "input error. please input again.\n",
      "input error. please input again.\n",
      "input error. please input again.\n",
      "total: 1\n",
      "input error. please input again.\n",
      "input error. please input again.\n",
      "input error. please input again.\n",
      "total: 1\n",
      "input error. please input again.\n",
      "input error. please input again.\n"
     ]
    }
   ],
   "source": [
    "while True:\n",
    "    try:\n",
    "        n=int(input('input a number:'))\n",
    "        result=0\n",
    "        for i in range(1, n+1):\n",
    "            result += i\n",
    "        print('total:', result)\n",
    "        break\n",
    "    except:\n",
    "        print('input error. please input again.')\n"
   ]
  },
  {
   "cell_type": "code",
   "execution_count": 3,
   "metadata": {},
   "outputs": [
    {
     "name": "stdout",
     "output_type": "stream",
     "text": [
      "['y', 'i', 'd', 'n', 'u', 'm', 'b', 'e', 'r', 'i', 's', 'l', 'i', 'm']\n",
      "['y', 'id', 'number', 'is', 'lim']\n",
      "['M']\n",
      "['0', '6', '2', '8']\n",
      "['0628']\n"
     ]
    }
   ],
   "source": [
    "import re #정규 표현식 모듈\n",
    "\n",
    "s='My id number is lim0628'\n",
    "a=re.findall('[a-z]',s)\n",
    "print(a)\n",
    "\n",
    "a=re.findall('[a-z]+',s)\n",
    "print(a)\n",
    "\n",
    "a=re.findall('[A-Z]', s)\n",
    "print(a)\n",
    "\n",
    "a=re.findall('[0-9]', s)\n",
    "print(a)\n",
    "\n",
    "a=re.findall('[0-9]+', s)\n",
    "print(a)"
   ]
  },
  {
   "cell_type": "code",
   "execution_count": 6,
   "metadata": {},
   "outputs": [
    {
     "name": "stdout",
     "output_type": "stream",
     "text": [
      "['M', 'y', 'i', 'd', 'n', 'u', 'm', 'b', 'e', 'r', 'i', 's', 'l', 'i', 'm', '0', '6', '2', '8', '_']\n",
      "['My', 'id', 'number', 'is', 'lim0628']\n",
      "[' ', ' ', ' ', ' ', '$', '%', '#', '_']\n",
      "['M', 'y', 'i', 'd', 'n', 'u', 'm', 'b', 'e', 'r', 'i', 's', 'l', 'i', 'm', '0', '6', '2', '8', '_']\n",
      "['My', 'id', 'number', 'is', 'lim0628', '_']\n",
      "['My', 'id', 'number', 'is', 'lim0628', '_']\n"
     ]
    }
   ],
   "source": [
    "s='My id number is lim0628$%#_'\n",
    "a=re.findall('[a-zA-z0-9]',s) #소문자, 대문자, 숫자 패턴\n",
    "print(a)\n",
    "\n",
    "a=re.findall('[a-zA-Z0-9]+', s) # + 반복옵션(단어 단위)\n",
    "print(a)\n",
    "\n",
    "a=re.findall('[^a-zA-Z0-9]',s) # ^ not\n",
    "print(a)\n",
    "\n",
    "a=re.findall('[\\w]',s) #영문자, 숫자, _(단어단위)\n",
    "print(a)\n",
    "\n",
    "a=re.findall('[\\w]+',s)\n",
    "print(a)\n",
    "\n",
    "f=re.findall('[\\W]+',s) #영문자, 숫자, _가 아닌경우\n",
    "print(a)"
   ]
  },
  {
   "cell_type": "code",
   "execution_count": 9,
   "metadata": {},
   "outputs": [
    {
     "name": "stdout",
     "output_type": "stream",
     "text": [
      "12abc ==> incorrect password length.\n",
      "123abc ==> password needs capitalized character.\n",
      "123abc% ==> password should be composed by english character and number.\n",
      "123Abc ==> right password type.\n"
     ]
    }
   ],
   "source": [
    "import re\n",
    "def pwd_check(pwd):\n",
    "    if len(pwd) < 6 or len(pwd) > 12:\n",
    "        print(pwd, '==> incorrect password length.')\n",
    "        return\n",
    "    if re.findall('[a-zA-Z0-9]+', pwd)[0] != pwd:\n",
    "        print(pwd, '==> password should be composed by english character and number.')\n",
    "        return\n",
    "    \n",
    "    if len(re.findall('[a-z]', pwd))==0 or len(re.findall('[A-Z]', pwd))==0:\n",
    "        print(pwd, '==> password needs capitalized character.')\n",
    "        return\n",
    "    print(pwd, '==> right password type.')\n",
    "\n",
    "pwd_check('12abc')\n",
    "pwd_check('123abc')\n",
    "pwd_check('123abc%')\n",
    "pwd_check('123Abc')"
   ]
  },
  {
   "cell_type": "code",
   "execution_count": 12,
   "metadata": {},
   "outputs": [
    {
     "name": "stdout",
     "output_type": "stream",
     "text": [
      "lim@gmail ==> wrong email form.\n",
      "lim_gmail.com ==> wrong email form.\n",
      "lim ==> wrong email form.\n",
      "lim@gmail.com ==> correct email form!\n",
      "lim@naver.com ==> incorrect password length.\n",
      "wrong email form\n"
     ]
    }
   ],
   "source": [
    "import re\n",
    "def email_check(email):\n",
    "    exp=re.findall('^[a-z0-9]{2,}@[a-z0-9]{2,}\\.[a-z]{2,}$',email)\n",
    "    if len(exp) == 0:\n",
    "        print(email, '==> wrong email form.')\n",
    "        return False\n",
    "\n",
    "    print(email, '==> correct email form!')\n",
    "    return True\n",
    "\n",
    "email_check('lim@gmail')\n",
    "email_check('lim_gmail.com')\n",
    "email_check('lim')\n",
    "email_check('lim@gmail.com')\n",
    "\n",
    "a=input('please input password')\n",
    "if pwd_check(a):\n",
    "    print(\"form passed\")\n",
    "else:\n",
    "    print('wrong email form')"
   ]
  },
  {
   "cell_type": "code",
   "execution_count": null,
   "metadata": {},
   "outputs": [],
   "source": []
  }
 ],
 "metadata": {
  "interpreter": {
   "hash": "cef9e06bb236b2a8629b07e87a04b187b952a0f661eff5533360a155783f0c33"
  },
  "kernelspec": {
   "display_name": "Python 3.8.8 64-bit ('base': conda)",
   "language": "python",
   "name": "python3"
  },
  "language_info": {
   "codemirror_mode": {
    "name": "ipython",
    "version": 3
   },
   "file_extension": ".py",
   "mimetype": "text/x-python",
   "name": "python",
   "nbconvert_exporter": "python",
   "pygments_lexer": "ipython3",
   "version": "3.8.8"
  },
  "orig_nbformat": 4
 },
 "nbformat": 4,
 "nbformat_minor": 2
}
