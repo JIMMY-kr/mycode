{
 "cells": [
  {
   "cell_type": "code",
   "execution_count": 1,
   "metadata": {},
   "outputs": [
    {
     "name": "stdout",
     "output_type": "stream",
     "text": [
      "[0]\n",
      "[[0.66666667 0.33333333]]\n",
      "[0]\n"
     ]
    }
   ],
   "source": [
    "#최근접 이웃 알고리즘\n",
    "#지도학습\n",
    "\n",
    "X = [[0],[1],[2],[3]]\n",
    "y = [0,0,1,1]\n",
    "\n",
    "from sklearn.neighbors import KNeighborsClassifier\n",
    "knn = KNeighborsClassifier(n_neighbors=3) #최근접 이웃의 수\n",
    "knn.fit(X,y)\n",
    "\n",
    "print(knn.predict([[1.1]]))\n",
    "print(knn.predict_proba([[0.9]]))\n",
    "print(knn.predict([[0.9]]))"
   ]
  },
  {
   "cell_type": "code",
   "execution_count": 3,
   "metadata": {},
   "outputs": [
    {
     "name": "stdout",
     "output_type": "stream",
     "text": [
      "(array([[0.8]]), array([[2]], dtype=int64))\n"
     ]
    }
   ],
   "source": [
    "#비지도학습\n",
    "samples = [[0.,0.,0.], [0.,.5,0.], [1.,1.,.2]]\n",
    "from sklearn.neighbors import NearestNeighbors\n",
    "nn = NearestNeighbors(n_neighbors=1)\n",
    "nn.fit(samples)\n",
    "print(nn.kneighbors([[1., 1., 1.]]))"
   ]
  },
  {
   "cell_type": "code",
   "execution_count": 4,
   "metadata": {},
   "outputs": [
    {
     "name": "stdout",
     "output_type": "stream",
     "text": [
      "[32.5]\n",
      "[21.  21.  26.  32.5]\n"
     ]
    }
   ],
   "source": [
    "#최근접 회귀모형\n",
    "from sklearn.neighbors import KNeighborsRegressor\n",
    "x = [[40], [45], [60], [70]]\n",
    "y = [20,22,30,35]\n",
    "\n",
    "neigh = KNeighborsRegressor(n_neighbors=2)\n",
    "neigh.fit(X,y)\n",
    "\n",
    "#65평방미터일 때의 월세는?\n",
    "print(neigh.predict([[65]]))\n",
    "\n",
    "print(neigh.predict(X))"
   ]
  },
  {
   "cell_type": "code",
   "execution_count": null,
   "metadata": {},
   "outputs": [],
   "source": []
  }
 ],
 "metadata": {
  "interpreter": {
   "hash": "cef9e06bb236b2a8629b07e87a04b187b952a0f661eff5533360a155783f0c33"
  },
  "kernelspec": {
   "display_name": "Python 3.8.8 64-bit ('base': conda)",
   "language": "python",
   "name": "python3"
  },
  "language_info": {
   "codemirror_mode": {
    "name": "ipython",
    "version": 3
   },
   "file_extension": ".py",
   "mimetype": "text/x-python",
   "name": "python",
   "nbconvert_exporter": "python",
   "pygments_lexer": "ipython3",
   "version": "3.8.8"
  },
  "orig_nbformat": 4
 },
 "nbformat": 4,
 "nbformat_minor": 2
}
