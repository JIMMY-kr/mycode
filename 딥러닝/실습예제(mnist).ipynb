{
 "cells": [
  {
   "cell_type": "code",
   "execution_count": 2,
   "metadata": {},
   "outputs": [
    {
     "name": "stdout",
     "output_type": "stream",
     "text": [
      "[5 0 4 1 9]\n",
      "[[0. 0. 0. 0. 0. 1. 0. 0. 0. 0.]\n",
      " [1. 0. 0. 0. 0. 0. 0. 0. 0. 0.]\n",
      " [0. 0. 0. 0. 1. 0. 0. 0. 0. 0.]\n",
      " [0. 1. 0. 0. 0. 0. 0. 0. 0. 0.]\n",
      " [0. 0. 0. 0. 0. 0. 0. 0. 0. 1.]]\n"
     ]
    }
   ],
   "source": [
    "from tensorflow.keras import datasets\n",
    "from keras.utils import np_utils\n",
    "\n",
    "#데이터 준비\n",
    "(X_train, y_train), (X_test, y_test) = datasets.mnist.load_data()\n",
    "print(y_train[:5])\n",
    "\n",
    "#원핫인코딩\n",
    "y_train = np_utils.to_categorical(y_train)\n",
    "print(y_train[:5])\n",
    "y_test = np_utils.to_categorical(y_test)\n",
    "L, W, H = X_train.shape\n",
    "\n",
    "# -1 샘플의 개수\n",
    "X_train = X_train.reshape(-1, W * H)\n",
    "X_test = X_test.reshape(-1, W * H)\n",
    "X_train = X_train / 255.0\n",
    "X_test = X_test / 255.0"
   ]
  },
  {
   "cell_type": "code",
   "execution_count": 3,
   "metadata": {},
   "outputs": [],
   "source": [
    "from tensorflow.keras.layers import Dense, Dropout\n",
    "from tensorflow.keras.models import Sequential\n",
    "\n",
    "# 분류 DNN모델 구현 함수\n",
    "def make_model(input_number, layers, output_number):\n",
    "    #모델 초기화\n",
    "    model = Sequential()\n",
    "    #입력층\n",
    "    model.add(Dense(layers[0], activation='relu', input_shape=(input_number,),name='Hidden-1'))\n",
    "    #첫번째 은닉층\n",
    "    model.add(Dense(layers[1], activation='relu', name='Hidden-2'))\n",
    "    #두번째 은닉층\n",
    "    model.add(Dense(layers[2], activation='relu', name='Hidden-3'))\n",
    "    #드롭아웃 계층 : 확률 p를 통해 출력 노드의 신호를 보내거나 보내지 않음\n",
    "    #과적합 방지\n",
    "    # 20%의 출력을 off함\n",
    "    model.add(Dropout(0.2))\n",
    "    #출력층\n",
    "    model.add(Dense(output_number, activation='softmax', name='output'))\n",
    "    model.compile(loss='categorical_crossentropy', optimizer='adam', metrics=['accuracy'])\n",
    "    return model"
   ]
  },
  {
   "cell_type": "code",
   "execution_count": 4,
   "metadata": {},
   "outputs": [
    {
     "name": "stdout",
     "output_type": "stream",
     "text": [
      "[128, 64, 32]\n"
     ]
    }
   ],
   "source": [
    "input_number = 784 # 28 X 28\n",
    "#은닉계층 3개, 은닉노드수 128개, 68개, 32개\n",
    "hidden_layers = [128, 64, 32]\n",
    "print(hidden_layers)\n",
    "number_of_class = 10\n",
    "output_number = number_of_class\n",
    "#모델 생성\n",
    "model = make_model(input_number, hidden_layers, output_number)"
   ]
  },
  {
   "cell_type": "code",
   "execution_count": 5,
   "metadata": {},
   "outputs": [
    {
     "name": "stdout",
     "output_type": "stream",
     "text": [
      "Epoch 1/5\n",
      "480/480 [==============================] - 4s 5ms/step - loss: 0.4582 - accuracy: 0.8640 - val_loss: 0.1564 - val_accuracy: 0.9546\n",
      "Epoch 2/5\n",
      "480/480 [==============================] - 2s 4ms/step - loss: 0.1793 - accuracy: 0.9485 - val_loss: 0.1318 - val_accuracy: 0.9607\n",
      "Epoch 3/5\n",
      "480/480 [==============================] - 2s 4ms/step - loss: 0.1245 - accuracy: 0.9644 - val_loss: 0.1221 - val_accuracy: 0.9625\n",
      "Epoch 4/5\n",
      "480/480 [==============================] - 2s 4ms/step - loss: 0.0944 - accuracy: 0.9723 - val_loss: 0.0992 - val_accuracy: 0.9718\n",
      "Epoch 5/5\n",
      "480/480 [==============================] - 2s 4ms/step - loss: 0.0791 - accuracy: 0.9779 - val_loss: 0.1070 - val_accuracy: 0.9687\n"
     ]
    }
   ],
   "source": [
    "#모델 학습\n",
    "hist = model.fit(X_train, y_train, epochs=5, batch_size=100, validation_split=0.2)"
   ]
  },
  {
   "cell_type": "code",
   "execution_count": 6,
   "metadata": {},
   "outputs": [
    {
     "name": "stdout",
     "output_type": "stream",
     "text": [
      "100/100 [==============================] - 0s 4ms/step - loss: 0.0899 - accuracy: 0.9732\n",
      "Loss, Accuracy: [0.08994831144809723, 0.9732000231742859]\n"
     ]
    }
   ],
   "source": [
    "#모델 평가\n",
    "performance_test = model.evaluate(X_test, y_test, batch_size=100)\n",
    "print('Loss, Accuracy:', performance_test)"
   ]
  },
  {
   "cell_type": "code",
   "execution_count": 8,
   "metadata": {},
   "outputs": [
    {
     "data": {
      "image/png": "[encoded data removed]",
      "text/plain": [
       "<Figure size 864x576 with 1 Axes>"
      ]
     },
     "metadata": {
      "needs_background": "light"
     },
     "output_type": "display_data"
    }
   ],
   "source": [
    "#모델 학습과정 표시\n",
    "%matplotlib inline\n",
    "import matplotlib.pyplot as plt\n",
    "\n",
    "plt.figure(figsize=(12,8))\n",
    "plt.plot(hist.history['loss']) #손실률\n",
    "plt.plot(hist.history['accuracy']) #정확도\n",
    "plt.legend(['loss', 'accuracy'])\n",
    "plt.grid()\n",
    "plt.show()"
   ]
  },
  {
   "cell_type": "code",
   "execution_count": 9,
   "metadata": {},
   "outputs": [
    {
     "name": "stdout",
     "output_type": "stream",
     "text": [
      "Model: \"sequential\"\n",
      "_________________________________________________________________\n",
      " Layer (type)                Output Shape              Param #   \n",
      "=================================================================\n",
      " Hidden-1 (Dense)            (None, 128)               100480    \n",
      "                                                                 \n",
      " Hidden-2 (Dense)            (None, 64)                8256      \n",
      "                                                                 \n",
      " Hidden-3 (Dense)            (None, 32)                2080      \n",
      "                                                                 \n",
      " dropout (Dropout)           (None, 32)                0         \n",
      "                                                                 \n",
      " output (Dense)              (None, 10)                330       \n",
      "                                                                 \n",
      "=================================================================\n",
      "Total params: 111,146\n",
      "Trainable params: 111,146\n",
      "Non-trainable params: 0\n",
      "_________________________________________________________________\n"
     ]
    }
   ],
   "source": [
    "model.summary()"
   ]
  },
  {
   "cell_type": "code",
   "execution_count": null,
   "metadata": {},
   "outputs": [],
   "source": []
  }
 ],
 "metadata": {
  "interpreter": {
   "hash": "cef9e06bb236b2a8629b07e87a04b187b952a0f661eff5533360a155783f0c33"
  },
  "kernelspec": {
   "display_name": "Python 3.8.8 64-bit ('base': conda)",
   "language": "python",
   "name": "python3"
  },
  "language_info": {
   "codemirror_mode": {
    "name": "ipython",
    "version": 3
   },
   "file_extension": ".py",
   "mimetype": "text/x-python",
   "name": "python",
   "nbconvert_exporter": "python",
   "pygments_lexer": "ipython3",
   "version": "3.8.8"
  },
  "orig_nbformat": 4
 },
 "nbformat": 4,
 "nbformat_minor": 2
}
