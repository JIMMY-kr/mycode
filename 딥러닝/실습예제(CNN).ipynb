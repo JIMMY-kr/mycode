{
 "cells": [
  {
   "cell_type": "code",
   "execution_count": 1,
   "metadata": {},
   "outputs": [],
   "source": [
    "import numpy as np"
   ]
  },
  {
   "cell_type": "code",
   "execution_count": 2,
   "metadata": {},
   "outputs": [],
   "source": [
    "import csv\n",
    "\n",
    "#필드 목록 정의\n",
    "#비정형 필드\n",
    "title_arr = []\n",
    "\n",
    "#분류값을 저장할 배열 (0,1)\n",
    "ctr_arr = []\n",
    "\n",
    "#텍스트와 분류값이 저장된 파일 불러오기(학습용 데이터셋)\n",
    "f = open('c:/data/text/ratings_train.csv', encoding='ms949')\n",
    "reader = csv.reader(f)\n",
    "max_length = 0\n",
    "length = 0\n",
    "max_idx = 0\n",
    "count = 0\n",
    "next(reader, None) #헤더 스킵(첫라인을 건너뜀)\n",
    "count_train = 0\n",
    "for line in reader:\n",
    "    #print(line)\n",
    "    #레코드 전체를 하는 방법\n",
    "    #텍스트 필드\n",
    "    title_arr.append(line[0])\n",
    "    #결과 필드\n",
    "    ctr_arr.append(int(line[1]))\n",
    "    #텍스트의 길이\n",
    "    length = len(line[0])\n",
    "    #print(length)\n",
    "    if max_idx < length:\n",
    "        max_length = length\n",
    "        max_idx = count\n",
    "    count += 1\n",
    "    count_train += 1\n",
    "    if count_train >= 10000: break\n",
    "\n",
    "f.close()\n",
    "\n",
    "#검증용 데이터셋 파일 불러오기\n",
    "f2 = open('c:/data/text/ratings_test.csv', 'r', encoding='ms949')\n",
    "reader = csv.reader(f2)\n",
    "#헤더 스킵(첫라인을 건너뜀)\n",
    "next(reader, None)\n",
    "count_test = 0\n",
    "for line in reader:\n",
    "    #print(line)\n",
    "    #레코드 전체를 하는 방법\n",
    "    title_arr.append(line[0]) #텍스트 필드\n",
    "    #결과 필드\n",
    "    ctr_arr.append(int(line[1]))\n",
    "    #텍스트의 길이\n",
    "    length = len(line[0])\n",
    "    #print(length)\n",
    "    if max_length < length:\n",
    "        max_length = length\n",
    "        max_idx = count\n",
    "    count += 1\n",
    "    count_test +=1\n",
    "    if count_test >= 10000: break\n",
    "\n",
    "f2.close()"
   ]
  },
  {
   "cell_type": "code",
   "execution_count": 3,
   "metadata": {},
   "outputs": [
    {
     "name": "stdout",
     "output_type": "stream",
     "text": [
      "count_train: 10000\n",
      "count_test: 10000\n",
      "title_arr size: 20000\n",
      "ctr_arr size: 20000\n",
      "max_length: 144\n"
     ]
    }
   ],
   "source": [
    "print('count_train:', count_train)\n",
    "print('count_test:', count_test)\n",
    "print('title_arr size:', len(title_arr))\n",
    "print('ctr_arr size:', len(ctr_arr))\n",
    "print('max_length:', max_length)"
   ]
  },
  {
   "cell_type": "code",
   "execution_count": 4,
   "metadata": {},
   "outputs": [
    {
     "name": "stdout",
     "output_type": "stream",
     "text": [
      "step: 0\n",
      "step: 1000\n",
      "step: 2000\n",
      "step: 3000\n",
      "step: 4000\n",
      "step: 5000\n",
      "step: 6000\n",
      "step: 7000\n",
      "step: 8000\n",
      "step: 9000\n",
      "step: 10000\n",
      "step: 11000\n",
      "step: 12000\n",
      "step: 13000\n",
      "step: 14000\n",
      "step: 15000\n",
      "step: 16000\n",
      "step: 17000\n",
      "step: 18000\n",
      "step: 19000\n",
      "20000\n"
     ]
    }
   ],
   "source": [
    "from konlpy.tag import Okt\n",
    "okt = Okt()\n",
    "#명사, 형용사, 동사, 알파벳, 부사\n",
    "title_noun_arr = []\n",
    "for index, title in enumerate(title_arr):\n",
    "    if index % 1000 == 0:\n",
    "        print('step:', index)\n",
    "        #명사만 추출\n",
    "    title_noun_arr.append(okt.nouns(title))\n",
    "print(len(title_noun_arr))"
   ]
  },
  {
   "cell_type": "code",
   "execution_count": 5,
   "metadata": {},
   "outputs": [
    {
     "name": "stdout",
     "output_type": "stream",
     "text": [
      "step: 0\n",
      "step: 10000\n"
     ]
    }
   ],
   "source": [
    "#벡터모델을 불러와서 텍스트를 벡터로변환\n",
    "import gensim\n",
    "\n",
    "MIN_NOUN_VECTOR_VALUE = -10.0\n",
    "MAX_NOUN_VECTOR_VALUE = 10.0\n",
    "NOUN_VECTOR_SIZE = 100\n",
    "\n",
    "#벡터 생성 함수\n",
    "def generate_random_noun_vector():\n",
    "    return np.random.uniform(low=MIN_NOUN_VECTOR_VALUE,\n",
    "    high=MAX_NOUN_VECTOR_VALUE,\n",
    "    size=(NOUN_VECTOR_SIZE,))\n",
    "\n",
    "#word2vec 모델 불러오기\n",
    "w2v_model = gensim.models.Word2Vec.load('c:/data/text/text_100.model')\n",
    "title_noun_vector_arr = [] #벡터를 저장할 리스트\n",
    "for index, title_nouns in enumerate(title_noun_arr):\n",
    "    if index % 10000 == 0:\n",
    "        print('step:', index)\n",
    "    noun_vector_arr = []\n",
    "    for noun in title_nouns:\n",
    "        try:\n",
    "            #단어별로 벡터모델 적용\n",
    "            noun_vector = w2v_model[noun]\n",
    "        except Exception as e:\n",
    "            #단어사전에 존재하지 않으면 기본 벡터 생성\n",
    "            noun_vector = generate_random_noun_vector()\n",
    "        noun_vector_arr.append(noun_vector)\n",
    "    #if len(noun_vector_arr) > 0:\n",
    "    # print(len(noun_vector_arr))\n",
    "    title_noun_vector_arr.append(noun_vector_arr)        "
   ]
  },
  {
   "cell_type": "code",
   "execution_count": 6,
   "metadata": {},
   "outputs": [
    {
     "name": "stdout",
     "output_type": "stream",
     "text": [
      "[[array([-9.71231325,  3.86557533, -8.06305422,  6.32537441, -3.49034531,\n",
      "        0.32120118, -5.83691596,  8.93927049, -5.47432932,  8.22410006,\n",
      "        3.27404084, -0.2011729 ,  4.92367754, -1.15045142,  3.31961015,\n",
      "        7.35308813,  0.01978571, -6.84022468,  9.12227407, -4.73806968,\n",
      "       -2.73970862, -2.40041667,  4.62574251,  2.23344741, -1.86565948,\n",
      "        8.51726143, -4.57703675, -1.92221069,  3.72729252,  3.22010981,\n",
      "       -4.09860343,  4.81284588, -9.45301183,  9.00395216,  1.21533502,\n",
      "       -7.17122814, -1.92758592,  7.83598351,  9.32500204,  8.24614769,\n",
      "       -5.61018458, -6.01151613, -6.77462352,  7.41561149,  5.13859779,\n",
      "        5.54210275,  3.14762009, -1.53051266, -1.28133636,  4.98691168,\n",
      "        7.8165923 , -5.73501258, -4.94005832,  7.3191278 ,  6.8335864 ,\n",
      "        5.26009003, -3.09360885, -4.63462549, -6.91234614, -1.16542007,\n",
      "       -4.77138727, -3.96439814,  4.59125333, -1.64899187, -2.06088974,\n",
      "       -3.78711936, -9.54277496,  8.41685783, -6.18463028,  7.27265399,\n",
      "       -7.96365582,  7.50556149,  7.94201308, -8.82756458, -4.63798556,\n",
      "        4.17935859,  5.40745031,  7.44902898,  0.14146877,  9.20047241,\n",
      "       -6.50168174, -1.87796223, -4.72100371, -6.07878257,  3.15458645,\n",
      "       -4.66187514,  1.66443252,  3.28246784,  1.22811556, -7.39298334,\n",
      "       -0.13581133, -8.6458466 , -4.04437326, -2.12892612, -6.32263645,\n",
      "        9.53296415, -4.54349858,  0.22869426, -8.48284088,  5.45297903]), array([-0.55312458,  3.2932729 , -5.17811634,  2.1278354 , -3.47178018,\n",
      "        0.50015593, -1.63168171,  7.95239472, -2.14693289,  5.07454359,\n",
      "        5.72659972, -8.11949943,  9.20364644,  1.41149775,  6.66652336,\n",
      "       -0.38912219,  7.5272049 ,  8.7649134 , -5.56366276,  8.03576457,\n",
      "        1.86694128,  8.6249044 ,  3.13831829,  6.88597182,  4.60696152,\n",
      "        3.72499293, -6.31837305,  7.26406031, -7.5326668 ,  2.76323176,\n",
      "        1.98409495,  5.46192716,  8.25365551,  8.58730726,  8.24690555,\n",
      "        2.80898058, -1.14639307, -0.12565519,  6.18497957, -6.26167281,\n",
      "       -7.88396827,  9.84848739,  2.95297998,  1.52422229, -6.07253382,\n",
      "       -7.10127611,  9.59135995,  6.34180929, -2.92148601,  4.39964325,\n",
      "       -1.31612192,  6.34541241,  0.31440021, -1.96144492, -1.70000257,\n",
      "       -3.00866192, -8.98998971,  8.56705372, -6.52691899, -8.66986051,\n",
      "       -0.89877849, -2.30550556,  3.89197667, -6.58356498, -8.02498741,\n",
      "       -0.89062718, -4.16715442, -7.36297185,  1.93980416,  0.90803472,\n",
      "       -6.69315795,  0.96477583, -3.41057035, -4.31606652,  9.6905652 ,\n",
      "       -3.95624383,  5.27061561,  3.95026264,  5.06818948,  7.70213509,\n",
      "        3.53877006, -1.23265876, -2.01544871,  5.09111014,  2.64187888,\n",
      "        5.26355069,  9.86912401, -8.10893767, -0.57316525, -3.12175229,\n",
      "        3.58341726,  0.71700111,  6.9184168 , -7.52906816, -0.22499093,\n",
      "       -3.16231648,  7.94231649,  8.35257715,  3.53986077,  8.41486996]), array([ 7.48535007,  9.16700057, -9.14870707,  7.63345821, -2.00790427,\n",
      "       -8.92304877, -6.22072258,  3.46286346, -1.16692178,  5.76269821,\n",
      "       -2.66635305, -2.69262825,  9.55498923,  2.68226578,  9.08748979,\n",
      "        7.41398658,  0.5050079 ,  7.15017084, -8.32311937, -3.66420077,\n",
      "        6.27779955, -3.91751468,  1.18757952,  4.39075591, -7.35216173,\n",
      "        7.08026154,  7.63725916, -2.77063337,  0.17567232,  5.08336097,\n",
      "       -0.25928003,  8.08779082,  8.0887391 ,  7.20486716,  6.64072416,\n",
      "        4.5032913 , -9.25563286, -9.74370008, -8.94541664, -8.12098691,\n",
      "        0.33415433, -5.10635586,  4.83949116,  0.25300167, -7.23094193,\n",
      "        7.59506156,  8.56097408,  4.88963906, -5.64415174, -1.23818839,\n",
      "       -1.16162993, -4.79511485, -0.68573929,  1.94406498,  0.38905803,\n",
      "       -8.65236032, -8.26946362,  8.38065985, -7.31976805,  2.38974713,\n",
      "       -8.62511642, -4.80678927, -5.88796985,  1.15214993, -9.09230575,\n",
      "        2.31960351, -2.64730605, -3.88166204, -0.55710351,  3.91957343,\n",
      "       -3.78622512, -0.48932365,  6.83307281, -4.4434071 , -1.09558756,\n",
      "        9.52530667, -3.75535199,  5.45456424, -6.21008601,  1.3714187 ,\n",
      "        8.84814758,  6.6369378 , -4.23396313, -4.74692963,  0.53259004,\n",
      "       -7.62172383, -8.08603147,  4.20713506, -1.24009159,  7.20379325,\n",
      "       -0.09016424, -0.57725722, -4.98020213, -4.90252175, -7.37577237,\n",
      "       -0.59754746, -3.70698448, -3.3789027 , -9.34099017, -5.26908118])]]\n"
     ]
    }
   ],
   "source": [
    "print(title_noun_vector_arr[:1])"
   ]
  },
  {
   "cell_type": "code",
   "execution_count": 7,
   "metadata": {},
   "outputs": [
    {
     "name": "stdout",
     "output_type": "stream",
     "text": [
      "step: 0\n",
      "step: 1000\n",
      "step: 2000\n",
      "step: 3000\n",
      "step: 4000\n",
      "step: 5000\n",
      "step: 6000\n",
      "step: 7000\n",
      "step: 8000\n",
      "step: 9000\n",
      "step: 10000\n",
      "step: 11000\n",
      "step: 12000\n",
      "step: 13000\n",
      "step: 14000\n",
      "step: 15000\n",
      "step: 16000\n",
      "step: 17000\n",
      "step: 18000\n",
      "step: 19000\n"
     ]
    }
   ],
   "source": [
    "max_size = 0 #가장 긴 텍스트 사이즈를 저장할 변수\n",
    "min_size = 100\n",
    "avg = 0\n",
    "count = 0\n",
    "sum_size = 0\n",
    "\n",
    "#가장 긴 리뷰 텍스트 계산\n",
    "for index, title_noun_vector in enumerate(title_noun_vector_arr):\n",
    "    #print(len(title_noun_vector))\n",
    "    if len(title_noun_vector) == 0:\n",
    "        pass\n",
    "        #print(title_noun_vector)\n",
    "    sum_size += len(title_noun_vector)\n",
    "    if max_size < len(title_noun_vector):\n",
    "        max_size = len(title_noun_vector)\n",
    "    if min_size > len(title_noun_vector):\n",
    "        min_size = len(title_noun_vector)\n",
    "    count += 1\n",
    "    #print(':title_noun_vector len=>', len(title_nount_vector))\n",
    "#padding\n",
    "TITLE_LENGTH = max_size\n",
    "\n",
    "def generate_zero_noun_vector():\n",
    "    return np.random.uniform(low=0.0, high=0.0, size=(NOUN_VECTOR_SIZE,))\n",
    "\n",
    "#인덱스와 요소를 하나씩 전개하여 패딩 처리\n",
    "title_noun_vector_arr2 = []\n",
    "for index, title_noun_vector in enumerate(title_noun_vector_arr):\n",
    "    if index % 1000 == 0:\n",
    "        print('step:', index)\n",
    "    while len(title_noun_vector) < TITLE_LENGTH:\n",
    "        title_noun_vector.append(generate_zero_noun_vector())\n",
    "    title_noun_vector = title_noun_vector[:TITLE_LENGTH]\n",
    "    title_noun_vector_arr2.append(title_noun_vector)"
   ]
  },
  {
   "cell_type": "code",
   "execution_count": 8,
   "metadata": {},
   "outputs": [
    {
     "name": "stdout",
     "output_type": "stream",
     "text": [
      "0 37\n"
     ]
    }
   ],
   "source": [
    "print(min_size, max_size)"
   ]
  },
  {
   "cell_type": "code",
   "execution_count": 9,
   "metadata": {},
   "outputs": [
    {
     "name": "stdout",
     "output_type": "stream",
     "text": [
      "[9960, 10040]\n",
      "[0.0, 1.0, 0.0, 0.0, 1.0, 0.0, 0.0, 0.0, 1.0, 1.0]\n"
     ]
    }
   ],
   "source": [
    "#ctr to classification\n",
    "#클래스 개수\n",
    "NUM_CLASSES = 2\n",
    "ctr_class_arr = []\n",
    "#클래스 개수 저장\n",
    "ctr_class_count = [0,0]\n",
    "#print(success_arr)\n",
    "for index, ctr in enumerate(ctr_arr):\n",
    "    if ctr ==0:\n",
    "        #ctr_class_arr.append([1,0])\n",
    "        ctr_class_arr.append(0.0)\n",
    "        ctr_class_count[0] += 1\n",
    "    elif ctr == 1:\n",
    "        #ctr_class_arr.append([0,1])\n",
    "        ctr_class_arr.append(1.0)\n",
    "        ctr_class_count[1] +=1\n",
    "print(ctr_class_count)\n",
    "print(ctr_class_arr[:10])"
   ]
  },
  {
   "cell_type": "code",
   "execution_count": 10,
   "metadata": {},
   "outputs": [],
   "source": [
    "#데이터 전처리(0.0~1.0), 각 특성의 평균을 계산\n",
    "def prepare_data(arr):\n",
    "    sum1 = 0\n",
    "    for i in arr:\n",
    "        sum1 += i\n",
    "    arr = [float(i)/sum1 for i in arr]\n",
    "    return arr\n",
    "#전처리가 필요한 필드에 대해 함수 호출"
   ]
  },
  {
   "cell_type": "code",
   "execution_count": 11,
   "metadata": {},
   "outputs": [
    {
     "name": "stdout",
     "output_type": "stream",
     "text": [
      "10000   10000\n",
      "ctr_class_arr 개수: 20000\n",
      "train 총데이터개수: 10000\n",
      "train라벨개수: 10000\n",
      "test총데이터개수 10000\n",
      "test라벨개수: 10000\n",
      "train_data_size: 10000\n",
      "test_data_size: 10000\n"
     ]
    }
   ],
   "source": [
    "#검증용 데이터셋의 개수 구하기\n",
    "test_data_size = count_test\n",
    "train_data_size = count_train\n",
    "print(train_data_size, ' ', test_data_size)\n",
    "\n",
    "#학습용 데이터셋과 검증용 데이터셋을 분리하는 코드\n",
    "train_input = title_noun_vector_arr[0:train_data_size]\n",
    "train_label = ctr_class_arr[0:train_data_size]\n",
    "test_input = title_noun_vector_arr[train_data_size:]\n",
    "test_label = ctr_class_arr[train_data_size:]\n",
    "\n",
    "print('ctr_class_arr 개수:', len(ctr_class_arr))\n",
    "print('train 총데이터개수:', len(train_input))\n",
    "print('train라벨개수:', len(train_label))\n",
    "print('test총데이터개수', len(test_input))\n",
    "print('test라벨개수:', len(test_label))\n",
    "print('train_data_size:', train_data_size)\n",
    "print('test_data_size:', test_data_size)"
   ]
  },
  {
   "cell_type": "code",
   "execution_count": 12,
   "metadata": {},
   "outputs": [
    {
     "data": {
      "text/plain": [
       "10000"
      ]
     },
     "execution_count": 12,
     "metadata": {},
     "output_type": "execute_result"
    }
   ],
   "source": [
    "len(train_input)"
   ]
  },
  {
   "cell_type": "code",
   "execution_count": 13,
   "metadata": {},
   "outputs": [
    {
     "data": {
      "text/plain": [
       "10000"
      ]
     },
     "execution_count": 13,
     "metadata": {},
     "output_type": "execute_result"
    }
   ],
   "source": [
    "len(test_input)"
   ]
  },
  {
   "cell_type": "code",
   "execution_count": 14,
   "metadata": {},
   "outputs": [],
   "source": [
    "#데이터를 케라스에 맞게 변환해주는 과정\n",
    "#데이터개수, 가로, 세로, 채널수(흑백이미지는 1, 컬러는 3, 텍스트는 1)\n",
    "#width, height, channel\n",
    "\n",
    "train_input = np.array(train_input)\n",
    "train_input = train_input.reshape(train_input.shape[0],\n",
    "train_input.shape[1], NOUN_VECTOR_SIZE, 1)\n",
    "test_input = np.array(test_input)\n",
    "test_input = test_input.reshape(test_input.shape[0],\n",
    "train_input.shape[1], NOUN_VECTOR_SIZE, 1)\n",
    "\n",
    "#X_test = X_test.reshape(X_test.shape[0], 28, 28, 1)"
   ]
  },
  {
   "cell_type": "code",
   "execution_count": 15,
   "metadata": {},
   "outputs": [],
   "source": [
    "from tensorflow.keras import optimizers\n",
    "from tensorflow.keras.layers import Conv2D, MaxPooling2D, Input, Dense, Dropout, Flatten\n",
    "from tensorflow.keras.models import Model\n",
    "\n",
    "#입력데이터\n",
    "input_a = Input(shape=(train_input.shape[1], NOUN_VECTOR_SIZE, 1),\n",
    "name='input-layer')\n",
    "\n",
    "#첫번째 Conv 레이어\n",
    "x = Conv2D(1, (3,3), activation='relu', padding='valid', strides=(1,1))(input_a)\n",
    "\n",
    "#두번째 Conv 레이어\n",
    "x = Conv2D(1, (3,3), activation='relu')(x)\n",
    "x = MaxPooling2D(pool_size=(2,2))(x)\n",
    "x = Dropout(0.25)(x)\n",
    "\n",
    "#fully connected network\n",
    "x = Flatten()(x)\n",
    "x = Dense(128, activation='relu')(x)\n",
    "x = Dropout(0.5)(x)\n",
    "\n",
    "#출력계층(1개의 클래스로 분류됨)\n",
    "out = Dense(1, activation='sigmoid', name='output-layer')(x)\n",
    "\n",
    "#CNN모델이 생성됨\n",
    "model = Model(inputs = [input_a], outputs = out)\n",
    "\n",
    "#모델 컴파일, 손실함수, 옵티마이저 설정\n",
    "#CNN 모델 컴파일\n",
    "model.compile(loss='binary_crossentropy', optimizer='adam', metrics=['accuracy'])"
   ]
  },
  {
   "cell_type": "code",
   "execution_count": 16,
   "metadata": {},
   "outputs": [
    {
     "name": "stdout",
     "output_type": "stream",
     "text": [
      "Epoch 1/5\n",
      "30/30 [==============================] - 3s 84ms/step - loss: 0.8285 - accuracy: 0.4942 - val_loss: 0.7003 - val_accuracy: 0.5072\n",
      "Epoch 2/5\n",
      "30/30 [==============================] - 2s 61ms/step - loss: 0.7003 - accuracy: 0.5142 - val_loss: 0.6953 - val_accuracy: 0.5060\n",
      "Epoch 3/5\n",
      "30/30 [==============================] - 2s 61ms/step - loss: 0.6954 - accuracy: 0.5079 - val_loss: 0.6957 - val_accuracy: 0.4968\n",
      "Epoch 4/5\n",
      "30/30 [==============================] - 2s 63ms/step - loss: 0.6875 - accuracy: 0.5217 - val_loss: 0.6968 - val_accuracy: 0.4908\n"
     ]
    }
   ],
   "source": [
    "#학습\n",
    "from tensorflow.keras.callbacks import EarlyStopping\n",
    "\n",
    "#조기종료 콜백함수\n",
    "early_stopping = EarlyStopping(patience = 2)\n",
    "hist = model.fit(x=train_input, y=np.array(train_label),\n",
    "validation_split=0.25, batch_size=256, epochs=5, verbose=1, callbacks=[early_stopping])"
   ]
  },
  {
   "cell_type": "code",
   "execution_count": 17,
   "metadata": {},
   "outputs": [
    {
     "name": "stdout",
     "output_type": "stream",
     "text": [
      "100/100 [==============================] - 0s 1000us/step - loss: 0.6942 - accuracy: 0.5100\n",
      "loss: 69.42%\n",
      "accuracy:50.999999%\n"
     ]
    }
   ],
   "source": [
    "#평가\n",
    "scores = model.evaluate(np.array(test_input)[:100],\n",
    "np.array(test_label)[:100], batch_size=1, verbose=1)\n",
    "\n",
    "#손실률\n",
    "print('%s: %.2f%%' % (model.metrics_names[0], scores[0] * 100))\n",
    "\n",
    "#정확도\n",
    "print('%s:%2f%%' % (model.metrics_names[1], scores[1]*100))\n",
    "\n",
    "#CNN의 최종 출력값이 필요한 경우 아래 코드 사용\n",
    "m2 = Model(inputs = model.input, outputs = model.get_layer('output-layer').output)\n",
    "y = m2.predict(test_input)\n",
    "#y = m2.predict(train_input)"
   ]
  },
  {
   "cell_type": "code",
   "execution_count": 18,
   "metadata": {},
   "outputs": [
    {
     "data": {
      "text/plain": [
       "array([[0.5008367 ],\n",
       "       [0.5008367 ],\n",
       "       [0.5003541 ],\n",
       "       [0.47448525],\n",
       "       [0.49507254],\n",
       "       [0.44151315],\n",
       "       [0.50771487],\n",
       "       [0.5012644 ],\n",
       "       [0.40585366],\n",
       "       [0.4645676 ]], dtype=float32)"
      ]
     },
     "execution_count": 18,
     "metadata": {},
     "output_type": "execute_result"
    }
   ],
   "source": [
    "y[0:10]"
   ]
  },
  {
   "cell_type": "code",
   "execution_count": 19,
   "metadata": {},
   "outputs": [
    {
     "name": "stdout",
     "output_type": "stream",
     "text": [
      "INFO:tensorflow:Assets written to: c:/data/text\\assets\n"
     ]
    }
   ],
   "source": [
    "model.save('c:/data/text')"
   ]
  },
  {
   "cell_type": "code",
   "execution_count": 20,
   "metadata": {},
   "outputs": [
    {
     "name": "stdout",
     "output_type": "stream",
     "text": [
      "[[0.5008367]]\n",
      "1.0\n",
      "재밌군\n"
     ]
    }
   ],
   "source": [
    "n = 911\n",
    "print(model.predict(np.array(train_input)[n].reshape(1,37,100,1)))\n",
    "print(np.array(train_label)[n])\n",
    "print(title_arr[n])"
   ]
  },
  {
   "cell_type": "code",
   "execution_count": 21,
   "metadata": {},
   "outputs": [
    {
     "name": "stdout",
     "output_type": "stream",
     "text": [
      "[[0.47915876]]\n",
      "0.0\n",
      "OOO기 영화입니다. 긴장감도 그렇게 없고 반전도 안놀랍고 시간이 아까운 영화입니다.\n"
     ]
    }
   ],
   "source": [
    "n = 5000\n",
    "print(model.predict(np.array(test_input)[n].reshape(1,37,100,1)))\n",
    "print(np.array(test_label)[n])\n",
    "print(title_arr[n+10000])"
   ]
  },
  {
   "cell_type": "code",
   "execution_count": null,
   "metadata": {},
   "outputs": [],
   "source": []
  }
 ],
 "metadata": {
  "interpreter": {
   "hash": "cef9e06bb236b2a8629b07e87a04b187b952a0f661eff5533360a155783f0c33"
  },
  "kernelspec": {
   "display_name": "Python 3.8.8 64-bit ('base': conda)",
   "language": "python",
   "name": "python3"
  },
  "language_info": {
   "codemirror_mode": {
    "name": "ipython",
    "version": 3
   },
   "file_extension": ".py",
   "mimetype": "text/x-python",
   "name": "python",
   "nbconvert_exporter": "python",
   "pygments_lexer": "ipython3",
   "version": "3.8.8"
  },
  "orig_nbformat": 4
 },
 "nbformat": 4,
 "nbformat_minor": 2
}
