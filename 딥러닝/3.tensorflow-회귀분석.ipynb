{
 "cells": [
  {
   "cell_type": "code",
   "execution_count": 1,
   "metadata": {},
   "outputs": [
    {
     "name": "stdout",
     "output_type": "stream",
     "text": [
      "WARNING:tensorflow:From C:\\anaconda3\\lib\\site-packages\\tensorflow\\python\\compat\\v2_compat.py:111: disable_resource_variables (from tensorflow.python.ops.variable_scope) is deprecated and will be removed in a future version.\n",
      "Instructions for updating:\n",
      "non-resource variables are not supported in the long term\n"
     ]
    }
   ],
   "source": [
    "#단순회귀분석\n",
    "import tensorflow.compat.v1 as tf\n",
    "tf.disable_v2_behavior()\n",
    "\n",
    "#파라미터 설정(실험을 통해 구해야 하는 값)\n",
    "learning_rate = 0.01 #학습률\n",
    "epochs = 1000 #학습횟수\n",
    "step_display = 50 #진행 상태를 출력할 단계"
   ]
  },
  {
   "cell_type": "code",
   "execution_count": 2,
   "metadata": {},
   "outputs": [],
   "source": [
    "#회귀분석 : 전기생산량과 소비량\n",
    "# 월별 전기생산금액(억원)\n",
    "x = [3.52, 2.58, 3.31, 4.07, 4.62, 3.98, 4.29, 4.83, 3.71, 4.61, 3.90, 3.20]\n",
    "\n",
    "#월별 전기 사용량(백만 kwh)\n",
    "y =[2.48, 2.27, 2.47, 2.77, 2.98, 3.05, 3.18, 3.46, 3.03, 3.25, 2.67, 2.53]"
   ]
  },
  {
   "cell_type": "code",
   "execution_count": 3,
   "metadata": {},
   "outputs": [],
   "source": [
    "#가중치(weight)와 절편(bias)\n",
    "#tf.random_uniform([1] 변수의 형태, -1.0 최소값, 1.0 최대값) 무작위수 초기화\n",
    "# -1.0 ~ 1.0 사이의 값 생성\n",
    "# name: 값으 변화를 추적하거나 살펴보기 쉽게 하기 위해 이름을 붙임\n",
    "weight = tf.Variable(tf.random_uniform([1], -1.0, 1.0), name='weight')\n",
    "bias = tf.Variable(tf.random_uniform([1], -1.0, 1.0), name='bias')"
   ]
  },
  {
   "cell_type": "code",
   "execution_count": 4,
   "metadata": {},
   "outputs": [],
   "source": [
    "#placeholder: 학습용 데이터를 담는 그릇\n",
    "# 그래프에서 x(입력값)을 저장하는 저장소\n",
    "# placeholder(dtype, shape, name): 자료형, 행렬의 차원, 이름\n",
    "\n",
    "X = tf.placeholder(dtype=tf.float32, name='X')\n",
    "Y = tf.placeholder(dtype=tf.float32, name='Y')"
   ]
  },
  {
   "cell_type": "code",
   "execution_count": 5,
   "metadata": {},
   "outputs": [],
   "source": [
    "# X와 Y의 상관 관계를 분석하기 위한 가설 수식 작성\n",
    "# y = W * x + b\n",
    "y_pred = tf.add(tf.multiply(weight, X), bias)\n",
    "#손실함수(비용함수) : 예측값과 실제값의 거리를 계산하는 함수\n",
    "cost = tf.reduce_mean(tf.square(y_pred - Y))\n",
    "#비용을 최소화\n",
    "#AdamOptimizer : 현재 가장 성능이 좋은 알고리즘\n",
    "optimizer = tf.train.AdamOptimizer(learning_rate).minimize(cost)"
   ]
  },
  {
   "cell_type": "code",
   "execution_count": 6,
   "metadata": {},
   "outputs": [],
   "source": [
    "#변수 초기화\n",
    "init = tf.global_variables_initializer()\n",
    "#세션 생성 및 시작\n",
    "sess = tf.Session()\n",
    "sess.run(init)"
   ]
  },
  {
   "cell_type": "code",
   "execution_count": 7,
   "metadata": {},
   "outputs": [
    {
     "name": "stdout",
     "output_type": "stream",
     "text": [
      "Epoch:50, cost:0.07126780599355698, weight:[0.81177706], bias:[-0.23589608]\n",
      "Epoch:100, cost:0.05952810123562813, weight:[0.78472626], bias:[-0.22958477]\n",
      "Epoch:150, cost:0.05756315588951111, weight:[0.77661496], bias:[-0.19597638]\n",
      "Epoch:200, cost:0.0553596056997776, weight:[0.7669546], bias:[-0.15719242]\n",
      "Epoch:250, cost:0.0530109740793705, weight:[0.75617397], bias:[-0.11438084]\n",
      "Epoch:300, cost:0.050595175474882126, weight:[0.7445977], bias:[-0.06844688]\n",
      "Epoch:350, cost:0.04817492887377739, weight:[0.732439], bias:[-0.02020308]\n",
      "Epoch:400, cost:0.04580064117908478, weight:[0.71987647], bias:[0.02964334]\n",
      "Epoch:450, cost:0.043512146919965744, weight:[0.70706725], bias:[0.08046917]\n",
      "Epoch:500, cost:0.04134006053209305, weight:[0.6941507], bias:[0.1317218]\n",
      "Epoch:550, cost:0.039306748658418655, weight:[0.6812503], bias:[0.18290997]\n",
      "Epoch:600, cost:0.0374273881316185, weight:[0.66847587], bias:[0.233599]\n",
      "Epoch:650, cost:0.035710740834474564, weight:[0.65592366], bias:[0.28340626]\n",
      "Epoch:700, cost:0.0341603122651577, weight:[0.64367795], bias:[0.33199844]\n",
      "Epoch:750, cost:0.032774943858385086, weight:[0.6318104], bias:[0.37908944]\n",
      "Epoch:800, cost:0.031549908220767975, weight:[0.62038213], bias:[0.42443824]\n",
      "Epoch:850, cost:0.030477603897452354, weight:[0.609443], bias:[0.46784592]\n",
      "Epoch:900, cost:0.029548252001404762, weight:[0.599033], bias:[0.5091541]\n",
      "Epoch:950, cost:0.028750717639923096, weight:[0.5891824], bias:[0.5482427]\n",
      "Epoch:1000, cost:0.028072886168956757, weight:[0.5799126], bias:[0.5850272]\n"
     ]
    }
   ],
   "source": [
    "#optimizer와 cost를 그래프에서 계산\n",
    "#cost 계산: 정해진 데이터셋에서 한 샘플씩 불러와서 cost를 계산,\n",
    "#optimizer 계산: cost로부터 error를 계산 후,\n",
    "#모델에 대한 편미분을 자동으로 계산해주는 과정을 이용하여 모델 W, b 를 수정\n",
    "for epoch in range(epochs):\n",
    "    _, cost_val = sess.run([optimizer, cost], feed_dict={X:x, Y:y})\n",
    "    if (epoch + 1) % step_display == 0:\n",
    "        print('Epoch:{0}, cost:{1}, weight:{2}, bias:{3}'.format(epoch+1, cost_val,\n",
    "        sess.run(weight), sess.run(bias)))"
   ]
  },
  {
   "cell_type": "code",
   "execution_count": 8,
   "metadata": {},
   "outputs": [
    {
     "name": "stdout",
     "output_type": "stream",
     "text": [
      "최종 cost: 0.028072886\n",
      "정확도: 99.97192711383104\n",
      "최종 가중치: [0.5799126]\n",
      "최종 절편: [0.5850272]\n"
     ]
    }
   ],
   "source": [
    "training_cost = sess.run(cost, feed_dict={X:x, Y:y})\n",
    "print('최종 cost:', cost_val)\n",
    "print('정확도:', 100-cost_val)\n",
    "print('최종 가중치:', sess.run(weight))\n",
    "print('최종 절편:', sess.run(bias))"
   ]
  },
  {
   "cell_type": "code",
   "execution_count": 9,
   "metadata": {},
   "outputs": [
    {
     "name": "stdout",
     "output_type": "stream",
     "text": [
      "X: 5, Y: [3.4845903]\n",
      "X: 2.5, Y: [2.0348086]\n"
     ]
    }
   ],
   "source": [
    "#최적화가 완료된 모델을 테스트\n",
    "print('X: 5, Y:', sess.run(y_pred, feed_dict={X:5}))\n",
    "print('X: 2.5, Y:', sess.run(y_pred, feed_dict={X: 2.5}))"
   ]
  },
  {
   "cell_type": "code",
   "execution_count": 10,
   "metadata": {},
   "outputs": [
    {
     "data": {
      "image/png": "[encoded data removed]",
      "text/plain": [
       "<Figure size 432x288 with 1 Axes>"
      ]
     },
     "metadata": {
      "needs_background": "light"
     },
     "output_type": "display_data"
    }
   ],
   "source": [
    "%matplotlib inline\n",
    "import matplotlib.pyplot as plt\n",
    "from matplotlib import font_manager, rc\n",
    "\n",
    "font_name = font_manager.FontProperties(fname='c:/Windows/Fonts/malgun.ttf').get_name()\n",
    "rc('font', family = font_name)\n",
    "\n",
    "plt.plot(x, y, 'ro')\n",
    "plt.plot(x,sess.run(weight)*x+sess.run(bias))\n",
    "plt.xlabel('전기 생산량')\n",
    "plt.ylabel('전기 사용량')\n",
    "plt.show()"
   ]
  },
  {
   "cell_type": "code",
   "execution_count": null,
   "metadata": {},
   "outputs": [],
   "source": []
  }
 ],
 "metadata": {
  "interpreter": {
   "hash": "cef9e06bb236b2a8629b07e87a04b187b952a0f661eff5533360a155783f0c33"
  },
  "kernelspec": {
   "display_name": "Python 3.8.8 64-bit ('base': conda)",
   "language": "python",
   "name": "python3"
  },
  "language_info": {
   "codemirror_mode": {
    "name": "ipython",
    "version": 3
   },
   "file_extension": ".py",
   "mimetype": "text/x-python",
   "name": "python",
   "nbconvert_exporter": "python",
   "pygments_lexer": "ipython3",
   "version": "3.8.8"
  },
  "orig_nbformat": 4
 },
 "nbformat": 4,
 "nbformat_minor": 2
}
