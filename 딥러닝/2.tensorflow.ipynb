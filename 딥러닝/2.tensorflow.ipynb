{
 "cells": [
  {
   "cell_type": "code",
   "execution_count": 1,
   "metadata": {},
   "outputs": [
    {
     "data": {
      "text/plain": [
       "'2.7.0'"
      ]
     },
     "execution_count": 1,
     "metadata": {},
     "output_type": "execute_result"
    }
   ],
   "source": [
    "import tensorflow as tf\n",
    "tf.__version__"
   ]
  },
  {
   "cell_type": "code",
   "execution_count": 2,
   "metadata": {},
   "outputs": [
    {
     "data": {
      "text/plain": [
       "[PhysicalDevice(name='/physical_device:GPU:0', device_type='GPU')]"
      ]
     },
     "execution_count": 2,
     "metadata": {},
     "output_type": "execute_result"
    }
   ],
   "source": [
    "tf.config.list_physical_devices('GPU')"
   ]
  },
  {
   "cell_type": "code",
   "execution_count": 3,
   "metadata": {},
   "outputs": [
    {
     "data": {
      "text/plain": [
       "[name: \"/device:CPU:0\"\n",
       " device_type: \"CPU\"\n",
       " memory_limit: 268435456\n",
       " locality {\n",
       " }\n",
       " incarnation: 10946886165005307834\n",
       " xla_global_id: -1,\n",
       " name: \"/device:GPU:0\"\n",
       " device_type: \"GPU\"\n",
       " memory_limit: 2255958836\n",
       " locality {\n",
       "   bus_id: 1\n",
       "   links {\n",
       "   }\n",
       " }\n",
       " incarnation: 1927999624744558666\n",
       " physical_device_desc: \"device: 0, name: NVIDIA GeForce GTX 1650, pci bus id: 0000:01:00.0, compute capability: 7.5\"\n",
       " xla_global_id: 416903419]"
      ]
     },
     "execution_count": 3,
     "metadata": {},
     "output_type": "execute_result"
    }
   ],
   "source": [
    "from tensorflow.python.client import device_lib\n",
    "device_lib.list_local_devices() #실행 가능한 CPU, GPU"
   ]
  },
  {
   "cell_type": "code",
   "execution_count": 4,
   "metadata": {},
   "outputs": [
    {
     "name": "stdout",
     "output_type": "stream",
     "text": [
      "Executing op _EagerConst in device /job:localhost/replica:0/task:0/device:GPU:0\n",
      "Executing op _EagerConst in device /job:localhost/replica:0/task:0/device:GPU:0\n",
      "Executing op MatMul in device /job:localhost/replica:0/task:0/device:GPU:0\n",
      "tf.Tensor(\n",
      "[[22.8 28. ]\n",
      " [51.  64. ]], shape=(2, 2), dtype=float32)\n"
     ]
    }
   ],
   "source": [
    "#기본적으로 GPU로 실행됨\n",
    "tf.debugging.set_log_device_placement(True)\n",
    "\n",
    "a = tf.constant([[1.0,2.0,3.0],[4.0,5.0,6.0]])\n",
    "b = tf.constant([[1.0,2.0],[3.4,4.0],[5.0,6.0]])\n",
    "c = tf.matmul(a,b)\n",
    "\n",
    "print(c)"
   ]
  },
  {
   "cell_type": "code",
   "execution_count": 2,
   "metadata": {},
   "outputs": [
    {
     "name": "stdout",
     "output_type": "stream",
     "text": [
      "[PhysicalDevice(name='/physical_device:GPU:0', device_type='GPU')]\n"
     ]
    }
   ],
   "source": [
    "# 텐서플로 v2에서 gpu의 메모리를 설정하는 방법\n",
    "import tensorflow as tf\n",
    "\n",
    "gpus = tf.config.experimental.list_physical_devices('GPU')\n",
    "print(gpus)\n",
    "#gpu의 메모리를 점진적으로 늘리도록 설정\n",
    "#tf.config.experimental.set_memory_growth(gpus[0], True)\n",
    "#메모리 사용량을 직접 지정하는 방법\n",
    "tf.config.experimental.set_virtual_device_configuration(gpus[0],\n",
    "[tf.config.experimental.VirtualDeviceConfiguration(memory_limit=512)])"
   ]
  },
  {
   "cell_type": "code",
   "execution_count": 1,
   "metadata": {},
   "outputs": [
    {
     "name": "stdout",
     "output_type": "stream",
     "text": [
      "3.8.8 (default, Apr 13 2021, 15:08:03) [MSC v.1916 64 bit (AMD64)]\n",
      "2.7.0\n"
     ]
    }
   ],
   "source": [
    "#텐서플로 2.0으로 코딩하는 방법\n",
    "import tensorflow as tf\n",
    "import sys\n",
    "print(sys.version) #파이썬 버전\n",
    "print(tf.__version__) #텐서플로우 버전"
   ]
  },
  {
   "cell_type": "code",
   "execution_count": 2,
   "metadata": {},
   "outputs": [
    {
     "name": "stdout",
     "output_type": "stream",
     "text": [
      "tf.Tensor(b'Hello World', shape=(), dtype=string)\n",
      "b'Hello World'\n",
      "Hello World\n",
      "42\n",
      "[10, 32, 42]\n"
     ]
    }
   ],
   "source": [
    "#상수 선언\n",
    "hello = tf.constant('Hello World')\n",
    "print(hello)\n",
    "print(hello.numpy()) # 바이트 배열\n",
    "print(hello.numpy().decode('utf-8')) # str 클래스로 변환, b가 사라짐\n",
    "a = tf.constant(10)\n",
    "b = tf.constant(32)\n",
    "c = tf.add(a,b)\n",
    "\n",
    "print(c.numpy())\n",
    "print([a.numpy(), b.numpy(), c.numpy()])"
   ]
  },
  {
   "cell_type": "code",
   "execution_count": 3,
   "metadata": {},
   "outputs": [
    {
     "name": "stdout",
     "output_type": "stream",
     "text": [
      "7.0\n"
     ]
    }
   ],
   "source": [
    "node1 = tf.constant(3.0)\n",
    "node2 = tf.constant(4.0)\n",
    "node3 = tf.add(node1, node2)\n",
    "print(node3.numpy())"
   ]
  },
  {
   "cell_type": "code",
   "execution_count": 4,
   "metadata": {},
   "outputs": [
    {
     "name": "stdout",
     "output_type": "stream",
     "text": [
      "15.0\n",
      "0.0\n",
      "[120.     7.75  22.94]\n"
     ]
    }
   ],
   "source": [
    "def output(a, b):\n",
    "    return tf.multiply(a, b)\n",
    "\n",
    "print(output(3.0, 5.0).numpy())\n",
    "print(output(0.0, 6.0).numpy())\n",
    "print(output([20.,3.1,7.4], [6.0, 2.5, 3.1]).numpy())"
   ]
  },
  {
   "cell_type": "code",
   "execution_count": 5,
   "metadata": {},
   "outputs": [
    {
     "data": {
      "text/plain": [
       "array([0.21000001, 0.51000005, 0.81000006, 1.11      ], dtype=float32)"
      ]
     },
     "execution_count": 5,
     "metadata": {},
     "output_type": "execute_result"
    }
   ],
   "source": [
    "#텐서플로의 변수 선언\n",
    "w = tf.Variable([0.3], dtype=tf.float32) #변수\n",
    "b = tf.Variable([-0.3], dtype=tf.float32)\n",
    "\n",
    "def linear_model(x):\n",
    "    return tf.multiply(w, tf.add(x, b))\n",
    "\n",
    "x=[1.,2.,3.,4.]\n",
    "# x의 값에 따라 linear_model 계산\n",
    "linear_model(x).numpy()"
   ]
  },
  {
   "cell_type": "code",
   "execution_count": 3,
   "metadata": {},
   "outputs": [
    {
     "name": "stdout",
     "output_type": "stream",
     "text": [
      "X\n",
      " [[1 2 3]\n",
      " [4 5 6]]\n",
      "W\n",
      " [[0 0]\n",
      " [0 7]\n",
      " [8 9]]\n",
      "b\n",
      " [[3]\n",
      " [9]]\n",
      "Result\n",
      " [[27 44]\n",
      " [57 98]]\n"
     ]
    }
   ],
   "source": [
    "import tensorflow as tf\n",
    "import numpy as np\n",
    "\n",
    "X = np.array([[1,2,3],[4,5,6]]) #2행 3열\n",
    "print('X\\n', X)\n",
    "\n",
    "#3행 2열의 랜덤\n",
    "w = np.array([[np.random.randint(10) for col in range(2)]\n",
    "for row in range(3)])\n",
    "print('W\\n', w)\n",
    "\n",
    "#2행 1열\n",
    "b = np.array([[np.random.randint(10) for col in range(1)]\n",
    "for row in range(2)])\n",
    "print('b\\n', b)\n",
    "\n",
    "def expr(X):\n",
    "    return tf.matmul(X, w) + b #matmul : 행렬 곱셈\n",
    "\n",
    "print('Result\\n', expr(X).numpy())"
   ]
  },
  {
   "cell_type": "code",
   "execution_count": 4,
   "metadata": {},
   "outputs": [
    {
     "name": "stdout",
     "output_type": "stream",
     "text": [
      "WARNING:tensorflow:From C:\\anaconda3\\lib\\site-packages\\tensorflow\\python\\compat\\v2_compat.py:111: disable_resource_variables (from tensorflow.python.ops.variable_scope) is deprecated and will be removed in a future version.\n",
      "Instructions for updating:\n",
      "non-resource variables are not supported in the long term\n",
      "7 x 1 =  7\n",
      "7 x 2 =  7\n",
      "7 x 3 =  7\n",
      "7 x 4 =  7\n",
      "7 x 5 =  7\n",
      "7 x 6 =  7\n",
      "7 x 7 =  7\n",
      "7 x 8 =  7\n",
      "7 x 9 =  7\n"
     ]
    }
   ],
   "source": [
    "#실습 - 구구단\n",
    "import tensorflow.compat.v1 as tf #구버전 텐서플로우\n",
    "tf.disable_v2_behavior()\n",
    "\n",
    "def gugu(dan):\n",
    "    #플레이스홀더 선언(그래프에 입력할 변수)\n",
    "    left = tf.placeholder(tf.int32)\n",
    "    right = tf.placeholder(tf.int32)\n",
    "    #그래프의 수식\n",
    "    calc = tf.multiply(left, right)\n",
    "\n",
    "    with tf.Session() as sess: # 세션이 생성됨\n",
    "        for i in range(1, 10):\n",
    "            #세션.run(실행함수, feed_dict={변수: 입력할 값})\n",
    "            result = sess.run(calc, feed_dict={left: dan, right: 1})\n",
    "            print('{0} x {1} = {2:2}'.format(dan, i, result))\n",
    "\n",
    "gugu(7)"
   ]
  },
  {
   "cell_type": "code",
   "execution_count": 1,
   "metadata": {},
   "outputs": [],
   "source": [
    "#tensorflow 2.0\n",
    "import tensorflow as tf\n",
    "\n",
    "def calc(left, right):\n",
    "    return tf.multiply(left, right)\n",
    "\n",
    "def gugu(dan):\n",
    "    for i in range(1, 10):\n",
    "        result = calc(dan, i)\n",
    "        print('{0} x {1} = {2:2}'.format(dan, i, result))"
   ]
  },
  {
   "cell_type": "code",
   "execution_count": 2,
   "metadata": {},
   "outputs": [
    {
     "name": "stdout",
     "output_type": "stream",
     "text": [
      "7 x 1 =  7\n",
      "7 x 2 = 14\n",
      "7 x 3 = 21\n",
      "7 x 4 = 28\n",
      "7 x 5 = 35\n",
      "7 x 6 = 42\n",
      "7 x 7 = 49\n",
      "7 x 8 = 56\n",
      "7 x 9 = 63\n"
     ]
    }
   ],
   "source": [
    "gugu(7)"
   ]
  },
  {
   "cell_type": "code",
   "execution_count": null,
   "metadata": {},
   "outputs": [],
   "source": []
  }
 ],
 "metadata": {
  "interpreter": {
   "hash": "cef9e06bb236b2a8629b07e87a04b187b952a0f661eff5533360a155783f0c33"
  },
  "kernelspec": {
   "display_name": "Python 3.8.8 64-bit ('base': conda)",
   "language": "python",
   "name": "python3"
  },
  "language_info": {
   "codemirror_mode": {
    "name": "ipython",
    "version": 3
   },
   "file_extension": ".py",
   "mimetype": "text/x-python",
   "name": "python",
   "nbconvert_exporter": "python",
   "pygments_lexer": "ipython3",
   "version": "3.8.8"
  },
  "orig_nbformat": 4
 },
 "nbformat": 4,
 "nbformat_minor": 2
}
