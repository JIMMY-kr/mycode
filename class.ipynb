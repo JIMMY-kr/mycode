{
 "cells": [
  {
   "cell_type": "code",
   "execution_count": null,
   "metadata": {},
   "outputs": [],
   "source": [
    "a=1\n",
    "print(type(a))\n",
    "b='a'\n",
    "print(type(b))"
   ]
  },
  {
   "cell_type": "code",
   "execution_count": null,
   "metadata": {},
   "outputs": [],
   "source": [
    "import math\n",
    "class MyCircle:\n",
    "    def set_r(self, r):\n",
    "        self.r=r\n",
    "\n",
    "    def length(self):#둘레\n",
    "        self.a=2 * math.pi * self.r\n",
    "\n",
    "    def area(self):#면적\n",
    "        self.b=math.pi * self.r * self.r\n",
    "\n",
    "    def disp(self):\n",
    "        print('반지름:{}, 둘레:{:.2f}, 넓이:{:.2f}'.format(self.r,self.a,self.b))"
   ]
  },
  {
   "cell_type": "code",
   "execution_count": null,
   "metadata": {},
   "outputs": [],
   "source": [
    "a=MyCircle()\n",
    "a.set_r(50)\n",
    "a.length()\n",
    "a.area()\n",
    "a.disp()"
   ]
  },
  {
   "cell_type": "code",
   "execution_count": null,
   "metadata": {},
   "outputs": [],
   "source": [
    "class Person:\n",
    "    name=''\n",
    "    age=0\n",
    "    height=0\n",
    "\n",
    "p1=Person()\n",
    "p1.name='John'\n",
    "p1.age=20\n",
    "p1.height=187.3\n",
    "print(f'name:{p1.name}, age:{p1.age}, height:{p1.height}')"
   ]
  },
  {
   "cell_type": "code",
   "execution_count": null,
   "metadata": {},
   "outputs": [],
   "source": [
    "class Person:\n",
    "    name=''\n",
    "    age=0\n",
    "    height=0\n",
    "    def disp(self):\n",
    "        print(f'name:{self.name}, age:{self.age}, height:{self.height}')\n",
    "\n",
    "p2=Person()\n",
    "p2.name='John'\n",
    "p2.age=50\n",
    "p2.height=185.5\n",
    "p2.disp()"
   ]
  },
  {
   "cell_type": "code",
   "execution_count": null,
   "metadata": {},
   "outputs": [],
   "source": [
    "class Person:\n",
    "    name=''\n",
    "    age=0\n",
    "    height=0\n",
    "    def set_age(self, age):\n",
    "        if age>100 or age<0:\n",
    "            self.age=int(input('please input correct age:'))\n",
    "        else:\n",
    "            self.age=age\n",
    "\n",
    "    def disp(self):\n",
    "        print(f'name:{self.name}, age:{self.age}, height:{self.height}')\n",
    "\n",
    "p3=Person()\n",
    "p3.name='John'\n",
    "p3.set_age(-100)\n",
    "p3.height=188.7\n",
    "p3.disp()"
   ]
  },
  {
   "cell_type": "code",
   "execution_count": null,
   "metadata": {},
   "outputs": [],
   "source": [
    "class Emp:\n",
    "    name=''\n",
    "    salary=0\n",
    "    bonus=0\n",
    "    money=0\n",
    "\n",
    "e1=Emp()\n",
    "e1.name='John'\n",
    "e1.salary=500\n",
    "e1.bonus=300\n",
    "e1.money=e1.salary*12 + e1.bonus\n",
    "print(f'name:{e1.name}, salary:{e1.salary}, bonus:{e1.bonus}, money:{e1.money}')"
   ]
  },
  {
   "cell_type": "code",
   "execution_count": null,
   "metadata": {},
   "outputs": [],
   "source": [
    "class Emp:\n",
    "    name=''\n",
    "    salary=0\n",
    "    bonus=0\n",
    "    money=0\n",
    "    def __init__(self,name,salary,bonus):\n",
    "    #초기화함수\n",
    "        self.name = name\n",
    "        self.salary = salary\n",
    "        self.bonus = bonus\n",
    "\n",
    "    def disp(self):\n",
    "        print(f'name:{self.name},salary:{self.salary},bonus:{self.bonus},money:{self.money}')\n",
    "\n",
    "\n",
    "e3=Emp('John',500,700)\n",
    "e3.money=e3.salary*12 + e3.bonus\n",
    "e3.disp()"
   ]
  },
  {
   "cell_type": "code",
   "execution_count": null,
   "metadata": {},
   "outputs": [],
   "source": [
    "class Emp:\n",
    "    name=''\n",
    "    salary=0\n",
    "    bonus=0\n",
    "    money=0\n",
    "    def __init__(self,name,salary,bonus):\n",
    "    #초기화함수\n",
    "        self.name = name\n",
    "        self.salary = salary\n",
    "        self.bonus = bonus\n",
    "\n",
    "    def calc(self):\n",
    "        self.money=self.salary*12 + self.bonus\n",
    "\n",
    "    def disp(self):\n",
    "        print(f'name:{self.name},salary:{self.salary},bonus:{self.bonus},money:{self.money}')\n",
    "\n",
    "\n",
    "e4=Emp('John',500,700)\n",
    "e4.calc()\n",
    "e4.disp()"
   ]
  },
  {
   "cell_type": "code",
   "execution_count": null,
   "metadata": {},
   "outputs": [],
   "source": [
    "class Point:\n",
    "    name=''\n",
    "    kor=0\n",
    "    eng=0\n",
    "    mat=0\n",
    "    tot=0\n",
    "    avg=0\n",
    "    grage=''\n",
    "\n",
    "p1 = Point()\n",
    "p1.name = 'John'\n",
    "p1.kor = 80\n",
    "p1.eng = 90\n",
    "p1.mat = 95\n",
    "p1.tot = p1.kor + p1.eng + p1.mat\n",
    "p1.avg = p1.tot / 3\n",
    "if 90 <= p1.avg <= 100:\n",
    "    p1.grade='A'\n",
    "elif 80 <= p1.avg < 90:\n",
    "    p1.grade = 'B'\n",
    "elif 70 <= p1.avg < 80:\n",
    "    p1.grade = 'C'\n",
    "elif 60 <= p1.avg < 70:\n",
    "    p1.grade = 'D'\n",
    "else:\n",
    "    p1.grade = 'F'\n",
    "\n",
    "print('name\\tkor\\teng\\tmat\\ttot\\tavg\\tgrage')\n",
    "print(f'{p1.name}\\t{p1.kor}\\t{p1.eng}\\t{p1.mat}\\t{p1.tot}\\t{p1.avg:.1f}\\t{p1.grade}')"
   ]
  },
  {
   "cell_type": "code",
   "execution_count": null,
   "metadata": {},
   "outputs": [],
   "source": [
    "class Point:\n",
    "    name=''\n",
    "    kor=0\n",
    "    eng=0\n",
    "    mat=0\n",
    "    tot=0\n",
    "    avg=0\n",
    "    grage=''\n",
    "\n",
    "    def __init__(self, name, kor, eng, mat):\n",
    "        self.name = name\n",
    "        self.kor = kor\n",
    "        self.eng = eng\n",
    "        self.mat = mat\n",
    "\n",
    "p2 = Point('John', 88, 100, 99)\n",
    "p2.tot = p2.kor + p2.eng + p2.mat\n",
    "p2.avg = p2.tot / 3\n",
    "\n",
    "if 90 <= p2.avg <= 100:\n",
    "    p2.grade='A'\n",
    "elif 80 <= p2.avg < 90:\n",
    "    p2.grade = 'B'\n",
    "elif 70 <= p2.avg < 80:\n",
    "    p2.grade = 'C'\n",
    "elif 60 <= p2.avg < 70:\n",
    "    p2.grade = 'D'\n",
    "else:\n",
    "    p2.grade = 'F'\n",
    "\n",
    "print('name\\tkor\\teng\\tmat\\ttot\\tavg\\tgrade')\n",
    "print(f'{p2.name}\\t{p2.kor}\\t{p2.eng}\\t{p2.mat}\\t{p2.tot}\\t{p2.avg:.1f}\\t{p2.grade}')"
   ]
  },
  {
   "cell_type": "code",
   "execution_count": 2,
   "metadata": {},
   "outputs": [
    {
     "name": "stdout",
     "output_type": "stream",
     "text": [
      "name\tkor\teng\tmat\ttot\tavg\tgrade\n",
      "John\t88\t99\t100\t287\t95.7\tA\n"
     ]
    }
   ],
   "source": [
    "class Point:\n",
    "    def __init__(self, name, kor, eng, mat):\n",
    "        self.name = name\n",
    "        self.kor = kor\n",
    "        self.eng = eng\n",
    "        self.mat = mat\n",
    "\n",
    "    def calc(self):\n",
    "        self.tot = self.kor + self.eng + self.mat\n",
    "        self.avg = self.tot / 3\n",
    "        if 90 <= self.avg <= 100:\n",
    "            self.grade='A'\n",
    "        elif 80 <= self.avg < 90:\n",
    "            self.grade = 'B'\n",
    "        elif 70 <= self.avg < 80:\n",
    "            self.grade = 'C'\n",
    "        elif 60 <= self.avg < 70:\n",
    "            self.grade = 'D'\n",
    "        else:\n",
    "            self.grade = 'F'\n",
    "    \n",
    "    def disp(self):\n",
    "        print('name\\tkor\\teng\\tmat\\ttot\\tavg\\tgrade')\n",
    "        print(f'{self.name}\\t{self.kor}\\t{self.eng}\\t{self.mat}\\t{self.tot}\\t{self.avg:.1f}\\t{self.grade}')\n",
    "\n",
    "p4=Point('John', 88, 99, 100)\n",
    "p4.calc()\n",
    "p4.disp()\n",
    "\n",
    "    #네 이해했습니다. 감사합니다."
   ]
  },
  {
   "cell_type": "code",
   "execution_count": 3,
   "metadata": {},
   "outputs": [],
   "source": [
    "class Book:\n",
    "    def __init__(self,name,price):\n",
    "        self.name = name\n",
    "        self.price = price\n",
    "\n",
    "    def disp(self):\n",
    "        print(f'name:{self.name}\\t price:{self:price}')"
   ]
  },
  {
   "cell_type": "code",
   "execution_count": 8,
   "metadata": {},
   "outputs": [],
   "source": [
    "class BookSale(Book):\n",
    "    def __init__(self, name, price, amount):\n",
    "        Book.__init__(self, name, price)\n",
    "        self.amount = amount\n",
    "\n",
    "    def calc(self):\n",
    "        self.money = self.price * self.amount\n",
    "        if 1 <= self.amount <= 1000:\n",
    "            self.fee = self.amount * 0.01\n",
    "        elif 1001 <= self.amount <= 3000:\n",
    "            self.fee = self.money * 0.03\n",
    "        elif 3001 <= self.amount:\n",
    "            self.fee = self.money * 0.05\n",
    "\n",
    "    def disp(self):\n",
    "        print(f'{self.name}\\t{self.price}\\t{self.amount}\\t{self.money}\\t{self.fee}')"
   ]
  },
  {
   "cell_type": "code",
   "execution_count": 9,
   "metadata": {},
   "outputs": [
    {
     "name": "stdout",
     "output_type": "stream",
     "text": [
      "Java\t50000\t1000\t50000000\t10.0\n",
      "C\t40000\t2500\t100000000\t3000000.0\n",
      "Python\t35000\t3500\t122500000\t6125000.0\n"
     ]
    }
   ],
   "source": [
    "b1 = BookSale('Java', 50000, 1000)\n",
    "b1.calc()\n",
    "b1.disp()\n",
    "\n",
    "b2 = BookSale('C', 40000, 2500)\n",
    "b2.calc()\n",
    "b2.disp()\n",
    "\n",
    "b3=BookSale('Python', 35000, 3500)\n",
    "b3.calc()\n",
    "b3.disp()"
   ]
  },
  {
   "cell_type": "code",
   "execution_count": null,
   "metadata": {},
   "outputs": [],
   "source": []
  }
 ],
 "metadata": {
  "interpreter": {
   "hash": "cef9e06bb236b2a8629b07e87a04b187b952a0f661eff5533360a155783f0c33"
  },
  "kernelspec": {
   "display_name": "Python 3.8.8 64-bit ('base': conda)",
   "language": "python",
   "name": "python3"
  },
  "language_info": {
   "codemirror_mode": {
    "name": "ipython",
    "version": 3
   },
   "file_extension": ".py",
   "mimetype": "text/x-python",
   "name": "python",
   "nbconvert_exporter": "python",
   "pygments_lexer": "ipython3",
   "version": "3.8.8"
  },
  "orig_nbformat": 4
 },
 "nbformat": 4,
 "nbformat_minor": 2
}
