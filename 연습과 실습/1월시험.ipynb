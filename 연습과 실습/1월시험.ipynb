{
 "cells": [
  {
   "cell_type": "code",
   "execution_count": 1,
   "metadata": {},
   "outputs": [],
   "source": [
    "import numpy as np\n",
    "from tensorflow.keras.datasets import imdb\n",
    "from tensorflow.keras.preprocessing import sequence\n",
    "\n",
    "np.random.seed(7)\n",
    "top_words = 5000 #상위 단어 5000개\n",
    "#학습용, 검증용 5:5\n",
    "(X_train, y_train), (X_test, y_test) = imdb.load_data(num_words=top_words)\n",
    "max_review_length = 500 #리뷰의 최대 길이를 500으로 설정\n",
    "# 길이가 짧으면 공백으로\n",
    "X_train = sequence.pad_sequences(X_train, maxlen=max_review_length)\n",
    "X_test = sequence.pad_sequences(X_test, maxlen=max_review_length)"
   ]
  },
  {
   "cell_type": "code",
   "execution_count": 2,
   "metadata": {},
   "outputs": [
    {
     "name": "stdout",
     "output_type": "stream",
     "text": [
      "{'I': array([0.01701636], dtype=float32), 'am': array([0.03163273], dtype=float32), 'a': array([-0.03822608], dtype=float32), 'boy': array([-0.02253202], dtype=float32)}\n",
      "[-0.02253202]\n"
     ]
    }
   ],
   "source": [
    "from tensorflow.keras.models import Sequential\n",
    "from tensorflow.keras.layers import Embedding\n",
    "\n",
    "#Embedding\n",
    "model = Sequential()\n",
    "# Embedding(단어의개수, 벡터크기, 입력사이즈)\n",
    "#각 단어에 대한 정수 인코딩\n",
    "words = {'I':0, 'am':1, 'a':2, 'boy':3}\n",
    "#Embedding(단어개수, 벡터크기, 입력사이즈(최대단어수))\n",
    "#keras 신경망에 word2vec 벡터를 입력하는 방법\n",
    "model.add(Embedding(5,1,input_length=1))\n",
    "\n",
    "#가중치 값\n",
    "embedding = model.layers[0].get_weights()[0]\n",
    "words_embeddings = {w:embedding[idx] for w, idx in words.items()}\n",
    "print(words_embeddings)\n",
    "print(words_embeddings['boy'])"
   ]
  },
  {
   "cell_type": "code",
   "execution_count": 3,
   "metadata": {},
   "outputs": [],
   "source": [
    "from tensorflow.keras.models import Sequential\n",
    "from tensorflow.keras.layers import Dense\n",
    "from tensorflow.keras.layers import LSTM\n",
    "from tensorflow.keras.layers import Embedding\n",
    "\n",
    "#create model\n",
    "embedding_vector_length = 32 #벡터사이즈\n",
    "model = Sequential()\n",
    "\n",
    "#임베딩 레이어 Embedding(단어의개수, 벡터크기, 입력사이즈(최대단어개수))\n",
    "model.add(Embedding(top_words, embedding_vector_length, input_length=max_review_length))\n",
    "\n",
    "#문장을 단어들의 시퀀스로 간주하고 순환 레이어의 입력으로\n",
    "model.add(LSTM(100)) #순환레이어: LSTM, 출력노드수: 100\n",
    "model.add(Dense(1, activation='sigmoid')) #출력레이어 노드수:1, 활성화함수: sigmoid\n",
    "model.compile(loss='binary_crossentropy', optimizer='adam', metrics=['accuracy'])"
   ]
  },
  {
   "cell_type": "code",
   "execution_count": 4,
   "metadata": {},
   "outputs": [
    {
     "name": "stdout",
     "output_type": "stream",
     "text": [
      "Epoch 1/10\n",
      "11/11 [==============================] - 2s 67ms/step - loss: 0.6932 - accuracy: 0.4871 - val_loss: 0.6928 - val_accuracy: 0.4800\n",
      "Epoch 2/10\n",
      "11/11 [==============================] - 0s 41ms/step - loss: 0.6889 - accuracy: 0.5829 - val_loss: 0.6896 - val_accuracy: 0.5700\n",
      "Epoch 3/10\n",
      "11/11 [==============================] - 0s 39ms/step - loss: 0.6652 - accuracy: 0.7414 - val_loss: 0.6708 - val_accuracy: 0.5833\n",
      "Epoch 4/10\n",
      "11/11 [==============================] - 0s 43ms/step - loss: 0.6234 - accuracy: 0.7986 - val_loss: 0.6474 - val_accuracy: 0.6433\n",
      "Epoch 5/10\n",
      "11/11 [==============================] - 0s 40ms/step - loss: 0.6656 - accuracy: 0.8257 - val_loss: 0.6520 - val_accuracy: 0.6200\n",
      "Epoch 6/10\n",
      "11/11 [==============================] - 0s 38ms/step - loss: 0.5124 - accuracy: 0.8471 - val_loss: 0.6362 - val_accuracy: 0.6367\n",
      "Epoch 7/10\n",
      "11/11 [==============================] - 0s 41ms/step - loss: 0.3660 - accuracy: 0.8986 - val_loss: 0.5404 - val_accuracy: 0.7133\n",
      "Epoch 8/10\n",
      "11/11 [==============================] - 0s 40ms/step - loss: 0.2416 - accuracy: 0.9186 - val_loss: 0.5976 - val_accuracy: 0.6767\n",
      "Epoch 9/10\n",
      "11/11 [==============================] - 0s 37ms/step - loss: 0.1856 - accuracy: 0.9557 - val_loss: 0.6009 - val_accuracy: 0.6967\n"
     ]
    }
   ],
   "source": [
    "from tensorflow.keras.callbacks import EarlyStopping\n",
    "#조기종료함수, 2회에서 성능이 개선되지 않는다면 조기종료\n",
    "early_stopping = EarlyStopping(patience=2)\n",
    "#학습회수(epoches): 10회, validation dataset 30%\n",
    "hist=model.fit(X_train[:1000], y_train[:1000], epochs=10, batch_size=64,\n",
    "validation_split=0.3, callbacks=[early_stopping])"
   ]
  },
  {
   "cell_type": "code",
   "execution_count": 7,
   "metadata": {},
   "outputs": [
    {
     "name": "stdout",
     "output_type": "stream",
     "text": [
      "32/32 [==============================] - 1s 15ms/step - loss: 0.2540 - accuracy: 0.9020\n",
      "정확도(학습용): 90.20%\n",
      "32/32 [==============================] - 0s 9ms/step - loss: 0.5615 - accuracy: 0.7310\n",
      "정확도(검증용): 73.10%\n"
     ]
    }
   ],
   "source": [
    "#Final evalutaion of the model\n",
    "scores = model.evaluate(X_train[:1000], y_train[:1000], verbose=1)\n",
    "print('정확도(학습용): %.2f%%' % (scores[1]*100))\n",
    "\n",
    "scores = model.evaluate(X_test[:1000], y_test[:1000], verbose=1)\n",
    "print('정확도(검증용): %.2f%%' % (scores[1]*100))"
   ]
  },
  {
   "cell_type": "code",
   "execution_count": 6,
   "metadata": {},
   "outputs": [
    {
     "data": {
      "image/png": "[encoded data removed]",
      "text/plain": [
       "<Figure size 864x576 with 1 Axes>"
      ]
     },
     "metadata": {
      "needs_background": "light"
     },
     "output_type": "display_data"
    }
   ],
   "source": [
    "#모델의 학습과정\n",
    "%matplotlib inline\n",
    "import matplotlib.pyplot as plt\n",
    "\n",
    "plt.figure(figsize=(12,8))\n",
    "plt.plot(hist.history['loss']) #손실\n",
    "plt.plot(hist.history['accuracy'])# 정확도\n",
    "plt.legend(['loss', 'accuracy'])\n",
    "plt.grid()\n",
    "plt.show()"
   ]
  }
 ],
 "metadata": {
  "interpreter": {
   "hash": "cef9e06bb236b2a8629b07e87a04b187b952a0f661eff5533360a155783f0c33"
  },
  "kernelspec": {
   "display_name": "Python 3.8.8 64-bit ('base': conda)",
   "language": "python",
   "name": "python3"
  },
  "language_info": {
   "codemirror_mode": {
    "name": "ipython",
    "version": 3
   },
   "file_extension": ".py",
   "mimetype": "text/x-python",
   "name": "python",
   "nbconvert_exporter": "python",
   "pygments_lexer": "ipython3",
   "version": "3.8.8"
  },
  "orig_nbformat": 4
 },
 "nbformat": 4,
 "nbformat_minor": 2
}
