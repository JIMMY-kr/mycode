{
 "cells": [
  {
   "cell_type": "code",
   "execution_count": 5,
   "metadata": {},
   "outputs": [],
   "source": [
    "import cx_Oracle\n",
    "conn = cx_Oracle.connect(\"hr/hr@localhost:1521/xe\")\n",
    "cursor = conn.cursor()\n",
    "\n",
    "sql=\"delete from product\"\n",
    "cursor.execute(sql)\n",
    "\n",
    "items = [\n",
    "(1, 'lemon', 1500, '레몬에 포함된 구연산은 피로회복에 좋습니다. 비타민 C도 풍부합니다.', 'lemon.jpg'),\n",
    "(2, 'orange', 2000, '비타민 C가 풍부합니다. 생과일주스로 마시면 좋습니다.', 'orange.jpg'),\n",
    "(3, 'kiwi', 3000, '비타민 C가 풍부합니다. 다이어트나 미용에 좋습니다.', 'kiwi.jpg'),\n",
    "(4, 'grape', 5000, '폴리페놀을 다량 함유하고 있어 항산화 작용을 합니다.', 'grape.jpg'),\n",
    "(5, 'strawberry', 8000, '비타민 C나 플라보노이드를 다량 함유하고 있습니다.', 'strawberry.jpg'),\n",
    "(6, 'Mandarin', 7000, '시네피린을 함유하고 있어 감기 예방에 좋다고 합니다.', 'mandarin.jpg'),\n",
    "]"
   ]
  },
  {
   "cell_type": "code",
   "execution_count": 6,
   "metadata": {},
   "outputs": [
    {
     "name": "stdout",
     "output_type": "stream",
     "text": [
      "상품개수: 6\n"
     ]
    }
   ],
   "source": [
    "for row in items:\n",
    "    sql = 'insert into product values (:1,:2,:3,:4,:5)'\n",
    "    cursor.execute(sql,row)\n",
    "sql = 'select count(*) from product'\n",
    "cursor.execute(sql)\n",
    "count=cursor.fetchone()\n",
    "print('상품개수:',count[0])"
   ]
  },
  {
   "cell_type": "code",
   "execution_count": 7,
   "metadata": {},
   "outputs": [
    {
     "name": "stdout",
     "output_type": "stream",
     "text": [
      "(1, 'lemon', 1500, <cx_Oracle.LOB object at 0x0000026E008E4E40>, 'lemon.jpg')\n",
      "레몬에 포함된 구연산은 피로회복에 좋습니다. 비타민 C도 풍부합니다.\n",
      "(2, 'orange', 2000, <cx_Oracle.LOB object at 0x0000026E00921C00>, 'orange.jpg')\n",
      "비타민 C가 풍부합니다. 생과일주스로 마시면 좋습니다.\n",
      "(3, 'kiwi', 3000, <cx_Oracle.LOB object at 0x0000026E00921D50>, 'kiwi.jpg')\n",
      "비타민 C가 풍부합니다. 다이어트나 미용에 좋습니다.\n",
      "(4, 'grape', 5000, <cx_Oracle.LOB object at 0x0000026E009216F0>, 'grape.jpg')\n",
      "폴리페놀을 다량 함유하고 있어 항산화 작용을 합니다.\n",
      "(5, 'strawberry', 8000, <cx_Oracle.LOB object at 0x0000026E00921D50>, 'strawberry.jpg')\n",
      "비타민 C나 플라보노이드를 다량 함유하고 있습니다.\n",
      "(6, 'Mandarin', 7000, <cx_Oracle.LOB object at 0x0000026E009216F0>, 'mandarin.jpg')\n",
      "시네피린을 함유하고 있어 감기 예방에 좋다고 합니다.\n"
     ]
    }
   ],
   "source": [
    "#전체 레코드 조회\n",
    "sql = \"select * from product\"\n",
    "cursor.execute(sql)\n",
    "for row in cursor:\n",
    "    description=row[3].read()\n",
    "    print(row)\n",
    "    print(description)"
   ]
  },
  {
   "cell_type": "code",
   "execution_count": 8,
   "metadata": {},
   "outputs": [],
   "source": [
    "sql = 'delete from product where product_id=6'\n",
    "cursor.execute(sql)"
   ]
  },
  {
   "cell_type": "code",
   "execution_count": 9,
   "metadata": {},
   "outputs": [],
   "source": [
    "conn.commit()"
   ]
  },
  {
   "cell_type": "code",
   "execution_count": 11,
   "metadata": {},
   "outputs": [],
   "source": [
    "sql = 'delete from product'\n",
    "cursor.execute(sql)"
   ]
  },
  {
   "cell_type": "code",
   "execution_count": 12,
   "metadata": {},
   "outputs": [],
   "source": [
    "sql=\"insert into product values (:1,:2,:3,:4,:5)\"\n",
    "cursor.executemany(sql, items)"
   ]
  },
  {
   "cell_type": "code",
   "execution_count": 13,
   "metadata": {},
   "outputs": [
    {
     "name": "stdout",
     "output_type": "stream",
     "text": [
      "(1, 'lemon', 1500, <cx_Oracle.LOB object at 0x0000026E00921D80>, 'lemon.jpg')\n",
      "(2, 'orange', 2000, <cx_Oracle.LOB object at 0x0000026E00921A50>, 'orange.jpg')\n",
      "(3, 'kiwi', 3000, <cx_Oracle.LOB object at 0x0000026E00921480>, 'kiwi.jpg')\n",
      "(4, 'grape', 5000, <cx_Oracle.LOB object at 0x0000026E00921BD0>, 'grape.jpg')\n",
      "(5, 'strawberry', 8000, <cx_Oracle.LOB object at 0x0000026E00814960>, 'strawberry.jpg')\n",
      "(6, 'Mandarin', 7000, <cx_Oracle.LOB object at 0x0000026E00814C60>, 'mandarin.jpg')\n"
     ]
    }
   ],
   "source": [
    "sql='select * from product'\n",
    "cursor.execute(sql)\n",
    "rs=cursor.fetchall()\n",
    "for row in rs:\n",
    "    print(row)"
   ]
  },
  {
   "cell_type": "code",
   "execution_count": 14,
   "metadata": {},
   "outputs": [],
   "source": [
    "conn.commit()\n",
    "cursor.close()\n",
    "conn.close()"
   ]
  },
  {
   "cell_type": "code",
   "execution_count": 3,
   "metadata": {},
   "outputs": [
    {
     "name": "stdout",
     "output_type": "stream",
     "text": [
      "(101, '컴퓨터공학', 7)\n",
      "(102, '데이터사이언스', 4)\n",
      "(103, '소프트웨어공학', 1)\n",
      "(201, '전자공학', 4)\n",
      "(202, '기계공학', 2)\n",
      "(301, '문헌정보학', 2)\n"
     ]
    }
   ],
   "source": [
    "import cx_Oracle\n",
    "conn = cx_Oracle.connect('hr/hr@localhost:1521/xe')\n",
    "cursor = conn.cursor()\n",
    "sql='''\n",
    "select s.majorno, mname, count(*)\n",
    "from stud s, major m\n",
    "where s.majorno=m.majorno\n",
    "group by s.majorno, mname\n",
    "order by s.majorno\n",
    "'''\n",
    "\n",
    "cursor.execute(sql)\n",
    "rows = cursor.fetchall()\n",
    "for row in rows:\n",
    "    print(row)\n",
    "\n",
    "cursor.close()\n",
    "conn.close()"
   ]
  },
  {
   "cell_type": "code",
   "execution_count": 5,
   "metadata": {},
   "outputs": [
    {
     "name": "stdout",
     "output_type": "stream",
     "text": [
      "[1, 2, 3, 4, 5, 6]\n",
      "['컴퓨터공학', '데이터사이언스', '소프트웨어공학', '전자공학', '기계공학', '문헌정보학']\n",
      "[7, 4, 1, 4, 2, 2]\n"
     ]
    }
   ],
   "source": [
    "x = list(range(1,7))\n",
    "names=[]\n",
    "y=[]\n",
    "for row in rows:\n",
    "    names.append(row[1])\n",
    "    y.append(row[2])\n",
    "\n",
    "print(x)\n",
    "print(names)\n",
    "print(y)"
   ]
  },
  {
   "cell_type": "code",
   "execution_count": 6,
   "metadata": {},
   "outputs": [
    {
     "data": {
      "text/plain": [
       "<matplotlib.legend.Legend at 0x2048ecc65b0>"
      ]
     },
     "execution_count": 6,
     "metadata": {},
     "output_type": "execute_result"
    },
    {
     "data": {
      "image/png": "[encoded data removed]",
      "text/plain": [
       "<Figure size 1152x648 with 1 Axes>"
      ]
     },
     "metadata": {},
     "output_type": "display_data"
    }
   ],
   "source": [
    "import matplotlib.pyplot as plt\n",
    "%matplotlib inline\n",
    "from matplotlib import rc, font_manager\n",
    "font_name = font_manager.FontProperties(\n",
    "    fname='c:/windows/fonts/gulim.ttc').get_name()\n",
    "\n",
    "rc('font', family=font_name)\n",
    "plt.rcParams['figure.figsize']=(16,9)\n",
    "plt.title('학과별 학생수', fontsize=20) #제목\n",
    "plt.pie(y,labels=names,autopct='%.1f%%') #파이차트\n",
    "#plt.legend(names,loc='upper right') #범례\n",
    "#bbox_to_anchor: figure의 width, height를 1.0을 기준으로 설정\n",
    "#legend의 좌측상단좌표를 figure의 1.0, 1.0에 위치시킴\n",
    "plt.legend(names,bbox_to_anchor=[1, 1.2])"
   ]
  },
  {
   "cell_type": "code",
   "execution_count": 2,
   "metadata": {},
   "outputs": [
    {
     "data": {
      "text/html": [
       "<div>\n",
       "<style scoped>\n",
       "    .dataframe tbody tr th:only-of-type {\n",
       "        vertical-align: middle;\n",
       "    }\n",
       "\n",
       "    .dataframe tbody tr th {\n",
       "        vertical-align: top;\n",
       "    }\n",
       "\n",
       "    .dataframe thead th {\n",
       "        text-align: right;\n",
       "    }\n",
       "</style>\n",
       "<table border=\"1\" class=\"dataframe\">\n",
       "  <thead>\n",
       "    <tr style=\"text-align: right;\">\n",
       "      <th></th>\n",
       "      <th>SepalLength</th>\n",
       "      <th>SepalWidth</th>\n",
       "      <th>PetalLength</th>\n",
       "      <th>PetalWidth</th>\n",
       "      <th>Name</th>\n",
       "      <th>Species</th>\n",
       "    </tr>\n",
       "  </thead>\n",
       "  <tbody>\n",
       "    <tr>\n",
       "      <th>0</th>\n",
       "      <td>5.1</td>\n",
       "      <td>3.5</td>\n",
       "      <td>1.4</td>\n",
       "      <td>0.2</td>\n",
       "      <td>setosa</td>\n",
       "      <td>0</td>\n",
       "    </tr>\n",
       "    <tr>\n",
       "      <th>1</th>\n",
       "      <td>4.9</td>\n",
       "      <td>3.0</td>\n",
       "      <td>1.4</td>\n",
       "      <td>0.2</td>\n",
       "      <td>setosa</td>\n",
       "      <td>0</td>\n",
       "    </tr>\n",
       "    <tr>\n",
       "      <th>2</th>\n",
       "      <td>4.7</td>\n",
       "      <td>3.2</td>\n",
       "      <td>1.3</td>\n",
       "      <td>0.2</td>\n",
       "      <td>setosa</td>\n",
       "      <td>0</td>\n",
       "    </tr>\n",
       "    <tr>\n",
       "      <th>3</th>\n",
       "      <td>4.6</td>\n",
       "      <td>3.1</td>\n",
       "      <td>1.5</td>\n",
       "      <td>0.2</td>\n",
       "      <td>setosa</td>\n",
       "      <td>0</td>\n",
       "    </tr>\n",
       "    <tr>\n",
       "      <th>4</th>\n",
       "      <td>5.0</td>\n",
       "      <td>3.6</td>\n",
       "      <td>1.4</td>\n",
       "      <td>0.2</td>\n",
       "      <td>setosa</td>\n",
       "      <td>0</td>\n",
       "    </tr>\n",
       "  </tbody>\n",
       "</table>\n",
       "</div>"
      ],
      "text/plain": [
       "   SepalLength  SepalWidth  PetalLength  PetalWidth    Name  Species\n",
       "0          5.1         3.5          1.4         0.2  setosa        0\n",
       "1          4.9         3.0          1.4         0.2  setosa        0\n",
       "2          4.7         3.2          1.3         0.2  setosa        0\n",
       "3          4.6         3.1          1.5         0.2  setosa        0\n",
       "4          5.0         3.6          1.4         0.2  setosa        0"
      ]
     },
     "execution_count": 2,
     "metadata": {},
     "output_type": "execute_result"
    }
   ],
   "source": [
    "import pandas as pd\n",
    "df = pd.read_csv('c:/data/db/iris.csv') #csv 파일\n",
    "df.head()#처음 5개의 데이터"
   ]
  },
  {
   "cell_type": "code",
   "execution_count": 3,
   "metadata": {},
   "outputs": [
    {
     "ename": "InvalidRequestError",
     "evalue": "Could not reflect: requested table(s) not available in Engine(oracle+cx_oracle://hr:***@xe): (iris)",
     "output_type": "error",
     "traceback": [
      "\u001b[1;31m---------------------------------------------------------------------------\u001b[0m",
      "\u001b[1;31mInvalidRequestError\u001b[0m                       Traceback (most recent call last)",
      "\u001b[1;32m<ipython-input-3-ee1c5f80326a>\u001b[0m in \u001b[0;36m<module>\u001b[1;34m\u001b[0m\n\u001b[0;32m      8\u001b[0m \u001b[0mconn\u001b[0m\u001b[1;33m=\u001b[0m\u001b[0mengine\u001b[0m\u001b[1;33m.\u001b[0m\u001b[0mconnect\u001b[0m\u001b[1;33m(\u001b[0m\u001b[1;33m)\u001b[0m\u001b[1;33m\u001b[0m\u001b[1;33m\u001b[0m\u001b[0m\n\u001b[0;32m      9\u001b[0m \u001b[1;31m#데이터프레임의 내용을 테이블로 저장\u001b[0m\u001b[1;33m\u001b[0m\u001b[1;33m\u001b[0m\u001b[1;33m\u001b[0m\u001b[0m\n\u001b[1;32m---> 10\u001b[1;33m \u001b[0mdf\u001b[0m\u001b[1;33m.\u001b[0m\u001b[0mto_sql\u001b[0m\u001b[1;33m(\u001b[0m\u001b[0mname\u001b[0m\u001b[1;33m=\u001b[0m\u001b[1;34m'iris'\u001b[0m\u001b[1;33m,\u001b[0m \u001b[0mcon\u001b[0m\u001b[1;33m=\u001b[0m\u001b[0mengine\u001b[0m\u001b[1;33m,\u001b[0m \u001b[0mif_exists\u001b[0m\u001b[1;33m=\u001b[0m\u001b[1;34m'replace'\u001b[0m\u001b[1;33m,\u001b[0m \u001b[0mindex\u001b[0m\u001b[1;33m=\u001b[0m\u001b[1;32mFalse\u001b[0m\u001b[1;33m)\u001b[0m\u001b[1;33m\u001b[0m\u001b[1;33m\u001b[0m\u001b[0m\n\u001b[0m\u001b[0;32m     11\u001b[0m \u001b[1;31m#df.to_sql(name='iris', con=engine, if_exists='replace')\u001b[0m\u001b[1;33m\u001b[0m\u001b[1;33m\u001b[0m\u001b[1;33m\u001b[0m\u001b[0m\n",
      "\u001b[1;32mC:\\anaconda3\\lib\\site-packages\\pandas\\core\\generic.py\u001b[0m in \u001b[0;36mto_sql\u001b[1;34m(self, name, con, schema, if_exists, index, index_label, chunksize, dtype, method)\u001b[0m\n\u001b[0;32m   2777\u001b[0m         \u001b[1;32mfrom\u001b[0m \u001b[0mpandas\u001b[0m\u001b[1;33m.\u001b[0m\u001b[0mio\u001b[0m \u001b[1;32mimport\u001b[0m \u001b[0msql\u001b[0m\u001b[1;33m\u001b[0m\u001b[1;33m\u001b[0m\u001b[0m\n\u001b[0;32m   2778\u001b[0m \u001b[1;33m\u001b[0m\u001b[0m\n\u001b[1;32m-> 2779\u001b[1;33m         sql.to_sql(\n\u001b[0m\u001b[0;32m   2780\u001b[0m             \u001b[0mself\u001b[0m\u001b[1;33m,\u001b[0m\u001b[1;33m\u001b[0m\u001b[1;33m\u001b[0m\u001b[0m\n\u001b[0;32m   2781\u001b[0m             \u001b[0mname\u001b[0m\u001b[1;33m,\u001b[0m\u001b[1;33m\u001b[0m\u001b[1;33m\u001b[0m\u001b[0m\n",
      "\u001b[1;32mC:\\anaconda3\\lib\\site-packages\\pandas\\io\\sql.py\u001b[0m in \u001b[0;36mto_sql\u001b[1;34m(frame, name, con, schema, if_exists, index, index_label, chunksize, dtype, method)\u001b[0m\n\u001b[0;32m    599\u001b[0m         )\n\u001b[0;32m    600\u001b[0m \u001b[1;33m\u001b[0m\u001b[0m\n\u001b[1;32m--> 601\u001b[1;33m     pandas_sql.to_sql(\n\u001b[0m\u001b[0;32m    602\u001b[0m         \u001b[0mframe\u001b[0m\u001b[1;33m,\u001b[0m\u001b[1;33m\u001b[0m\u001b[1;33m\u001b[0m\u001b[0m\n\u001b[0;32m    603\u001b[0m         \u001b[0mname\u001b[0m\u001b[1;33m,\u001b[0m\u001b[1;33m\u001b[0m\u001b[1;33m\u001b[0m\u001b[0m\n",
      "\u001b[1;32mC:\\anaconda3\\lib\\site-packages\\pandas\\io\\sql.py\u001b[0m in \u001b[0;36mto_sql\u001b[1;34m(self, frame, name, if_exists, index, index_label, schema, chunksize, dtype, method)\u001b[0m\n\u001b[0;32m   1404\u001b[0m             \u001b[0mdtype\u001b[0m\u001b[1;33m=\u001b[0m\u001b[0mdtype\u001b[0m\u001b[1;33m,\u001b[0m\u001b[1;33m\u001b[0m\u001b[1;33m\u001b[0m\u001b[0m\n\u001b[0;32m   1405\u001b[0m         )\n\u001b[1;32m-> 1406\u001b[1;33m         \u001b[0mtable\u001b[0m\u001b[1;33m.\u001b[0m\u001b[0mcreate\u001b[0m\u001b[1;33m(\u001b[0m\u001b[1;33m)\u001b[0m\u001b[1;33m\u001b[0m\u001b[1;33m\u001b[0m\u001b[0m\n\u001b[0m\u001b[0;32m   1407\u001b[0m \u001b[1;33m\u001b[0m\u001b[0m\n\u001b[0;32m   1408\u001b[0m         \u001b[1;32mfrom\u001b[0m \u001b[0msqlalchemy\u001b[0m \u001b[1;32mimport\u001b[0m \u001b[0mexc\u001b[0m\u001b[1;33m\u001b[0m\u001b[1;33m\u001b[0m\u001b[0m\n",
      "\u001b[1;32mC:\\anaconda3\\lib\\site-packages\\pandas\\io\\sql.py\u001b[0m in \u001b[0;36mcreate\u001b[1;34m(self)\u001b[0m\n\u001b[0;32m    738\u001b[0m                 \u001b[1;32mraise\u001b[0m \u001b[0mValueError\u001b[0m\u001b[1;33m(\u001b[0m\u001b[1;34mf\"Table '{self.name}' already exists.\"\u001b[0m\u001b[1;33m)\u001b[0m\u001b[1;33m\u001b[0m\u001b[1;33m\u001b[0m\u001b[0m\n\u001b[0;32m    739\u001b[0m             \u001b[1;32melif\u001b[0m \u001b[0mself\u001b[0m\u001b[1;33m.\u001b[0m\u001b[0mif_exists\u001b[0m \u001b[1;33m==\u001b[0m \u001b[1;34m\"replace\"\u001b[0m\u001b[1;33m:\u001b[0m\u001b[1;33m\u001b[0m\u001b[1;33m\u001b[0m\u001b[0m\n\u001b[1;32m--> 740\u001b[1;33m                 \u001b[0mself\u001b[0m\u001b[1;33m.\u001b[0m\u001b[0mpd_sql\u001b[0m\u001b[1;33m.\u001b[0m\u001b[0mdrop_table\u001b[0m\u001b[1;33m(\u001b[0m\u001b[0mself\u001b[0m\u001b[1;33m.\u001b[0m\u001b[0mname\u001b[0m\u001b[1;33m,\u001b[0m \u001b[0mself\u001b[0m\u001b[1;33m.\u001b[0m\u001b[0mschema\u001b[0m\u001b[1;33m)\u001b[0m\u001b[1;33m\u001b[0m\u001b[1;33m\u001b[0m\u001b[0m\n\u001b[0m\u001b[0;32m    741\u001b[0m                 \u001b[0mself\u001b[0m\u001b[1;33m.\u001b[0m\u001b[0m_execute_create\u001b[0m\u001b[1;33m(\u001b[0m\u001b[1;33m)\u001b[0m\u001b[1;33m\u001b[0m\u001b[1;33m\u001b[0m\u001b[0m\n\u001b[0;32m    742\u001b[0m             \u001b[1;32melif\u001b[0m \u001b[0mself\u001b[0m\u001b[1;33m.\u001b[0m\u001b[0mif_exists\u001b[0m \u001b[1;33m==\u001b[0m \u001b[1;34m\"append\"\u001b[0m\u001b[1;33m:\u001b[0m\u001b[1;33m\u001b[0m\u001b[1;33m\u001b[0m\u001b[0m\n",
      "\u001b[1;32mC:\\anaconda3\\lib\\site-packages\\pandas\\io\\sql.py\u001b[0m in \u001b[0;36mdrop_table\u001b[1;34m(self, table_name, schema)\u001b[0m\n\u001b[0;32m   1478\u001b[0m         \u001b[0mschema\u001b[0m \u001b[1;33m=\u001b[0m \u001b[0mschema\u001b[0m \u001b[1;32mor\u001b[0m \u001b[0mself\u001b[0m\u001b[1;33m.\u001b[0m\u001b[0mmeta\u001b[0m\u001b[1;33m.\u001b[0m\u001b[0mschema\u001b[0m\u001b[1;33m\u001b[0m\u001b[1;33m\u001b[0m\u001b[0m\n\u001b[0;32m   1479\u001b[0m         \u001b[1;32mif\u001b[0m \u001b[0mself\u001b[0m\u001b[1;33m.\u001b[0m\u001b[0mhas_table\u001b[0m\u001b[1;33m(\u001b[0m\u001b[0mtable_name\u001b[0m\u001b[1;33m,\u001b[0m \u001b[0mschema\u001b[0m\u001b[1;33m)\u001b[0m\u001b[1;33m:\u001b[0m\u001b[1;33m\u001b[0m\u001b[1;33m\u001b[0m\u001b[0m\n\u001b[1;32m-> 1480\u001b[1;33m             \u001b[0mself\u001b[0m\u001b[1;33m.\u001b[0m\u001b[0mmeta\u001b[0m\u001b[1;33m.\u001b[0m\u001b[0mreflect\u001b[0m\u001b[1;33m(\u001b[0m\u001b[0monly\u001b[0m\u001b[1;33m=\u001b[0m\u001b[1;33m[\u001b[0m\u001b[0mtable_name\u001b[0m\u001b[1;33m]\u001b[0m\u001b[1;33m,\u001b[0m \u001b[0mschema\u001b[0m\u001b[1;33m=\u001b[0m\u001b[0mschema\u001b[0m\u001b[1;33m)\u001b[0m\u001b[1;33m\u001b[0m\u001b[1;33m\u001b[0m\u001b[0m\n\u001b[0m\u001b[0;32m   1481\u001b[0m             \u001b[0mself\u001b[0m\u001b[1;33m.\u001b[0m\u001b[0mget_table\u001b[0m\u001b[1;33m(\u001b[0m\u001b[0mtable_name\u001b[0m\u001b[1;33m,\u001b[0m \u001b[0mschema\u001b[0m\u001b[1;33m)\u001b[0m\u001b[1;33m.\u001b[0m\u001b[0mdrop\u001b[0m\u001b[1;33m(\u001b[0m\u001b[1;33m)\u001b[0m\u001b[1;33m\u001b[0m\u001b[1;33m\u001b[0m\u001b[0m\n\u001b[0;32m   1482\u001b[0m             \u001b[0mself\u001b[0m\u001b[1;33m.\u001b[0m\u001b[0mmeta\u001b[0m\u001b[1;33m.\u001b[0m\u001b[0mclear\u001b[0m\u001b[1;33m(\u001b[0m\u001b[1;33m)\u001b[0m\u001b[1;33m\u001b[0m\u001b[1;33m\u001b[0m\u001b[0m\n",
      "\u001b[1;32mC:\\anaconda3\\lib\\site-packages\\sqlalchemy\\sql\\schema.py\u001b[0m in \u001b[0;36mreflect\u001b[1;34m(self, bind, schema, views, only, extend_existing, autoload_replace, resolve_fks, **dialect_kwargs)\u001b[0m\n\u001b[0;32m   4701\u001b[0m                 \u001b[1;32mif\u001b[0m \u001b[0mmissing\u001b[0m\u001b[1;33m:\u001b[0m\u001b[1;33m\u001b[0m\u001b[1;33m\u001b[0m\u001b[0m\n\u001b[0;32m   4702\u001b[0m                     \u001b[0ms\u001b[0m \u001b[1;33m=\u001b[0m \u001b[0mschema\u001b[0m \u001b[1;32mand\u001b[0m \u001b[1;33m(\u001b[0m\u001b[1;34m\" schema '%s'\"\u001b[0m \u001b[1;33m%\u001b[0m \u001b[0mschema\u001b[0m\u001b[1;33m)\u001b[0m \u001b[1;32mor\u001b[0m \u001b[1;34m\"\"\u001b[0m\u001b[1;33m\u001b[0m\u001b[1;33m\u001b[0m\u001b[0m\n\u001b[1;32m-> 4703\u001b[1;33m                     raise exc.InvalidRequestError(\n\u001b[0m\u001b[0;32m   4704\u001b[0m                         \u001b[1;34m\"Could not reflect: requested table(s) not available \"\u001b[0m\u001b[1;33m\u001b[0m\u001b[1;33m\u001b[0m\u001b[0m\n\u001b[0;32m   4705\u001b[0m                         \u001b[1;34m\"in %r%s: (%s)\"\u001b[0m \u001b[1;33m%\u001b[0m \u001b[1;33m(\u001b[0m\u001b[0mbind\u001b[0m\u001b[1;33m.\u001b[0m\u001b[0mengine\u001b[0m\u001b[1;33m,\u001b[0m \u001b[0ms\u001b[0m\u001b[1;33m,\u001b[0m \u001b[1;34m\", \"\u001b[0m\u001b[1;33m.\u001b[0m\u001b[0mjoin\u001b[0m\u001b[1;33m(\u001b[0m\u001b[0mmissing\u001b[0m\u001b[1;33m)\u001b[0m\u001b[1;33m)\u001b[0m\u001b[1;33m\u001b[0m\u001b[1;33m\u001b[0m\u001b[0m\n",
      "\u001b[1;31mInvalidRequestError\u001b[0m: Could not reflect: requested table(s) not available in Engine(oracle+cx_oracle://hr:***@xe): (iris)"
     ]
    }
   ],
   "source": [
    "import pandas as pd\n",
    "df = pd.read_csv('c:/data/db/iris.csv') #csv 파일\n",
    "df.head()#처음 5개의 데이터\n",
    "\n",
    "from sqlalchemy import create_engine\n",
    "import cx_Oracle\n",
    "engine = create_engine('oracle+cx_oracle://hr:hr@xe')\n",
    "conn=engine.connect()\n",
    "#데이터프레임의 내용을 테이블로 저장\n",
    "df.to_sql(name='iris', con=engine, if_exists='replace', index=False)\n",
    "#df.to_sql(name='iris', con=engine, if_exists='replace')"
   ]
  },
  {
   "cell_type": "code",
   "execution_count": 25,
   "metadata": {},
   "outputs": [
    {
     "name": "stdout",
     "output_type": "stream",
     "text": [
      "(2008, 1, 3, 4, '802', 750, '1001', 955, 'WN', '2272', 'N263WN', '119', '125', '104', '6', '12', 'JAX', 'IND', '688', '7', '8', '0', None, '0', 'NA', 'NA', 'NA', 'NA', 'NA')\n",
      "(2008, 1, 3, 4, '1820', 1825, '1946', 1955, 'WN', '549', 'N363SW', '86', '90', '75', '-9', '-5', 'JAX', 'ORF', '543', '3', '8', '0', None, '0', 'NA', 'NA', 'NA', 'NA', 'NA')\n",
      "(2008, 1, 3, 4, '821', 820, '953', 945, 'WN', '3604', 'N257WN', '92', '85', '80', '8', '1', 'JAX', 'ORF', '543', '3', '9', '0', None, '0', 'NA', 'NA', 'NA', 'NA', 'NA')\n",
      "(2008, 1, 3, 4, '1734', 1650, '1941', 1905, 'WN', '23', 'N521SW', '127', '135', '113', '36', '44', 'JAX', 'PHL', '742', '4', '10', '0', None, '0', '3', '0', '0', '0', '33')\n"
     ]
    }
   ],
   "source": [
    "import cx_Oracle\n",
    "conn = cx_Oracle.connect('java/java1234@localhost:1521/xe')\n",
    "\n",
    "cursor = conn.cursor()\n",
    "cursor.execute('select * from ontime where rownum < 5')\n",
    "\n",
    "rows = cursor.fetchall()\n",
    "for row in rows:\n",
    "    print(row)\n",
    "\n",
    "cursor.close()\n",
    "conn.close()"
   ]
  },
  {
   "cell_type": "code",
   "execution_count": 9,
   "metadata": {},
   "outputs": [
    {
     "name": "stdout",
     "output_type": "stream",
     "text": [
      "('AA', 16.135956458389142)\n",
      "('AS', 7.852065938771141)\n",
      "('WN', 11.817575933788843)\n",
      "('UA', 15.590381469266925)\n",
      "('FL', 9.638447545362439)\n",
      "('MQ', 14.169342149180666)\n",
      "('EV', 14.16328761785177)\n",
      "('YV', 12.600623205657866)\n",
      "('XE', 11.871840699928653)\n",
      "('OO', 9.029531109107303)\n",
      "('DL', 7.0524915521169405)\n",
      "('B6', 12.549536126507341)\n",
      "('CO', 13.858653006426048)\n",
      "('HA', -1.3481437481437482)\n",
      "('US', 6.590599131165372)\n",
      "('F9', 6.680704041720991)\n",
      "('OH', 10.826661523515629)\n",
      "('AQ', -1.3902564102564103)\n",
      "('9E', 13.068760355475222)\n",
      "('NW', 8.603388391058655)\n"
     ]
    }
   ],
   "source": [
    "import cx_Oracle\n",
    "conn=cx_Oracle.connect('hr/hr@localhost:1521/xe')\n",
    "cursor = conn.cursor()\n",
    "cursor.execute('''\n",
    "select uniquecarrier, avg(depdelay)\n",
    "from ontime\n",
    "group by uniquecarrier\n",
    "''')\n",
    "rows=cursor.fetchall()\n",
    "for row in rows:\n",
    "    print(row)\n",
    "\n",
    "cursor.close()\n",
    "conn.close()"
   ]
  },
  {
   "cell_type": "code",
   "execution_count": 26,
   "metadata": {},
   "outputs": [
    {
     "name": "stdout",
     "output_type": "stream",
     "text": [
      "(1, 279427)\n",
      "(2, 278902)\n",
      "(3, 294556)\n",
      "(4, 256142)\n",
      "(5, 254673)\n",
      "(6, 295897)\n",
      "(7, 264630)\n",
      "(8, 239737)\n",
      "(9, 169959)\n",
      "(10, 183582)\n",
      "(11, 181506)\n",
      "(12, 280493)\n"
     ]
    }
   ],
   "source": [
    "import cx_Oracle\n",
    "conn=cx_Oracle.connect('java/java1234@localhost:1521/xe')\n",
    "cursor = conn.cursor()\n",
    "cursor.execute('''\n",
    "select month, count(*)\n",
    "from ontime\n",
    "where year=2008 and arrdelay > 0\n",
    "group by month\n",
    "order by month\n",
    "''')\n",
    "rows=cursor.fetchall()\n",
    "for row in rows:\n",
    "    print(row)\n",
    "\n",
    "cursor.close()\n",
    "conn.close()"
   ]
  },
  {
   "cell_type": "code",
   "execution_count": 27,
   "metadata": {},
   "outputs": [
    {
     "name": "stdout",
     "output_type": "stream",
     "text": [
      "[1, 2, 3, 4, 5, 6, 7, 8, 9, 10, 11, 12]\n",
      "[279427, 278902, 294556, 256142, 254673, 295897, 264630, 239737, 169959, 183582, 181506, 280493]\n"
     ]
    }
   ],
   "source": [
    "x=list(range(1,13))\n",
    "y=[]\n",
    "for row in rows:\n",
    "    y.append(row[1])\n",
    "print(x)\n",
    "print(y)"
   ]
  },
  {
   "cell_type": "code",
   "execution_count": 28,
   "metadata": {},
   "outputs": [
    {
     "data": {
      "text/plain": [
       "<BarContainer object of 12 artists>"
      ]
     },
     "execution_count": 28,
     "metadata": {},
     "output_type": "execute_result"
    },
    {
     "data": {
      "image/png": "[encoded data removed]",
      "text/plain": [
       "<Figure size 432x288 with 1 Axes>"
      ]
     },
     "metadata": {
      "needs_background": "light"
     },
     "output_type": "display_data"
    }
   ],
   "source": [
    "import pandas as pd\n",
    "%matplotlib inline\n",
    "import matplotlib.pyplot as plt\n",
    "\n",
    "plt.plot(x,y)\n",
    "plt.bar(x,y)"
   ]
  },
  {
   "cell_type": "code",
   "execution_count": 18,
   "metadata": {},
   "outputs": [
    {
     "name": "stdout",
     "output_type": "stream",
     "text": [
      "(1, 10.674828368079613)\n",
      "(5, 13.569632084023631)\n",
      "(7, 10.066904988028197)\n",
      "(6, 7.471623989707134)\n",
      "(2, 10.66795833359354)\n",
      "(4, 9.869721631718638)\n",
      "(3, 7.853225119565184)\n"
     ]
    }
   ],
   "source": [
    "#요일별 평균 지연 시간\n",
    "import cx_Oracle\n",
    "conn = cx_Oracle.connect('hr/hr@localhost:1521/xe')\n",
    "\n",
    "cursor = conn.cursor()\n",
    "cursor.execute('''select dayofweek, avg(arrdelay)\n",
    "from ontime\n",
    "group by dayofweek''')\n",
    "rows = cursor.fetchall()\n",
    "for row in rows:\n",
    "    print(row)\n",
    "\n",
    "cursor.close()\n",
    "conn.close()"
   ]
  },
  {
   "cell_type": "code",
   "execution_count": 19,
   "metadata": {},
   "outputs": [
    {
     "name": "stdout",
     "output_type": "stream",
     "text": [
      "['월', '화', '수', '목', '금', '토', '일']\n",
      "[10.674828368079613, 13.569632084023631, 10.066904988028197, 7.471623989707134, 10.66795833359354, 9.869721631718638, 7.853225119565184]\n"
     ]
    }
   ],
   "source": [
    "x=['월','화','수','목','금','토','일']\n",
    "y=[]\n",
    "for row in rows:\n",
    "    y.append(row[1])\n",
    "print(x)\n",
    "print(y)"
   ]
  },
  {
   "cell_type": "code",
   "execution_count": 20,
   "metadata": {},
   "outputs": [
    {
     "data": {
      "text/plain": [
       "<BarContainer object of 7 artists>"
      ]
     },
     "execution_count": 20,
     "metadata": {},
     "output_type": "execute_result"
    },
    {
     "data": {
      "image/png": "[encoded data removed]",
      "text/plain": [
       "<Figure size 432x288 with 1 Axes>"
      ]
     },
     "metadata": {
      "needs_background": "light"
     },
     "output_type": "display_data"
    }
   ],
   "source": [
    "import pandas as pd\n",
    "import matplotlib.pyplot as plt\n",
    "%matplotlib inline\n",
    "\n",
    "from matplotlib import rc, font_manager\n",
    "font_name = font_manager.FontProperties(fname='c:/windows/fonts/gulim.ttc').get_name()\n",
    "rc('font', family=font_name)\n",
    "\n",
    "plt.plot(x,y)\n",
    "plt.bar(x,y)"
   ]
  },
  {
   "cell_type": "code",
   "execution_count": 22,
   "metadata": {},
   "outputs": [],
   "source": [
    "#시간대별(10월, 월요일)\n",
    "import cx_Oracle\n",
    "conn = cx_Oracle.connect('hr/hr@localhost:1521/xe')\n",
    "\n",
    "cursor = conn.cursor()\n",
    "cursor.execute('''\n",
    "select *\n",
    "from (\n",
    "    select rownum as rn, a.*\n",
    "    from(\n",
    "        select CRSDepTime, avg(arrdelay) arrdelay\n",
    "        from ontime\n",
    "        where month = 10 and dayofweek = 1\n",
    "        group by CRSDepTime\n",
    "        order by arrdelay\n",
    "    )A\n",
    ") where rn between 1 and 5\n",
    "''')\n",
    "\n",
    "rows = cursor.fetchall()\n",
    "for row in rows:\n",
    "    print(row)\n",
    "\n",
    "cursor.close()\n",
    "conn.close()"
   ]
  },
  {
   "cell_type": "code",
   "execution_count": null,
   "metadata": {},
   "outputs": [],
   "source": []
  }
 ],
 "metadata": {
  "interpreter": {
   "hash": "cef9e06bb236b2a8629b07e87a04b187b952a0f661eff5533360a155783f0c33"
  },
  "kernelspec": {
   "display_name": "Python 3.8.8 64-bit ('base': conda)",
   "language": "python",
   "name": "python3"
  },
  "language_info": {
   "codemirror_mode": {
    "name": "ipython",
    "version": 3
   },
   "file_extension": ".py",
   "mimetype": "text/x-python",
   "name": "python",
   "nbconvert_exporter": "python",
   "pygments_lexer": "ipython3",
   "version": "3.8.8"
  },
  "orig_nbformat": 4
 },
 "nbformat": 4,
 "nbformat_minor": 2
}
