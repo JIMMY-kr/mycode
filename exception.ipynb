{
 "cells": [
  {
   "cell_type": "code",
   "execution_count": 4,
   "metadata": {},
   "outputs": [
    {
     "name": "stdout",
     "output_type": "stream",
     "text": [
      "division by zero\n",
      "terminate\n"
     ]
    }
   ],
   "source": [
    "try:\n",
    "    4/0\n",
    "except Exception as e:\n",
    "    print(e)\n",
    "\n",
    "print('terminate')"
   ]
  },
  {
   "cell_type": "code",
   "execution_count": 5,
   "metadata": {},
   "outputs": [
    {
     "name": "stdout",
     "output_type": "stream",
     "text": [
      "press q to terminate\n",
      "2.5\n",
      "cannot divided by 0.\n",
      "terminate program\n"
     ]
    }
   ],
   "source": [
    "print('press q to terminate')\n",
    "while True:\n",
    "    num1 = input('\\nnumerator:')\n",
    "    if num1=='q':\n",
    "        break\n",
    "    num2=input('denominator:')\n",
    "    try:\n",
    "        result=int(num1)/int(num2)\n",
    "    except Exception:\n",
    "        print('cannot divided by 0.')\n",
    "    else:\n",
    "        print(result)\n",
    "\n",
    "print('terminate program')"
   ]
  },
  {
   "cell_type": "code",
   "execution_count": 6,
   "metadata": {},
   "outputs": [
    {
     "name": "stdout",
     "output_type": "stream",
     "text": [
      "start\n",
      "TypeError : unsupported operand type(s) for +: 'int' and 'str'\n",
      "end\n"
     ]
    }
   ],
   "source": [
    "def exception_test():\n",
    "    print('start')\n",
    "    try:\n",
    "        print(2+'2')\n",
    "    except TypeError as e:\n",
    "        print('TypeError : {0}'.format(e))\n",
    "    print('end')\n",
    "exception_test()"
   ]
  },
  {
   "cell_type": "code",
   "execution_count": 7,
   "metadata": {},
   "outputs": [
    {
     "name": "stdout",
     "output_type": "stream",
     "text": [
      "start\n",
      "end\n"
     ]
    },
    {
     "name": "stderr",
     "output_type": "stream",
     "text": [
      "Traceback (most recent call last):\n",
      "  File \"<ipython-input-7-309de95bf889>\", line 5, in exception_test\n",
      "    print(2+'2')\n",
      "TypeError: unsupported operand type(s) for +: 'int' and 'str'\n"
     ]
    }
   ],
   "source": [
    "import traceback\n",
    "def exception_test():\n",
    "    print('start')\n",
    "    try:\n",
    "        print(2+'2')\n",
    "    except:\n",
    "        traceback.print_exc()\n",
    "    print('end')\n",
    "\n",
    "exception_test()"
   ]
  },
  {
   "cell_type": "code",
   "execution_count": 9,
   "metadata": {},
   "outputs": [
    {
     "ename": "FileNotFoundError",
     "evalue": "[Errno 2] No such file or directory: 'c:/data/text/test.txt'",
     "output_type": "error",
     "traceback": [
      "\u001b[1;31m---------------------------------------------------------------------------\u001b[0m",
      "\u001b[1;31mFileNotFoundError\u001b[0m                         Traceback (most recent call last)",
      "\u001b[1;32m<ipython-input-9-d65785da41f7>\u001b[0m in \u001b[0;36m<module>\u001b[1;34m\u001b[0m\n\u001b[0;32m      1\u001b[0m \u001b[0mfilename\u001b[0m \u001b[1;33m=\u001b[0m \u001b[1;34m'c:/data/text/test.txt'\u001b[0m\u001b[1;33m\u001b[0m\u001b[1;33m\u001b[0m\u001b[0m\n\u001b[1;32m----> 2\u001b[1;33m \u001b[1;32mwith\u001b[0m \u001b[0mopen\u001b[0m\u001b[1;33m(\u001b[0m\u001b[0mfilename\u001b[0m\u001b[1;33m,\u001b[0m \u001b[0mencoding\u001b[0m\u001b[1;33m=\u001b[0m\u001b[1;34m'utf-8'\u001b[0m\u001b[1;33m)\u001b[0m \u001b[1;32mas\u001b[0m \u001b[0mfile\u001b[0m\u001b[1;33m:\u001b[0m\u001b[1;33m\u001b[0m\u001b[1;33m\u001b[0m\u001b[0m\n\u001b[0m\u001b[0;32m      3\u001b[0m     \u001b[0mcontents\u001b[0m \u001b[1;33m=\u001b[0m \u001b[0mfile\u001b[0m\u001b[1;33m.\u001b[0m\u001b[0mread\u001b[0m\u001b[1;33m(\u001b[0m\u001b[1;33m)\u001b[0m\u001b[1;33m\u001b[0m\u001b[1;33m\u001b[0m\u001b[0m\n\u001b[0;32m      4\u001b[0m     \u001b[0mwords\u001b[0m \u001b[1;33m=\u001b[0m \u001b[0mcontents\u001b[0m\u001b[1;33m.\u001b[0m\u001b[0msplit\u001b[0m\u001b[1;33m(\u001b[0m\u001b[1;33m)\u001b[0m\u001b[1;33m\u001b[0m\u001b[1;33m\u001b[0m\u001b[0m\n\u001b[0;32m      5\u001b[0m     \u001b[0mnum\u001b[0m \u001b[1;33m=\u001b[0m \u001b[0mlen\u001b[0m\u001b[1;33m(\u001b[0m\u001b[0mwords\u001b[0m\u001b[1;33m)\u001b[0m\u001b[1;33m\u001b[0m\u001b[1;33m\u001b[0m\u001b[0m\n",
      "\u001b[1;31mFileNotFoundError\u001b[0m: [Errno 2] No such file or directory: 'c:/data/text/test.txt'"
     ]
    }
   ],
   "source": [
    "filename = 'c:/data/text/test.txt'\n",
    "with open(filename, encoding='utf-8') as file:\n",
    "    contents = file.read()\n",
    "    words = contents.split()\n",
    "    num = len(words)\n",
    "    print('filename: ' + filename + ', count: ' + str(num))"
   ]
  },
  {
   "cell_type": "code",
   "execution_count": 10,
   "metadata": {},
   "outputs": [
    {
     "name": "stdout",
     "output_type": "stream",
     "text": [
      "good morning everyone.\n",
      "hello world."
     ]
    }
   ],
   "source": [
    "try:\n",
    "    f=open('c:/python/temp/test.txt')\n",
    "except FileNotFoundError as e:\n",
    "    print(e)\n",
    "else:\n",
    "    while True:\n",
    "        line=f.readline()\n",
    "        if not line: break\n",
    "        print(line, end='')\n",
    "    \n",
    "    f.close()"
   ]
  },
  {
   "cell_type": "code",
   "execution_count": 11,
   "metadata": {},
   "outputs": [
    {
     "name": "stdout",
     "output_type": "stream",
     "text": [
      "[Errno 2] No such file or directory: 'c:/data/text/alice.txt'\n",
      "file is not found.\n"
     ]
    }
   ],
   "source": [
    "filename='c:/data/text/alice.txt'\n",
    "try:\n",
    "    with open(filename, encoding='utf-8') as file:\n",
    "        contents = file.read()\n",
    "except FileNotFoundError as e:\n",
    "    print(e)\n",
    "    msg = \"file is not found.\"\n",
    "    print(msg)\n",
    "else:\n",
    "    words = contents.split()\n",
    "    num = len(words)\n",
    "    print(\"filename: \" + filename + \", count:\" + str(num))"
   ]
  },
  {
   "cell_type": "code",
   "execution_count": 12,
   "metadata": {},
   "outputs": [
    {
     "name": "stdout",
     "output_type": "stream",
     "text": [
      "cannot divided by 0\n",
      "terminate\n"
     ]
    }
   ],
   "source": [
    "try:\n",
    "    a=[1,2]\n",
    "    4/0\n",
    "    print(a[2])\n",
    "\n",
    "except ZeroDivisionError:\n",
    "    print(\"cannot divided by 0\")\n",
    "except IndexError:\n",
    "    print(\"cannot indexing\")\n",
    "except Exception:\n",
    "    print(\"extra error\")\n",
    "\n",
    "print('terminate')"
   ]
  },
  {
   "cell_type": "code",
   "execution_count": 13,
   "metadata": {},
   "outputs": [
    {
     "name": "stdout",
     "output_type": "stream",
     "text": [
      "good morning everyone.\n",
      "hello world.\n",
      "program terminated\n"
     ]
    }
   ],
   "source": [
    "try:\n",
    "    f = open('c:/python/temp/test.txt', 'r')\n",
    "except FileNotFoundError as e:\n",
    "    print(str(e))\n",
    "else:\n",
    "    while True:\n",
    "        line = f.readline()\n",
    "        if not line: break\n",
    "        print(line, end='')\n",
    "    f.close()\n",
    "finally:\n",
    "    print('\\nprogram terminated')"
   ]
  },
  {
   "cell_type": "code",
   "execution_count": 15,
   "metadata": {},
   "outputs": [
    {
     "name": "stdout",
     "output_type": "stream",
     "text": [
      "filename:alice.txt, count:29461\n",
      "filename:moby_dick.txt, count:215136\n",
      "filename:little_women.txt, count:189079\n"
     ]
    }
   ],
   "source": [
    "def count_words(filename):\n",
    "    try:\n",
    "        with open('c:/data/Data/text/'+filename) as f_obj:\n",
    "            contents=f_obj.read()\n",
    "    except:\n",
    "        pass\n",
    "    else:\n",
    "        words=contents.split()\n",
    "        num_words = len(words)\n",
    "        print(f'filename:{filename}, count:{num_words}')\n",
    "\n",
    "filenames=['alice.txt', 'moby_dick.txt', 'little_women.txt']\n",
    "for filename in filenames:\n",
    "    count_words(filename)"
   ]
  },
  {
   "cell_type": "code",
   "execution_count": null,
   "metadata": {},
   "outputs": [],
   "source": []
  }
 ],
 "metadata": {
  "interpreter": {
   "hash": "cef9e06bb236b2a8629b07e87a04b187b952a0f661eff5533360a155783f0c33"
  },
  "kernelspec": {
   "display_name": "Python 3.8.8 64-bit ('base': conda)",
   "language": "python",
   "name": "python3"
  },
  "language_info": {
   "codemirror_mode": {
    "name": "ipython",
    "version": 3
   },
   "file_extension": ".py",
   "mimetype": "text/x-python",
   "name": "python",
   "nbconvert_exporter": "python",
   "pygments_lexer": "ipython3",
   "version": "3.8.8"
  },
  "orig_nbformat": 4
 },
 "nbformat": 4,
 "nbformat_minor": 2
}
