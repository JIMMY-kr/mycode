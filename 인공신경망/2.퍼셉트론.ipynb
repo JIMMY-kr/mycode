{
 "cells": [
  {
   "cell_type": "code",
   "execution_count": 3,
   "metadata": {},
   "outputs": [
    {
     "name": "stdout",
     "output_type": "stream",
     "text": [
      "-0.7\n",
      "(0, 0) -> 0\n",
      "-0.19999999999999996\n",
      "(1, 0) -> 0\n",
      "-0.19999999999999996\n",
      "(0, 1) -> 0\n",
      "0.30000000000000004\n",
      "(1, 1) -> 1\n"
     ]
    }
   ],
   "source": [
    "import numpy as np\n",
    "\n",
    "def AND(x1, x2):\n",
    "    x = np.array([x1, x2])\n",
    "    w = np.array([0.5,0.5]) #가중치\n",
    "    b = -0.7 #절편(편향)\n",
    "    # 가중치를 곱하고 절편을 더한 값\n",
    "    tmp = np.sum(w*x) + b\n",
    "    print(tmp)\n",
    "    if tmp <= 0:\n",
    "        return 0\n",
    "    else:\n",
    "        return 1\n",
    "\n",
    "for xs in [(0,0), (1,0), (0,1), (1,1)]:\n",
    "    y = AND(xs[0], xs[1])\n",
    "    print(xs, '->', y)"
   ]
  },
  {
   "cell_type": "code",
   "execution_count": 4,
   "metadata": {},
   "outputs": [
    {
     "name": "stdout",
     "output_type": "stream",
     "text": [
      "(0, 0)->1\n",
      "(1, 0)->1\n",
      "(0, 1)->1\n",
      "(1, 1)->0\n"
     ]
    }
   ],
   "source": [
    "import numpy as np\n",
    "\n",
    "def NAND(x1, x2):\n",
    "    x = np.array([x1, x2])\n",
    "    w = np.array([-0.5, -0.5])\n",
    "    b = 0.7\n",
    "    tmp = np.sum(w*x) + b\n",
    "    if tmp <= 0:\n",
    "        return 0\n",
    "    else:\n",
    "        return 1\n",
    "\n",
    "for xs in [(0,0), (1,0), (0,1), (1,1)]:\n",
    "    y = NAND(xs[0], xs[1])\n",
    "    print(str(xs) + '->' + str(y))"
   ]
  },
  {
   "cell_type": "code",
   "execution_count": 5,
   "metadata": {},
   "outputs": [
    {
     "name": "stdout",
     "output_type": "stream",
     "text": [
      "-0.2\n",
      "(0, 0)->0\n",
      "0.3\n",
      "(1, 0)->1\n",
      "0.3\n",
      "(0, 1)->1\n",
      "0.8\n",
      "(1, 1)->1\n"
     ]
    }
   ],
   "source": [
    "import numpy as np\n",
    "\n",
    "def OR(x1, x2):\n",
    "    x = np.array([x1, x2])\n",
    "    w = np.array([0.5, 0.5])\n",
    "    b = -0.2\n",
    "    tmp = np.sum(w*x) + b\n",
    "    print(tmp)\n",
    "    if tmp <= 0:\n",
    "        return 0\n",
    "    else:\n",
    "        return 1\n",
    "\n",
    "for xs in [(0,0), (1,0), (0,1), (1,1)]:\n",
    "    y = OR(xs[0], xs[1])\n",
    "    print(str(xs) + '->' + str(y))"
   ]
  },
  {
   "cell_type": "code",
   "execution_count": 6,
   "metadata": {},
   "outputs": [
    {
     "name": "stdout",
     "output_type": "stream",
     "text": [
      "-0.2\n",
      "-0.19999999999999996\n",
      "(0, 0)->0\n",
      "0.3\n",
      "0.30000000000000004\n",
      "(1, 0)->1\n",
      "0.3\n",
      "0.30000000000000004\n",
      "(0, 1)->1\n",
      "0.8\n",
      "-0.19999999999999996\n",
      "(1, 1)->0\n"
     ]
    }
   ],
   "source": [
    "#다층 퍼셉트론\n",
    "def XOR(x1, x2):\n",
    "    s1 = NAND(x1, x2)\n",
    "    s2 = OR(x1, x2)\n",
    "    y = AND(s1, s2)\n",
    "    return y\n",
    "\n",
    "for xs in [(0,0), (1,0), (0,1), (1,1)]:\n",
    "    y = XOR(xs[0], xs[1])\n",
    "    print(str(xs) + '->' + str(y))"
   ]
  },
  {
   "cell_type": "code",
   "execution_count": null,
   "metadata": {},
   "outputs": [],
   "source": []
  }
 ],
 "metadata": {
  "interpreter": {
   "hash": "cef9e06bb236b2a8629b07e87a04b187b952a0f661eff5533360a155783f0c33"
  },
  "kernelspec": {
   "display_name": "Python 3.8.8 64-bit ('base': conda)",
   "language": "python",
   "name": "python3"
  },
  "language_info": {
   "codemirror_mode": {
    "name": "ipython",
    "version": 3
   },
   "file_extension": ".py",
   "mimetype": "text/x-python",
   "name": "python",
   "nbconvert_exporter": "python",
   "pygments_lexer": "ipython3",
   "version": "3.8.8"
  },
  "orig_nbformat": 4
 },
 "nbformat": 4,
 "nbformat_minor": 2
}
