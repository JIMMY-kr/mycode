{
 "cells": [
  {
   "cell_type": "code",
   "execution_count": 1,
   "metadata": {},
   "outputs": [
    {
     "name": "stdout",
     "output_type": "stream",
     "text": [
      "result: python\n"
     ]
    }
   ],
   "source": [
    "a=input(\"please enter:\")\n",
    "print(\"result:\", a)"
   ]
  },
  {
   "cell_type": "code",
   "execution_count": 2,
   "metadata": {},
   "outputs": [
    {
     "name": "stdout",
     "output_type": "stream",
     "text": [
      "<class 'str'>\n",
      "<class 'int'>\n"
     ]
    }
   ],
   "source": [
    "dan = input(\"enter the table:\")\n",
    "print(type(dan))\n",
    "dan = eval(input(\"enter the table:\"))\n",
    "print(type(dan))"
   ]
  },
  {
   "cell_type": "code",
   "execution_count": 3,
   "metadata": {},
   "outputs": [
    {
     "name": "stdout",
     "output_type": "stream",
     "text": [
      "5 x 1 = 5\n",
      "5 x 2 = 10\n",
      "5 x 3 = 15\n",
      "5 x 4 = 20\n",
      "5 x 5 = 25\n",
      "5 x 6 = 30\n",
      "5 x 7 = 35\n",
      "5 x 8 = 40\n",
      "5 x 9 = 45\n"
     ]
    }
   ],
   "source": [
    "dan = eval(input(\"enter the table:\"))\n",
    "\n",
    "for i in range(1, 10):\n",
    "    print(dan, 'x', i, '=', dan*i)"
   ]
  },
  {
   "cell_type": "code",
   "execution_count": 4,
   "metadata": {},
   "outputs": [
    {
     "name": "stdout",
     "output_type": "stream",
     "text": [
      "--IP=127.0.0.1 --STDIN=9013 --CONTROL=9006 --HB=9005 --SESSION.SIGNATURE_SCHEME=\"HMAC-SHA256\" --SESSION.KEY=B\"E12A65D4-1629-4565-9B37-068120D2B1E2\" --SHELL=9007 --TRANSPORT=\"TCP\" --IOPUB=9014 --F=C:\\USERS\\HOME\\APPDATA\\LOCAL\\TEMP\\TMP-14804QVMNGXTLNOMI.JSON "
     ]
    }
   ],
   "source": [
    "import sys\n",
    "args = sys.argv[1:]\n",
    "for i in args:\n",
    "    print(i.upper(), end=\" \")"
   ]
  },
  {
   "cell_type": "code",
   "execution_count": 5,
   "metadata": {},
   "outputs": [
    {
     "name": "stdout",
     "output_type": "stream",
     "text": [
      "hello, John.\n"
     ]
    }
   ],
   "source": [
    "name=input('enter your name:')\n",
    "print('hello, {0}.'.format(name))"
   ]
  },
  {
   "cell_type": "code",
   "execution_count": 7,
   "metadata": {},
   "outputs": [
    {
     "name": "stdout",
     "output_type": "stream",
     "text": [
      "원주율:3.141593\n",
      "원주율:3.14\n"
     ]
    }
   ],
   "source": [
    "import math\n",
    "print('원주율:{0:f}'.format(math.pi))\n",
    "print('원주율:{0:.2f}'.format(math.pi))\n"
   ]
  },
  {
   "cell_type": "code",
   "execution_count": 8,
   "metadata": {},
   "outputs": [
    {
     "name": "stdout",
     "output_type": "stream",
     "text": [
      "98%\n",
      "98.15%\n"
     ]
    }
   ],
   "source": [
    "num=0.9815\n",
    "print(f'{num:.0%}') #백분율 표시\n",
    "print(f'{num:.2%}')"
   ]
  },
  {
   "cell_type": "code",
   "execution_count": 9,
   "metadata": {},
   "outputs": [
    {
     "name": "stdout",
     "output_type": "stream",
     "text": [
      "123,456,789\n"
     ]
    }
   ],
   "source": [
    "num=123456789\n",
    "print(f'{num:,}') #천단위로 ,표시"
   ]
  },
  {
   "cell_type": "code",
   "execution_count": null,
   "metadata": {},
   "outputs": [],
   "source": []
  }
 ],
 "metadata": {
  "interpreter": {
   "hash": "cef9e06bb236b2a8629b07e87a04b187b952a0f661eff5533360a155783f0c33"
  },
  "kernelspec": {
   "display_name": "Python 3.8.8 64-bit ('base': conda)",
   "language": "python",
   "name": "python3"
  },
  "language_info": {
   "codemirror_mode": {
    "name": "ipython",
    "version": 3
   },
   "file_extension": ".py",
   "mimetype": "text/x-python",
   "name": "python",
   "nbconvert_exporter": "python",
   "pygments_lexer": "ipython3",
   "version": "3.8.8"
  },
  "orig_nbformat": 4
 },
 "nbformat": 4,
 "nbformat_minor": 2
}
