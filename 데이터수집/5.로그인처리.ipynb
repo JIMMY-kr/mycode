{
 "cells": [
  {
   "cell_type": "code",
   "execution_count": null,
   "metadata": {},
   "outputs": [],
   "source": [
    "import requests\n",
    "result=requests.get('http://localhost/shop/cart_list')\n",
    "result.text"
   ]
  },
  {
   "cell_type": "code",
   "execution_count": 3,
   "metadata": {},
   "outputs": [
    {
     "name": "stdout",
     "output_type": "stream",
     "text": [
      "오렌지\n"
     ]
    }
   ],
   "source": [
    "import requests\n",
    "from bs4 import BeautifulSoup\n",
    "\n",
    "params={'username': 'lim', 'password': '1234'}\n",
    "session=requests.Session() #세션객체 생성\n",
    "\n",
    "#post 방식 요청\n",
    "s=session.post('http://localhost/member/login', params)\n",
    "res=session.get('http://localhost/shop/cart_list')\n",
    "\n",
    "bs=BeautifulSoup(res.text, 'html.parser')\n",
    "carts = bs.select('table > tr > td > span')\n",
    "for cart in carts:\n",
    "    a = cart.text\n",
    "    print(a)"
   ]
  },
  {
   "cell_type": "code",
   "execution_count": 13,
   "metadata": {},
   "outputs": [
    {
     "name": "stdout",
     "output_type": "stream",
     "text": [
      "22 권이 검색되었습니다.\n",
      "=============================================\n",
      "혼자 공부하는 파이썬 - 윤인성 - 18,000원\n",
      "Do it! 점프 투 파이썬 - 박응용 - 18,800원\n",
      "비전공자를 위한 이해할 수 있는 IT 지식 - 최원영 - 16,800원\n",
      "파이어족 강환국의 하면 된다! 퀀트 투자 - 강환국 - 18,700원\n",
      "이것이 취업을 위한 코딩 테스트다 with 파이썬 - 나동빈 - 34,000원\n",
      "파이썬 알고리즘 인터뷰 - 박상길 - 38,000원\n",
      "오늘부터 개발자 - 김병욱 - 15,000원\n",
      "초보자를 위한 파이썬(Python) 200제 - 장삼용 - 20,000원\n",
      "파이썬 딥러닝 파이토치(Python Deep Learning PyTorch) - 이경택 - 25,000원\n",
      "파이썬 머신러닝 완벽 가이드 - 권철민 - 38,000원\n",
      "작심 3일 파이썬 Python - 황덕창 - 18,000원\n",
      "The Python - 파이썬 프로그래밍 - 허진경 - 32,000원\n",
      "The Python - 파이썬 프로그래밍(합본) - 허진경 - 54,800원\n",
      "씽크 파이썬(Think Python) - 앨런 다우니 - 22,000원\n",
      "파이썬(Python): 1학년 - 모리 요시나오 - 17,000원\n",
      "파이썬(Python) 2학년 스크래핑의 구조 - 모리 요시나오 - 17,000원\n",
      "머신 러닝 교과서 with 파이썬, 사이킷런, 텐서플로 - 세바스찬 라시카 - 44,000원\n",
      "파이썬만 잡아도: 기초를 탄탄히 세우는 Python 프로그래밍 - 김병만 - 25,000원\n",
      "Let’s Start Coding with Raptor & Python (랩터 & 파이썬) - 김충석 - 24,000원\n",
      "파이썬을 이용한 비트코인 자동매매 - 유대표 - 27,000원\n"
     ]
    }
   ],
   "source": [
    "#https://search.kyobobook.co.kr/web/search?vPstrKeyWord=python&searchPcondition=1&searchCategory=%EA%B5%AD%EB%82%B4%EB%8F%84%EC%84%9C@KORBOOK&collName=KORBOOK&from_CollName=%EA%B5%AD%EB%82%B4%EB%8F%84%EC%84%9C@KORBOOK&searchOrder=0&vPstrTab=PRODUCT&from_coll=KORBOOK&currentPage=1&orderClick=LAH\n",
    "\n",
    "#search_list > tr:nth-child(11) > td.detail > div.title > a > strong\n",
    "#search_list > tr:nth-child(11) > td.price > div.org_price\n",
    "#search_list > tr:nth-child(11) > td.detail > div.author > a:nth-child(1)\n",
    "\n",
    "#search_list > tr:nth-child(22) > td.detail > div.title > a > strong\n",
    "\n",
    "from urllib.request import urlopen\n",
    "from bs4 import BeautifulSoup\n",
    "\n",
    "html = urlopen('https://search.kyobobook.co.kr/web/search?vPstrKeyWord=python&searchPcondition=1&searchCategory=%EA%B5%AD%EB%82%B4%EB%8F%84%EC%84%9C@KORBOOK&collName=KORBOOK&from_CollName=%EA%B5%AD%EB%82%B4%EB%8F%84%EC%84%9C@KORBOOK&searchOrder=0&vPstrTab=PRODUCT&from_coll=KORBOOK&currentPage=1&orderClick=LAH')\n",
    "bs = BeautifulSoup(html, 'html.parser')\n",
    "\n",
    "titles = bs.select('tr > td.detail > div.title > a > strong')\n",
    "authors = bs.select('tr > td.detail > div.author > a:nth-child(1)')\n",
    "prices = bs.select('tr > td.price > div.org_price')\n",
    "books = list(zip(titles, authors, prices))\n",
    "print(len(titles), '권이 검색되었습니다.')\n",
    "print('=============================================')\n",
    "for book in books:\n",
    "    print(book[0].text.strip(), '-', book[1].text.strip(), '-', book[2].text.strip())"
   ]
  },
  {
   "cell_type": "code",
   "execution_count": null,
   "metadata": {},
   "outputs": [],
   "source": [
    "items=[]\n",
    "print(books)\n",
    "for book in books:\n",
    "    items.append([book[0].text.strip(), book[1].text.strip(),book[2].text.strip()])"
   ]
  },
  {
   "cell_type": "code",
   "execution_count": 15,
   "metadata": {},
   "outputs": [
    {
     "data": {
      "text/html": [
       "<div>\n",
       "<style scoped>\n",
       "    .dataframe tbody tr th:only-of-type {\n",
       "        vertical-align: middle;\n",
       "    }\n",
       "\n",
       "    .dataframe tbody tr th {\n",
       "        vertical-align: top;\n",
       "    }\n",
       "\n",
       "    .dataframe thead th {\n",
       "        text-align: right;\n",
       "    }\n",
       "</style>\n",
       "<table border=\"1\" class=\"dataframe\">\n",
       "  <thead>\n",
       "    <tr style=\"text-align: right;\">\n",
       "      <th></th>\n",
       "      <th>도서명</th>\n",
       "      <th>저자</th>\n",
       "      <th>정가</th>\n",
       "    </tr>\n",
       "  </thead>\n",
       "  <tbody>\n",
       "    <tr>\n",
       "      <th>0</th>\n",
       "      <td>혼자 공부하는 파이썬</td>\n",
       "      <td>윤인성</td>\n",
       "      <td>18,000원</td>\n",
       "    </tr>\n",
       "    <tr>\n",
       "      <th>1</th>\n",
       "      <td>Do it! 점프 투 파이썬</td>\n",
       "      <td>박응용</td>\n",
       "      <td>18,800원</td>\n",
       "    </tr>\n",
       "    <tr>\n",
       "      <th>2</th>\n",
       "      <td>비전공자를 위한 이해할 수 있는 IT 지식</td>\n",
       "      <td>최원영</td>\n",
       "      <td>16,800원</td>\n",
       "    </tr>\n",
       "    <tr>\n",
       "      <th>3</th>\n",
       "      <td>파이어족 강환국의 하면 된다! 퀀트 투자</td>\n",
       "      <td>강환국</td>\n",
       "      <td>18,700원</td>\n",
       "    </tr>\n",
       "    <tr>\n",
       "      <th>4</th>\n",
       "      <td>이것이 취업을 위한 코딩 테스트다 with 파이썬</td>\n",
       "      <td>나동빈</td>\n",
       "      <td>34,000원</td>\n",
       "    </tr>\n",
       "  </tbody>\n",
       "</table>\n",
       "</div>"
      ],
      "text/plain": [
       "                           도서명   저자       정가\n",
       "0                  혼자 공부하는 파이썬  윤인성  18,000원\n",
       "1              Do it! 점프 투 파이썬  박응용  18,800원\n",
       "2      비전공자를 위한 이해할 수 있는 IT 지식  최원영  16,800원\n",
       "3       파이어족 강환국의 하면 된다! 퀀트 투자  강환국  18,700원\n",
       "4  이것이 취업을 위한 코딩 테스트다 with 파이썬  나동빈  34,000원"
      ]
     },
     "execution_count": 15,
     "metadata": {},
     "output_type": "execute_result"
    }
   ],
   "source": [
    "import pandas as pd\n",
    "\n",
    "df = pd.DataFrame(items, columns=['도서명', '저자', '정가'])\n",
    "df.head()"
   ]
  },
  {
   "cell_type": "code",
   "execution_count": 17,
   "metadata": {},
   "outputs": [],
   "source": [
    "df.to_csv('c:/data/book/data.csv', encoding='ms949', index=False)"
   ]
  },
  {
   "cell_type": "code",
   "execution_count": null,
   "metadata": {},
   "outputs": [],
   "source": [
    "#totalpage\n",
    "total = bs.select('#totalpage')\n",
    "pages=int(total.text.strip())"
   ]
  },
  {
   "cell_type": "code",
   "execution_count": 21,
   "metadata": {},
   "outputs": [
    {
     "name": "stdout",
     "output_type": "stream",
     "text": [
      "페이지수: 57\n"
     ]
    }
   ],
   "source": [
    "# 마지막 페이지 번호 계산\n",
    "# 마지막 페이지 번호 계산을 위한 링크를 찾는 부분에서 설명을 놓쳤습니다.\n",
    "import math\n",
    "\n",
    "html = urlopen('https://search.kyobobook.co.kr/web/search?vPstrKeyWord=python&searchPcondition=1&searchCategory=%EA%B5%AD%EB%82%B4%EB%8F%84%EC%84%9C@KORBOOK&collName=KORBOOK&from_CollName=%EA%B5%AD%EB%82%B4%EB%8F%84%EC%84%9C@KORBOOK&searchOrder=0&vPstrTab=PRODUCT&from_coll=KORBOOK&currentPage=1&orderClick=LAH')\n",
    "bs = BeautifulSoup(html, 'html.parser')\n",
    "\n",
    "total = bs.select_one('#searchCategory_1 > small')\n",
    "pages = int(total.text.strip().replace(',', '')) / 20 #전체 인덱스수(1,200여 개) 중 컴머(,) 제거\n",
    "pages = math.ceil(pages) #올림\n",
    "print('페이지수:', pages)"
   ]
  },
  {
   "cell_type": "code",
   "execution_count": null,
   "metadata": {},
   "outputs": [],
   "source": [
    "import time\n",
    "from urllib.request import urlopen\n",
    "from bs4 import BeautifulSoup\n",
    "\n",
    "total_titles =[]\n",
    "total_authors =[]\n",
    "total_prices =[]\n",
    "for i in range(1, pages+1):\n",
    "    html = urlopen(f'https://search.kyobobook.co.kr/web/search?vPstrKeyWord=python&searchPcondition=1&searchCategory=%EA%B5%AD%EB%82%B4%EB%8F%84%EC%84%9C@KORBOOK&collName=KORBOOK&from_CollName=%EA%B5%AD%EB%82%B4%EB%8F%84%EC%84%9C@KORBOOK&searchOrder=0&vPstrTab=PRODUCT&from_coll=KORBOOK&currentPage={i}&orderClick=LAH')\n",
    "    \n",
    "    #html 분석기\n",
    "    bs = BeautifulSoup(html, 'html.parser')\n",
    "    #css 패턴에 해당하는 모든 태그들을 수집\n",
    "    titles = bs.select('tr > td.detail > div.title > a > strong')\n",
    "    authors = bs.select('tr > td.detail > div.author > a:nth-child(1)')\n",
    "    prices = bs.select('tr > td.price > div.org_price')\n",
    "\n",
    "    total_titles += titles\n",
    "    total_authors += authors\n",
    "    total_prices += prices\n",
    "\n",
    "    #import time\n",
    "    time.sleep(0.1)\n",
    "\n",
    "books = list(zip(total_titles, total_authors, total_prices))\n"
   ]
  },
  {
   "cell_type": "code",
   "execution_count": null,
   "metadata": {},
   "outputs": [],
   "source": [
    "print(len(books), '권이 검색되었습니다.')\n",
    "print('=============================================')\n",
    "for book in books:\n",
    "    print(book[0].text.strip(), '-', book[1].text.strip(), '-', book[2].text.strip())\n"
   ]
  },
  {
   "cell_type": "code",
   "execution_count": null,
   "metadata": {},
   "outputs": [],
   "source": [
    "items=[]\n",
    "print(books)\n",
    "for book in books:\n",
    "    items.append([book[0].text.strip(), book[1].text.strip(),book[2].text.strip()])"
   ]
  },
  {
   "cell_type": "code",
   "execution_count": 28,
   "metadata": {},
   "outputs": [
    {
     "data": {
      "text/html": [
       "<div>\n",
       "<style scoped>\n",
       "    .dataframe tbody tr th:only-of-type {\n",
       "        vertical-align: middle;\n",
       "    }\n",
       "\n",
       "    .dataframe tbody tr th {\n",
       "        vertical-align: top;\n",
       "    }\n",
       "\n",
       "    .dataframe thead th {\n",
       "        text-align: right;\n",
       "    }\n",
       "</style>\n",
       "<table border=\"1\" class=\"dataframe\">\n",
       "  <thead>\n",
       "    <tr style=\"text-align: right;\">\n",
       "      <th></th>\n",
       "      <th>도서명</th>\n",
       "      <th>저자</th>\n",
       "      <th>정가</th>\n",
       "    </tr>\n",
       "  </thead>\n",
       "  <tbody>\n",
       "    <tr>\n",
       "      <th>0</th>\n",
       "      <td>혼자 공부하는 파이썬</td>\n",
       "      <td>윤인성</td>\n",
       "      <td>18,000원</td>\n",
       "    </tr>\n",
       "    <tr>\n",
       "      <th>1</th>\n",
       "      <td>Do it! 점프 투 파이썬</td>\n",
       "      <td>박응용</td>\n",
       "      <td>18,800원</td>\n",
       "    </tr>\n",
       "    <tr>\n",
       "      <th>2</th>\n",
       "      <td>비전공자를 위한 이해할 수 있는 IT 지식</td>\n",
       "      <td>최원영</td>\n",
       "      <td>16,800원</td>\n",
       "    </tr>\n",
       "    <tr>\n",
       "      <th>3</th>\n",
       "      <td>파이어족 강환국의 하면 된다! 퀀트 투자</td>\n",
       "      <td>강환국</td>\n",
       "      <td>18,700원</td>\n",
       "    </tr>\n",
       "    <tr>\n",
       "      <th>4</th>\n",
       "      <td>이것이 취업을 위한 코딩 테스트다 with 파이썬</td>\n",
       "      <td>나동빈</td>\n",
       "      <td>34,000원</td>\n",
       "    </tr>\n",
       "  </tbody>\n",
       "</table>\n",
       "</div>"
      ],
      "text/plain": [
       "                           도서명   저자       정가\n",
       "0                  혼자 공부하는 파이썬  윤인성  18,000원\n",
       "1              Do it! 점프 투 파이썬  박응용  18,800원\n",
       "2      비전공자를 위한 이해할 수 있는 IT 지식  최원영  16,800원\n",
       "3       파이어족 강환국의 하면 된다! 퀀트 투자  강환국  18,700원\n",
       "4  이것이 취업을 위한 코딩 테스트다 with 파이썬  나동빈  34,000원"
      ]
     },
     "execution_count": 28,
     "metadata": {},
     "output_type": "execute_result"
    }
   ],
   "source": [
    "import pandas as pd\n",
    "\n",
    "df = pd.DataFrame(items, columns=['도서명', '저자', '정가'])\n",
    "df.head()"
   ]
  },
  {
   "cell_type": "code",
   "execution_count": 29,
   "metadata": {},
   "outputs": [],
   "source": [
    "df.to_csv('c:/data/book/data2.csv', encoding='ms949', index=False)"
   ]
  },
  {
   "cell_type": "code",
   "execution_count": null,
   "metadata": {},
   "outputs": [],
   "source": []
  }
 ],
 "metadata": {
  "interpreter": {
   "hash": "cef9e06bb236b2a8629b07e87a04b187b952a0f661eff5533360a155783f0c33"
  },
  "kernelspec": {
   "display_name": "Python 3.8.8 64-bit ('base': conda)",
   "language": "python",
   "name": "python3"
  },
  "language_info": {
   "codemirror_mode": {
    "name": "ipython",
    "version": 3
   },
   "file_extension": ".py",
   "mimetype": "text/x-python",
   "name": "python",
   "nbconvert_exporter": "python",
   "pygments_lexer": "ipython3",
   "version": "3.8.8"
  },
  "orig_nbformat": 4
 },
 "nbformat": 4,
 "nbformat_minor": 2
}
