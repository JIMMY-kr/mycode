{
 "cells": [
  {
   "cell_type": "code",
   "execution_count": 26,
   "metadata": {},
   "outputs": [],
   "source": [
    "# #균형 데이터\n",
    "\n",
    "import pandas as pd\n",
    "from sklearn.datasets import make_classification\n",
    "X,y = make_classification(n_samples=10000, n_features=2,\n",
    "# 불균형 데이터는 wights = [0.99] 추가\n",
    "n_redundant=0, n_clusters_per_class=1,\n",
    "flip_y=00, random_state=1)\n",
    "\n",
    "# dfX=pd.DataFrame(X, columns=['a', 'b'])\n",
    "# dfy=pd.DataFrame(y, columns=['y'])\n",
    "# df = pd.concat([dfX, dfy], axis=1)\n",
    "# df\n",
    "\n",
    "#언더샘플링\n",
    "# 무작위로 다수 클래스의 데이터를 없애는 단순 샘플링\n",
    "# from imblearn.under_sampling import RandomUnderSampler\n",
    "\n",
    "# X_sample, y_samle = RandomUnderSampler(random_state=0).fit_resample(X,y)\n",
    "\n",
    "# X_samp = pd.DataFrame(data=X_sample, columns=['a', 'b'])\n",
    "# y_samp = pd.DataFrame(data=y_samle, columns=['y'])\n",
    "# y_samp.y.value_counts()\n",
    "\n",
    "#CNN(Condensed Nearest Neighbour): 1-NN모형으로 분류되지 않는 데이터만 남기는방법\n"
   ]
  },
  {
   "cell_type": "code",
   "execution_count": 27,
   "metadata": {},
   "outputs": [],
   "source": [
    "# under 100 100 => RandomUnerSampler\n",
    "# over 9900 9900 => SMOTE"
   ]
  },
  {
   "cell_type": "code",
   "execution_count": 28,
   "metadata": {},
   "outputs": [],
   "source": [
    "X1 = df[['a', 'b']]\n",
    "y1 = df['y']"
   ]
  },
  {
   "cell_type": "code",
   "execution_count": 29,
   "metadata": {},
   "outputs": [
    {
     "data": {
      "text/plain": [
       "0    5000\n",
       "1    5000\n",
       "Name: y, dtype: int64"
      ]
     },
     "execution_count": 29,
     "metadata": {},
     "output_type": "execute_result"
    }
   ],
   "source": [
    "df['y'].value_counts()"
   ]
  },
  {
   "cell_type": "code",
   "execution_count": 30,
   "metadata": {},
   "outputs": [
    {
     "data": {
      "text/plain": [
       "LogisticRegression(random_state=42)"
      ]
     },
     "execution_count": 30,
     "metadata": {},
     "output_type": "execute_result"
    }
   ],
   "source": [
    "from sklearn.linear_model import LogisticRegression\n",
    "from sklearn.model_selection import train_test_split\n",
    "\n",
    "X_train, X_test, y_train, y_test = train_test_split(X1, y1, test_size=0.2, stratify=y1, random_state=10)\n",
    "\n",
    "model1 = LogisticRegression(random_state=42)\n",
    "model1.fit(X_train, y_train)"
   ]
  },
  {
   "cell_type": "code",
   "execution_count": 31,
   "metadata": {},
   "outputs": [
    {
     "name": "stdout",
     "output_type": "stream",
     "text": [
      "학습용: 0.896125\n",
      "검증용: 0.891\n"
     ]
    }
   ],
   "source": [
    "print('학습용:', model1.score(X_train, y_train))\n",
    "print('검증용:', model1.score(X_test, y_test))"
   ]
  },
  {
   "cell_type": "code",
   "execution_count": 32,
   "metadata": {},
   "outputs": [],
   "source": [
    "pred1 = model1.predict(X_test)"
   ]
  },
  {
   "cell_type": "code",
   "execution_count": 33,
   "metadata": {},
   "outputs": [
    {
     "data": {
      "text/plain": [
       "array([[908,  92],\n",
       "       [126, 874]], dtype=int64)"
      ]
     },
     "execution_count": 33,
     "metadata": {},
     "output_type": "execute_result"
    }
   ],
   "source": [
    "from sklearn.metrics import confusion_matrix\n",
    "cm = confusion_matrix(y_test, pred1)\n",
    "cm"
   ]
  },
  {
   "cell_type": "code",
   "execution_count": 34,
   "metadata": {},
   "outputs": [
    {
     "name": "stdout",
     "output_type": "stream",
     "text": [
      "              precision    recall  f1-score   support\n",
      "\n",
      "           0       0.88      0.91      0.89      1000\n",
      "           1       0.90      0.87      0.89      1000\n",
      "\n",
      "    accuracy                           0.89      2000\n",
      "   macro avg       0.89      0.89      0.89      2000\n",
      "weighted avg       0.89      0.89      0.89      2000\n",
      "\n"
     ]
    }
   ],
   "source": [
    "from sklearn.metrics import classification_report\n",
    "print(classification_report(y_test, pred1))"
   ]
  },
  {
   "cell_type": "code",
   "execution_count": null,
   "metadata": {},
   "outputs": [],
   "source": []
  }
 ],
 "metadata": {
  "interpreter": {
   "hash": "cef9e06bb236b2a8629b07e87a04b187b952a0f661eff5533360a155783f0c33"
  },
  "kernelspec": {
   "display_name": "Python 3.8.8 64-bit ('base': conda)",
   "language": "python",
   "name": "python3"
  },
  "language_info": {
   "codemirror_mode": {
    "name": "ipython",
    "version": 3
   },
   "file_extension": ".py",
   "mimetype": "text/x-python",
   "name": "python",
   "nbconvert_exporter": "python",
   "pygments_lexer": "ipython3",
   "version": "3.8.8"
  },
  "orig_nbformat": 4
 },
 "nbformat": 4,
 "nbformat_minor": 2
}
