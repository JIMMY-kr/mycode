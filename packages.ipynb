{
 "cells": [
  {
   "cell_type": "markdown",
   "metadata": {},
   "source": []
  },
  {
   "cell_type": "code",
   "execution_count": 1,
   "metadata": {},
   "outputs": [
    {
     "name": "stdout",
     "output_type": "stream",
     "text": [
      "            Date  Benzene  CS2  Ozone  SO2  Toluene  Xylene  Wind Direction  \\\n",
      "0  10/10/15 3:15      2.5  2.5    2.5  2.5     2.50  220.61           162.0   \n",
      "1  10/10/15 2:00      2.5  2.5    2.5  2.5     2.50  184.78           158.0   \n",
      "2  10/10/15 4:30      2.5  2.5    2.5  2.5   573.36  144.61           166.0   \n",
      "3  10/10/15 1:50      2.5  2.5    2.5  2.5   537.12  125.71           154.0   \n",
      "4  10/10/15 4:20      2.5  2.5    2.5  2.5   424.89  105.50           166.0   \n",
      "\n",
      "   Wind Speed Wind Origin  \n",
      "0         6.0         SSE  \n",
      "1         7.0         SSE  \n",
      "2         5.0         SSE  \n",
      "3         8.0         SSE  \n",
      "4         5.0         SSE  \n",
      "            Benzene      CS2         Ozone           SO2       Toluene  \\\n",
      "count  31642.000000  31642.0  31642.000000  31642.000000  31642.000000   \n",
      "mean       2.501436      2.5     27.279164      3.546245      2.820468   \n",
      "std        0.078137      0.0     12.095794      6.921460      6.276938   \n",
      "min        2.500000      2.5      2.500000      2.500000      2.500000   \n",
      "25%        2.500000      2.5     18.750000      2.500000      2.500000   \n",
      "50%        2.500000      2.5     26.040000      2.500000      2.500000   \n",
      "75%        2.500000      2.5     34.320000      2.500000      2.500000   \n",
      "max        9.950000      2.5    396.670000    313.310000    573.360000   \n",
      "\n",
      "             Xylene  Wind Direction    Wind Speed  \n",
      "count  31642.000000    31621.000000  31621.000000  \n",
      "mean       2.554937      172.248031      6.724582  \n",
      "std        2.181794       76.077180      3.245453  \n",
      "min        2.500000        0.000000      1.000000  \n",
      "25%        2.500000      140.000000      4.000000  \n",
      "50%        2.500000      163.000000      6.000000  \n",
      "75%        2.500000      207.000000      9.000000  \n",
      "max      220.610000      359.000000     26.000000  \n"
     ]
    }
   ],
   "source": [
    "#데이터 가져오기\n",
    "import pandas as pd\n",
    "df = pd.read_csv('c:/data/air/data.csv')\n",
    "print(df.head())\n",
    "print(df.describe())"
   ]
  },
  {
   "cell_type": "code",
   "execution_count": 2,
   "metadata": {},
   "outputs": [
    {
     "name": "stdout",
     "output_type": "stream",
     "text": [
      "0    2.5\n",
      "1    2.5\n",
      "2    2.5\n",
      "3    2.5\n",
      "4    2.5\n",
      "Name: Ozone, dtype: float64\n",
      "31637    20.87\n",
      "31638    20.67\n",
      "31639    20.61\n",
      "31640    20.59\n",
      "31641    20.47\n",
      "Name: Ozone, dtype: float64\n",
      "0    6.0\n",
      "1    7.0\n",
      "2    5.0\n",
      "3    8.0\n",
      "4    5.0\n",
      "Name: Wind Speed, dtype: float64\n",
      "31637    2.0\n",
      "31638    1.0\n",
      "31639    2.0\n",
      "31640    2.0\n",
      "31641    2.0\n",
      "Name: Wind Speed, dtype: float64\n"
     ]
    }
   ],
   "source": [
    "#시리즈형 데이터로 변환\n",
    "sr_ozone = pd.Series(df['Ozone'])\n",
    "print(sr_ozone.head())\n",
    "print(sr_ozone.tail())\n",
    "sr_speed = pd.Series(df['Wind Speed'])\n",
    "print(sr_speed.head())\n",
    "print(sr_speed.tail())"
   ]
  },
  {
   "cell_type": "code",
   "execution_count": 4,
   "metadata": {},
   "outputs": [
    {
     "data": {
      "text/html": [
       "<div>\n",
       "<style scoped>\n",
       "    .dataframe tbody tr th:only-of-type {\n",
       "        vertical-align: middle;\n",
       "    }\n",
       "\n",
       "    .dataframe tbody tr th {\n",
       "        vertical-align: top;\n",
       "    }\n",
       "\n",
       "    .dataframe thead th {\n",
       "        text-align: right;\n",
       "    }\n",
       "</style>\n",
       "<table border=\"1\" class=\"dataframe\">\n",
       "  <thead>\n",
       "    <tr style=\"text-align: right;\">\n",
       "      <th></th>\n",
       "      <th>Date</th>\n",
       "      <th>Benzene</th>\n",
       "      <th>CS2</th>\n",
       "      <th>Ozone</th>\n",
       "      <th>SO2</th>\n",
       "      <th>Toluene</th>\n",
       "      <th>Xylene</th>\n",
       "      <th>Wind Direction</th>\n",
       "      <th>Wind Speed</th>\n",
       "      <th>Wind Origin</th>\n",
       "    </tr>\n",
       "  </thead>\n",
       "  <tbody>\n",
       "    <tr>\n",
       "      <th>0</th>\n",
       "      <td>10/10/15 3:15</td>\n",
       "      <td>2.5</td>\n",
       "      <td>2.5</td>\n",
       "      <td>2.50</td>\n",
       "      <td>2.5</td>\n",
       "      <td>2.50</td>\n",
       "      <td>220.61</td>\n",
       "      <td>162.0</td>\n",
       "      <td>6.0</td>\n",
       "      <td>SSE</td>\n",
       "    </tr>\n",
       "    <tr>\n",
       "      <th>1</th>\n",
       "      <td>10/10/15 2:00</td>\n",
       "      <td>2.5</td>\n",
       "      <td>2.5</td>\n",
       "      <td>2.50</td>\n",
       "      <td>2.5</td>\n",
       "      <td>2.50</td>\n",
       "      <td>184.78</td>\n",
       "      <td>158.0</td>\n",
       "      <td>7.0</td>\n",
       "      <td>SSE</td>\n",
       "    </tr>\n",
       "    <tr>\n",
       "      <th>2</th>\n",
       "      <td>10/10/15 4:30</td>\n",
       "      <td>2.5</td>\n",
       "      <td>2.5</td>\n",
       "      <td>2.50</td>\n",
       "      <td>2.5</td>\n",
       "      <td>573.36</td>\n",
       "      <td>144.61</td>\n",
       "      <td>166.0</td>\n",
       "      <td>5.0</td>\n",
       "      <td>SSE</td>\n",
       "    </tr>\n",
       "    <tr>\n",
       "      <th>3</th>\n",
       "      <td>10/10/15 1:50</td>\n",
       "      <td>2.5</td>\n",
       "      <td>2.5</td>\n",
       "      <td>2.50</td>\n",
       "      <td>2.5</td>\n",
       "      <td>537.12</td>\n",
       "      <td>125.71</td>\n",
       "      <td>154.0</td>\n",
       "      <td>8.0</td>\n",
       "      <td>SSE</td>\n",
       "    </tr>\n",
       "    <tr>\n",
       "      <th>4</th>\n",
       "      <td>10/10/15 4:20</td>\n",
       "      <td>2.5</td>\n",
       "      <td>2.5</td>\n",
       "      <td>2.50</td>\n",
       "      <td>2.5</td>\n",
       "      <td>424.89</td>\n",
       "      <td>105.50</td>\n",
       "      <td>166.0</td>\n",
       "      <td>5.0</td>\n",
       "      <td>SSE</td>\n",
       "    </tr>\n",
       "    <tr>\n",
       "      <th>...</th>\n",
       "      <td>...</td>\n",
       "      <td>...</td>\n",
       "      <td>...</td>\n",
       "      <td>...</td>\n",
       "      <td>...</td>\n",
       "      <td>...</td>\n",
       "      <td>...</td>\n",
       "      <td>...</td>\n",
       "      <td>...</td>\n",
       "      <td>...</td>\n",
       "    </tr>\n",
       "    <tr>\n",
       "      <th>31637</th>\n",
       "      <td>11/18/15 23:40</td>\n",
       "      <td>2.5</td>\n",
       "      <td>2.5</td>\n",
       "      <td>20.87</td>\n",
       "      <td>2.5</td>\n",
       "      <td>2.50</td>\n",
       "      <td>2.50</td>\n",
       "      <td>154.0</td>\n",
       "      <td>2.0</td>\n",
       "      <td>SSE</td>\n",
       "    </tr>\n",
       "    <tr>\n",
       "      <th>31638</th>\n",
       "      <td>11/18/15 23:45</td>\n",
       "      <td>2.5</td>\n",
       "      <td>2.5</td>\n",
       "      <td>20.67</td>\n",
       "      <td>2.5</td>\n",
       "      <td>2.50</td>\n",
       "      <td>2.50</td>\n",
       "      <td>113.0</td>\n",
       "      <td>1.0</td>\n",
       "      <td>ESE</td>\n",
       "    </tr>\n",
       "    <tr>\n",
       "      <th>31639</th>\n",
       "      <td>11/18/15 23:50</td>\n",
       "      <td>2.5</td>\n",
       "      <td>2.5</td>\n",
       "      <td>20.61</td>\n",
       "      <td>2.5</td>\n",
       "      <td>2.50</td>\n",
       "      <td>2.50</td>\n",
       "      <td>107.0</td>\n",
       "      <td>2.0</td>\n",
       "      <td>ESE</td>\n",
       "    </tr>\n",
       "    <tr>\n",
       "      <th>31640</th>\n",
       "      <td>11/18/15 23:55</td>\n",
       "      <td>2.5</td>\n",
       "      <td>2.5</td>\n",
       "      <td>20.59</td>\n",
       "      <td>2.5</td>\n",
       "      <td>2.50</td>\n",
       "      <td>2.50</td>\n",
       "      <td>100.0</td>\n",
       "      <td>2.0</td>\n",
       "      <td>E</td>\n",
       "    </tr>\n",
       "    <tr>\n",
       "      <th>31641</th>\n",
       "      <td>11/19/15 0:00</td>\n",
       "      <td>2.5</td>\n",
       "      <td>2.5</td>\n",
       "      <td>20.47</td>\n",
       "      <td>2.5</td>\n",
       "      <td>2.50</td>\n",
       "      <td>2.50</td>\n",
       "      <td>86.0</td>\n",
       "      <td>2.0</td>\n",
       "      <td>E</td>\n",
       "    </tr>\n",
       "  </tbody>\n",
       "</table>\n",
       "<p>31642 rows × 10 columns</p>\n",
       "</div>"
      ],
      "text/plain": [
       "                 Date  Benzene  CS2  Ozone  SO2  Toluene  Xylene  \\\n",
       "0       10/10/15 3:15      2.5  2.5   2.50  2.5     2.50  220.61   \n",
       "1       10/10/15 2:00      2.5  2.5   2.50  2.5     2.50  184.78   \n",
       "2       10/10/15 4:30      2.5  2.5   2.50  2.5   573.36  144.61   \n",
       "3       10/10/15 1:50      2.5  2.5   2.50  2.5   537.12  125.71   \n",
       "4       10/10/15 4:20      2.5  2.5   2.50  2.5   424.89  105.50   \n",
       "...               ...      ...  ...    ...  ...      ...     ...   \n",
       "31637  11/18/15 23:40      2.5  2.5  20.87  2.5     2.50    2.50   \n",
       "31638  11/18/15 23:45      2.5  2.5  20.67  2.5     2.50    2.50   \n",
       "31639  11/18/15 23:50      2.5  2.5  20.61  2.5     2.50    2.50   \n",
       "31640  11/18/15 23:55      2.5  2.5  20.59  2.5     2.50    2.50   \n",
       "31641   11/19/15 0:00      2.5  2.5  20.47  2.5     2.50    2.50   \n",
       "\n",
       "       Wind Direction  Wind Speed Wind Origin  \n",
       "0               162.0         6.0         SSE  \n",
       "1               158.0         7.0         SSE  \n",
       "2               166.0         5.0         SSE  \n",
       "3               154.0         8.0         SSE  \n",
       "4               166.0         5.0         SSE  \n",
       "...               ...         ...         ...  \n",
       "31637           154.0         2.0         SSE  \n",
       "31638           113.0         1.0         ESE  \n",
       "31639           107.0         2.0         ESE  \n",
       "31640           100.0         2.0           E  \n",
       "31641            86.0         2.0           E  \n",
       "\n",
       "[31642 rows x 10 columns]"
      ]
     },
     "execution_count": 4,
     "metadata": {},
     "output_type": "execute_result"
    }
   ],
   "source": [
    "import pandas as pd\n",
    "df = pd.read_csv('c:/data/air/data.csv')\n",
    "df"
   ]
  },
  {
   "cell_type": "code",
   "execution_count": 5,
   "metadata": {},
   "outputs": [
    {
     "data": {
      "text/plain": [
       "[<matplotlib.lines.Line2D at 0x1f1d2135820>]"
      ]
     },
     "execution_count": 5,
     "metadata": {},
     "output_type": "execute_result"
    },
    {
     "data": {
      "image/png": "[encoded data removed]",
      "text/plain": [
       "<Figure size 432x288 with 1 Axes>"
      ]
     },
     "metadata": {
      "needs_background": "light"
     },
     "output_type": "display_data"
    }
   ],
   "source": [
    "#그래프 출력\n",
    "%matplotlib inline\n",
    "import matplotlib.pyplot as plt\n",
    "import numpy as np\n",
    "X = np.array([1,2,3,4,5])\n",
    "y=X*5\n",
    "plt.scatter(X,y)\n",
    "plt.plot(X,y)"
   ]
  },
  {
   "cell_type": "code",
   "execution_count": 6,
   "metadata": {},
   "outputs": [
    {
     "name": "stdout",
     "output_type": "stream",
     "text": [
      "     Ozone  Wind Speed\n",
      "10  358.28         5.0\n",
      "11  262.24         5.0\n",
      "12  356.12         7.0\n",
      "13  194.02         7.0\n",
      "14  200.55         7.0\n"
     ]
    }
   ],
   "source": [
    "#10~29행, 필드, 특정 구간 출력\n",
    "df2 = df.loc[10:29, ['Ozone', 'Wind Speed']] # 10에서 29번 행, 오존과 풍속필드\n",
    "print(df2.head())"
   ]
  },
  {
   "cell_type": "code",
   "execution_count": 10,
   "metadata": {},
   "outputs": [
    {
     "data": {
      "image/png": "[encoded data removed]",
      "text/plain": [
       "<Figure size 432x288 with 1 Axes>"
      ]
     },
     "metadata": {
      "needs_background": "light"
     },
     "output_type": "display_data"
    }
   ],
   "source": [
    "#막대그래프로 출력 \n",
    "plt.bar(range(1,len(df2)+1),df2['Ozone']) #bar (x,y)\n",
    "plt.xticks(range(1,len(df2)+1)) #x축 눈금 조정\n",
    "plt.show() #데이터 상세 정보 삭제"
   ]
  },
  {
   "cell_type": "code",
   "execution_count": 9,
   "metadata": {},
   "outputs": [
    {
     "name": "stdout",
     "output_type": "stream",
     "text": [
      "     Ozone  Wind Speed\n",
      "10     NaN         5.0\n",
      "11  262.24         5.0\n",
      "12  356.12         7.0\n",
      "13  194.02         7.0\n",
      "14  200.55         7.0\n"
     ]
    },
    {
     "data": {
      "image/png": "[encoded data removed]",
      "text/plain": [
       "<Figure size 432x288 with 1 Axes>"
      ]
     },
     "metadata": {
      "needs_background": "light"
     },
     "output_type": "display_data"
    }
   ],
   "source": [
    "#가로 막대 그래프\n",
    "plt.barh(range(1,len(df2)+1),df2['Ozone'])\n",
    "plt.yticks(range(1,len(df2)+1))\n",
    "df2.iloc[0,0]=None\n",
    "print(df2.head())"
   ]
  },
  {
   "cell_type": "code",
   "execution_count": 12,
   "metadata": {},
   "outputs": [
    {
     "name": "stdout",
     "output_type": "stream",
     "text": [
      "     Ozone  Wind Speed\n",
      "10     NaN         5.0\n",
      "11  262.24         5.0\n",
      "12  356.12         7.0\n",
      "13  194.02         7.0\n",
      "14  200.55         7.0\n",
      "     Ozone  Wind Speed\n",
      "11  262.24         5.0\n",
      "12  356.12         7.0\n",
      "13  194.02         7.0\n",
      "14  200.55         7.0\n",
      "15  233.17         6.0\n"
     ]
    }
   ],
   "source": [
    "#결측값이 있는 행을 제거\n",
    "df2.iloc[0,0]=None #첫번 째 값을 결측값으로\n",
    "df2.head() #첫번째 값이 0으로 나옴\n",
    "df3 = df2.dropna(axis=0) #행 제거\n",
    "print(df2.head())\n",
    "print(df3.head())"
   ]
  },
  {
   "cell_type": "code",
   "execution_count": 15,
   "metadata": {},
   "outputs": [
    {
     "name": "stdout",
     "output_type": "stream",
     "text": [
      "     Ozone  Wind Speed\n",
      "10   15.00         5.0\n",
      "11  262.24         5.0\n",
      "12  356.12         7.0\n",
      "13  194.02         7.0\n",
      "14  200.55         7.0\n"
     ]
    }
   ],
   "source": [
    "#결측값 대체\n",
    "df3 = df2.fillna(15) #fillna(대체할 값)\n",
    "print(df3.head())"
   ]
  },
  {
   "cell_type": "code",
   "execution_count": 18,
   "metadata": {},
   "outputs": [
    {
     "data": {
      "image/png": "[encoded data removed]",
      "text/plain": [
       "<Figure size 720x720 with 1 Axes>"
      ]
     },
     "metadata": {},
     "output_type": "display_data"
    }
   ],
   "source": [
    "#한국어 폰트 설정\n",
    "from matplotlib import font_manager, rc\n",
    "font_name = font_manager.FontProperties(\n",
    "    fname=\"c:/windows/Fonts/malgun.ttf\"\n",
    ").get_name()\n",
    "rc('font', family=font_name)\n",
    "\n",
    "#파이 차트\n",
    "items = ['사이다', '콜라', ' 커피', '쥬스', '팥빙수']\n",
    "values = [40,30,70,20,15]\n",
    "plt.figure(figsize=(10,10))\n",
    "plt.pie(values, labels=items)\n",
    "plt.legend()\n",
    "plt.show()"
   ]
  },
  {
   "cell_type": "code",
   "execution_count": 19,
   "metadata": {},
   "outputs": [
    {
     "name": "stdout",
     "output_type": "stream",
     "text": [
      "[10 20 30 40 50]\n",
      "(5,)\n"
     ]
    }
   ],
   "source": [
    "import numpy as np\n",
    "items = range(10,51,10)\n",
    "arr = np.array(items)\n",
    "print(arr)\n",
    "print(arr.shape)"
   ]
  },
  {
   "cell_type": "code",
   "execution_count": 20,
   "metadata": {},
   "outputs": [
    {
     "name": "stdout",
     "output_type": "stream",
     "text": [
      "[[ 1  2  3  4  5]\n",
      " [10 20 30 40 50]]\n",
      "(2, 5)\n"
     ]
    }
   ],
   "source": [
    "items2 = [range(1,6), range(10,51,10)]\n",
    "arr2 = np.array(items2)\n",
    "print(arr2)\n",
    "print(arr2.shape)"
   ]
  },
  {
   "cell_type": "code",
   "execution_count": 21,
   "metadata": {},
   "outputs": [
    {
     "name": "stdout",
     "output_type": "stream",
     "text": [
      "[[120 140]\n",
      " [265 265]]\n",
      "[[ 20  20]\n",
      " [125 105]]\n",
      "[[ 3500  4800]\n",
      " [13650 14800]]\n",
      "[[1.4        1.33333333]\n",
      " [2.78571429 2.3125    ]]\n",
      "[[1 1]\n",
      " [2 2]]\n"
     ]
    }
   ],
   "source": [
    "ar1 = np.array([[70,80],[195,185]])\n",
    "ar2 = np.array([[50,60],[70,80]])\n",
    "print(ar1 + ar2)\n",
    "print(ar1 - ar2)\n",
    "print(ar1 * ar2)\n",
    "print(ar1 / ar2)\n",
    "print(ar1 // ar2)"
   ]
  },
  {
   "cell_type": "code",
   "execution_count": 22,
   "metadata": {},
   "outputs": [
    {
     "name": "stdout",
     "output_type": "stream",
     "text": [
      "[[60 70 80]\n",
      " [77 88 99]]\n"
     ]
    }
   ],
   "source": [
    "student1 = [60,70,80]\n",
    "student2 = [77,88,99]\n",
    "points = np.array([student1, student2])\n",
    "print(points)"
   ]
  },
  {
   "cell_type": "code",
   "execution_count": 23,
   "metadata": {},
   "outputs": [
    {
     "name": "stdout",
     "output_type": "stream",
     "text": [
      "474\n",
      "[137 158 179]\n",
      "[210 264]\n",
      "79.0\n",
      "[68.5 79.  89.5]\n",
      "[70. 88.]\n"
     ]
    }
   ],
   "source": [
    "print(points.sum())\n",
    "print(points.sum(axis=0))\n",
    "print(points.sum(axis=1))\n",
    "print(points.mean())\n",
    "print(points.mean(axis=0))\n",
    "print(points.mean(axis=1))"
   ]
  },
  {
   "cell_type": "code",
   "execution_count": 24,
   "metadata": {},
   "outputs": [
    {
     "name": "stdout",
     "output_type": "stream",
     "text": [
      "[77 88 99]\n",
      "264\n",
      "88.0\n"
     ]
    }
   ],
   "source": [
    "arr = np.maximum(student1, student2)\n",
    "print(arr)\n",
    "print(arr.sum())\n",
    "print(arr.mean())"
   ]
  },
  {
   "cell_type": "code",
   "execution_count": 26,
   "metadata": {},
   "outputs": [
    {
     "name": "stdout",
     "output_type": "stream",
     "text": [
      "[77 88 99]\n",
      "[99 88 77]\n"
     ]
    }
   ],
   "source": [
    "print(np.sort(arr))\n",
    "print(np.sort(arr)[::-1])"
   ]
  },
  {
   "cell_type": "code",
   "execution_count": 27,
   "metadata": {},
   "outputs": [
    {
     "name": "stdout",
     "output_type": "stream",
     "text": [
      "[' 김철수' '김철수' '윤동주' '이승호' '이영희' '홍상현']\n",
      "[20 28 29 30 31 33 35 40 45]\n"
     ]
    }
   ],
   "source": [
    "names = np.array(['김철수', '이승호', ' 김철수', '김철수', '홍상현', '이영희', '윤동주'])\n",
    "ages = np.array([20,35,30,33,28,29,30,31,30,40,45])\n",
    "print(np.unique(names)) #중복값을 제거한 결과값\n",
    "print(np.unique(ages))"
   ]
  },
  {
   "cell_type": "code",
   "execution_count": null,
   "metadata": {},
   "outputs": [],
   "source": []
  }
 ],
 "metadata": {
  "interpreter": {
   "hash": "cef9e06bb236b2a8629b07e87a04b187b952a0f661eff5533360a155783f0c33"
  },
  "kernelspec": {
   "display_name": "Python 3.8.8 64-bit ('base': conda)",
   "language": "python",
   "name": "python3"
  },
  "language_info": {
   "codemirror_mode": {
    "name": "ipython",
    "version": 3
   },
   "file_extension": ".py",
   "mimetype": "text/x-python",
   "name": "python",
   "nbconvert_exporter": "python",
   "pygments_lexer": "ipython3",
   "version": "3.8.8"
  },
  "orig_nbformat": 4
 },
 "nbformat": 4,
 "nbformat_minor": 2
}
