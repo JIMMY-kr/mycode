{
 "cells": [
  {
   "cell_type": "code",
   "execution_count": 1,
   "metadata": {},
   "outputs": [],
   "source": [
    "import pymongo\n",
    "from pymongo import MongoClient"
   ]
  },
  {
   "cell_type": "code",
   "execution_count": 2,
   "metadata": {},
   "outputs": [
    {
     "data": {
      "text/plain": [
       "MongoClient(host=['localhost:27017'], document_class=dict, tz_aware=False, connect=True)"
      ]
     },
     "execution_count": 2,
     "metadata": {},
     "output_type": "execute_result"
    }
   ],
   "source": [
    "conn = MongoClient('localhost', 27017)\n",
    "conn"
   ]
  },
  {
   "cell_type": "code",
   "execution_count": 13,
   "metadata": {},
   "outputs": [
    {
     "data": {
      "text/plain": [
       "Database(MongoClient(host=['localhost:27017'], document_class=dict, tz_aware=False, connect=True), 'web')"
      ]
     },
     "execution_count": 13,
     "metadata": {},
     "output_type": "execute_result"
    }
   ],
   "source": [
    "db = conn.web\n",
    "db"
   ]
  },
  {
   "cell_type": "code",
   "execution_count": 14,
   "metadata": {},
   "outputs": [
    {
     "data": {
      "text/plain": [
       "Collection(Database(MongoClient(host=['localhost:27017'], document_class=dict, tz_aware=False, connect=True), 'web'), 'students')"
      ]
     },
     "execution_count": 14,
     "metadata": {},
     "output_type": "execute_result"
    }
   ],
   "source": [
    "students=db.students\n",
    "students"
   ]
  },
  {
   "cell_type": "code",
   "execution_count": 24,
   "metadata": {},
   "outputs": [],
   "source": [
    "try:\n",
    "    students.drop()\n",
    "except:\n",
    "    print(\"no data\")"
   ]
  },
  {
   "cell_type": "code",
   "execution_count": 25,
   "metadata": {},
   "outputs": [
    {
     "name": "stdout",
     "output_type": "stream",
     "text": [
      "{'_id': ObjectId('619722db1ab3bd6bcc9d8546'), 'no': 1, 'name': 'John', 'kor': 90, 'eng': 80, 'mat': 77}\n",
      "{'_id': ObjectId('619722db1ab3bd6bcc9d8547'), 'no': 2, 'name': 'Bob', 'kor': 95, 'eng': 83, 'mat': 75}\n",
      "{'_id': ObjectId('619722db1ab3bd6bcc9d8548'), 'no': 3, 'name': 'Sarah', 'kor': 92, 'eng': 87, 'mat': 76}\n"
     ]
    }
   ],
   "source": [
    "row1={'no':1, 'name':'John', 'kor':90, 'eng':80, 'mat':77}\n",
    "row2={'no':2, 'name':'Bob', 'kor':95, 'eng':83, 'mat':75}\n",
    "row3={'no':3, 'name':'Sarah', 'kor':92, 'eng':87, 'mat':76}\n",
    "\n",
    "students.insert_one(row1)\n",
    "students.insert_one(row2)\n",
    "students.insert_one(row3)\n",
    "\n",
    "rows=students.find()\n",
    "for row in rows:\n",
    "    print(row)"
   ]
  },
  {
   "cell_type": "code",
   "execution_count": 26,
   "metadata": {},
   "outputs": [
    {
     "data": {
      "text/plain": [
       "<pymongo.results.DeleteResult at 0x1c48b512640>"
      ]
     },
     "execution_count": 26,
     "metadata": {},
     "output_type": "execute_result"
    }
   ],
   "source": [
    "students.delete_one({'no':2})"
   ]
  },
  {
   "cell_type": "code",
   "execution_count": 27,
   "metadata": {},
   "outputs": [
    {
     "name": "stdout",
     "output_type": "stream",
     "text": [
      "{'_id': ObjectId('619722db1ab3bd6bcc9d8546'), 'no': 1, 'name': 'John', 'kor': 90, 'eng': 80, 'mat': 77}\n",
      "{'_id': ObjectId('619722db1ab3bd6bcc9d8548'), 'no': 3, 'name': 'Sarah', 'kor': 92, 'eng': 87, 'mat': 76}\n"
     ]
    }
   ],
   "source": [
    "rows=students.find()\n",
    "for row in rows:\n",
    "    print(row)"
   ]
  },
  {
   "cell_type": "code",
   "execution_count": 20,
   "metadata": {},
   "outputs": [
    {
     "data": {
      "text/plain": [
       "<pymongo.results.UpdateResult at 0x1c48a49af80>"
      ]
     },
     "execution_count": 20,
     "metadata": {},
     "output_type": "execute_result"
    }
   ],
   "source": [
    "students.update_one({'no':1}, {'$set':{'kor':100, 'eng':100}})"
   ]
  },
  {
   "cell_type": "code",
   "execution_count": 21,
   "metadata": {},
   "outputs": [
    {
     "name": "stdout",
     "output_type": "stream",
     "text": [
      "{'_id': ObjectId('61971eba1ab3bd6bcc9d8540'), 'no': 1, 'name': 'John', 'kor': 100, 'eng': 100, 'mat': 77}\n",
      "{'_id': ObjectId('61971eba1ab3bd6bcc9d8542'), 'no': 3, 'name': 'Sarah', 'kor': 92, 'eng': 87, 'mat': 76}\n",
      "{'_id': ObjectId('61971ec41ab3bd6bcc9d8543'), 'no': 1, 'name': 'John', 'kor': 90, 'eng': 80, 'mat': 77}\n",
      "{'_id': ObjectId('61971ec41ab3bd6bcc9d8544'), 'no': 2, 'name': 'Bob', 'kor': 95, 'eng': 83, 'mat': 75}\n",
      "{'_id': ObjectId('61971ec41ab3bd6bcc9d8545'), 'no': 3, 'name': 'Sarah', 'kor': 92, 'eng': 87, 'mat': 76}\n"
     ]
    }
   ],
   "source": [
    "rows = students.find()\n",
    "for row in rows:\n",
    "    print(row)"
   ]
  },
  {
   "cell_type": "code",
   "execution_count": 31,
   "metadata": {},
   "outputs": [
    {
     "name": "stdout",
     "output_type": "stream",
     "text": [
      "{'_id': ObjectId('619722db1ab3bd6bcc9d8546'), 'no': 1, 'name': 'John', 'kor': 90, 'eng': 80, 'mat': 77, 'avg': '82.3', 'grade': 'B', 'tot': 247}\n",
      "{'_id': ObjectId('619722db1ab3bd6bcc9d8548'), 'no': 3, 'name': 'Sarah', 'kor': 92, 'eng': 87, 'mat': 76, 'avg': '85.0', 'grade': 'B', 'tot': 255}\n"
     ]
    }
   ],
   "source": [
    "rows = students.find()\n",
    "for row in rows:\n",
    "    tot=row['kor']+row['eng']+row['mat']\n",
    "    avg=tot/3\n",
    "    if avg >= 90:\n",
    "        grade='A'\n",
    "    elif 80 <= avg < 90:\n",
    "        grade='B'\n",
    "    elif 70 <= avg < 80:\n",
    "        grade='C'\n",
    "    elif 60 <= avg < 70:\n",
    "        grade='D'\n",
    "    else:\n",
    "        grade='F'\n",
    "    students.update_one({'no':row['no']}, {'$set':{'tot':tot,  'avg':f'{avg:.1f}', 'grade':grade}})\n",
    "\n",
    "rows = students.find()\n",
    "for row in rows:\n",
    "    print(row)"
   ]
  },
  {
   "cell_type": "code",
   "execution_count": null,
   "metadata": {},
   "outputs": [],
   "source": []
  }
 ],
 "metadata": {
  "interpreter": {
   "hash": "cef9e06bb236b2a8629b07e87a04b187b952a0f661eff5533360a155783f0c33"
  },
  "kernelspec": {
   "display_name": "Python 3.8.8 64-bit ('base': conda)",
   "language": "python",
   "name": "python3"
  },
  "language_info": {
   "codemirror_mode": {
    "name": "ipython",
    "version": 3
   },
   "file_extension": ".py",
   "mimetype": "text/x-python",
   "name": "python",
   "nbconvert_exporter": "python",
   "pygments_lexer": "ipython3",
   "version": "3.8.8"
  },
  "orig_nbformat": 4
 },
 "nbformat": 4,
 "nbformat_minor": 2
}
