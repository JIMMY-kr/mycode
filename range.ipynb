{
 "cells": [
  {
   "cell_type": "code",
   "execution_count": 4,
   "metadata": {},
   "outputs": [
    {
     "name": "stdout",
     "output_type": "stream",
     "text": [
      "range(0, 10)\n",
      "[0, 1, 2, 3, 4, 5, 6, 7, 8, 9]\n",
      "55\n"
     ]
    }
   ],
   "source": [
    "a=range(10)\n",
    "print(a)\n",
    "a = list(range(10))\n",
    "print(a)\n",
    "\n",
    "sum = 0\n",
    "for i in range(1,11):\n",
    "    sum += i\n",
    "print(sum)"
   ]
  },
  {
   "cell_type": "code",
   "execution_count": 5,
   "metadata": {},
   "outputs": [
    {
     "name": "stdout",
     "output_type": "stream",
     "text": [
      "1\n",
      "2\n",
      "3\n",
      "4\n",
      "5\n"
     ]
    }
   ],
   "source": [
    "for i in [1,2,3,4,5]:\n",
    "    print(i)"
   ]
  },
  {
   "cell_type": "code",
   "execution_count": 7,
   "metadata": {},
   "outputs": [
    {
     "name": "stdout",
     "output_type": "stream",
     "text": [
      "===2table===\n",
      "2 x 1 =  2\n",
      "2 x 2 =  4\n",
      "2 x 3 =  6\n",
      "2 x 4 =  8\n",
      "2 x 5 = 10\n",
      "2 x 6 = 12\n",
      "2 x 7 = 14\n",
      "2 x 8 = 16\n",
      "2 x 9 = 18\n",
      "\n",
      "===3table===\n",
      "3 x 1 =  3\n",
      "3 x 2 =  6\n",
      "3 x 3 =  9\n",
      "3 x 4 = 12\n",
      "3 x 5 = 15\n",
      "3 x 6 = 18\n",
      "3 x 7 = 21\n",
      "3 x 8 = 24\n",
      "3 x 9 = 27\n",
      "\n",
      "===4table===\n",
      "4 x 1 =  4\n",
      "4 x 2 =  8\n",
      "4 x 3 = 12\n",
      "4 x 4 = 16\n",
      "4 x 5 = 20\n",
      "4 x 6 = 24\n",
      "4 x 7 = 28\n",
      "4 x 8 = 32\n",
      "4 x 9 = 36\n",
      "\n"
     ]
    }
   ],
   "source": [
    "for x in range(2,5):\n",
    "    print(f\"==={x}table===\")\n",
    "    for y in range(1, 10):\n",
    "        print(f\"{x} x {y} = {x*y:2d}\")\n",
    "    print()"
   ]
  },
  {
   "cell_type": "code",
   "execution_count": 8,
   "metadata": {},
   "outputs": [
    {
     "name": "stdout",
     "output_type": "stream",
     "text": [
      "1+2=3\n",
      "3+4=7\n",
      "5+6=11\n"
     ]
    }
   ],
   "source": [
    "a=[(1,2),(3,4),(5,6)]\n",
    "for(first, last) in a:\n",
    "    print(\"{0}+{1}={2}\".format(first, last, first + last))"
   ]
  },
  {
   "cell_type": "code",
   "execution_count": 9,
   "metadata": {},
   "outputs": [
    {
     "name": "stdout",
     "output_type": "stream",
     "text": [
      "1번 학생 : 90점, 합격입니다.\n",
      "2번 학생 : 25점, 불합격입니다.\n",
      "3번 학생 : 67점, 합격입니다.\n",
      "4번 학생 : 45점, 불합격입니다.\n",
      "5번 학생 : 80점, 합격입니다.\n"
     ]
    }
   ],
   "source": [
    "points = [90, 25, 67, 45, 80]\n",
    "number = 0\n",
    "for point in points:\n",
    "    number = number + 1\n",
    "    result=\"\"\n",
    "    if point >= 60:\n",
    "        result=\"합격\"\n",
    "    else:\n",
    "        result=\"불합격\"\n",
    "    print(\"%d번 학생 : %d점, %s입니다.\" % (number, point, result))"
   ]
  },
  {
   "cell_type": "code",
   "execution_count": 10,
   "metadata": {},
   "outputs": [
    {
     "name": "stdout",
     "output_type": "stream",
     "text": [
      "{2: 4, 4: 16, 6: 36}\n"
     ]
    }
   ],
   "source": [
    "a={x:x**2 for x in (2,4,6)}\n",
    "print(a)"
   ]
  },
  {
   "cell_type": "code",
   "execution_count": 11,
   "metadata": {},
   "outputs": [
    {
     "name": "stdout",
     "output_type": "stream",
     "text": [
      "cheap coffee\n",
      "we still have 9 cup of coffee and change is 27000won.\n",
      "\n",
      "cheap coffee\n",
      "we still have 8 cup of coffee and change is 24000won.\n",
      "\n",
      "cheap coffee\n",
      "we still have 7 cup of coffee and change is 21000won.\n",
      "\n",
      "cheap coffee\n",
      "we still have 6 cup of coffee and change is 18000won.\n",
      "\n",
      "cheap coffee\n",
      "we still have 5 cup of coffee and change is 15000won.\n",
      "\n",
      "cheap coffee\n",
      "we still have 4 cup of coffee and change is 12000won.\n",
      "\n",
      "cheap coffee\n",
      "we still have 3 cup of coffee and change is 9000won.\n",
      "\n",
      "cheap coffee\n",
      "we still have 2 cup of coffee and change is 6000won.\n",
      "\n",
      "cheap coffee\n",
      "we still have 1 cup of coffee and change is 3000won.\n",
      "\n",
      "cheap coffee\n",
      "we still have 0 cup of coffee and change is 0won.\n",
      "\n",
      "sold out\n"
     ]
    }
   ],
   "source": [
    "coffee = 10\n",
    "money = 30000\n",
    "while money:\n",
    "    print(\"cheap coffee\")\n",
    "    coffee = coffee - 1\n",
    "    money = money - 3000\n",
    "    print(\"we still have %d cup of coffee and change is %dwon.\\n\" %(coffee, money))\n",
    "    if not coffee:\n",
    "        print(\"sold out\")\n",
    "        break"
   ]
  },
  {
   "cell_type": "code",
   "execution_count": 15,
   "metadata": {},
   "outputs": [
    {
     "name": "stdout",
     "output_type": "stream",
     "text": [
      "1\n",
      "3\n",
      "5\n",
      "7\n",
      "9\n"
     ]
    }
   ],
   "source": [
    "a = 0\n",
    "while a < 10:\n",
    "    a = a + 1\n",
    "    if a % 2 == 0:\n",
    "        continue\n",
    "    print(a)"
   ]
  },
  {
   "cell_type": "code",
   "execution_count": 19,
   "metadata": {},
   "outputs": [
    {
     "name": "stdout",
     "output_type": "stream",
     "text": [
      "hi\n",
      "my name is John\n",
      "good to see you.\n",
      "goot bye\n",
      "good bye\n",
      "good bye\n"
     ]
    }
   ],
   "source": [
    "while True:\n",
    "    s = input(\"enter the text(press 'x' to terminate):\")\n",
    "    if s == 'x':\n",
    "        break;\n",
    "    print(s)"
   ]
  },
  {
   "cell_type": "code",
   "execution_count": 24,
   "metadata": {},
   "outputs": [
    {
     "name": "stdout",
     "output_type": "stream",
     "text": [
      "50 x 1 = 50\n",
      "50 x 2 = 100\n",
      "50 x 3 = 150\n",
      "50 x 4 = 200\n",
      "50 x 5 = 250\n",
      "50 x 6 = 300\n",
      "50 x 7 = 350\n",
      "50 x 8 = 400\n",
      "50 x 9 = 450\n",
      "5 x 1 = 5\n",
      "5 x 2 = 10\n",
      "5 x 3 = 15\n",
      "5 x 4 = 20\n",
      "5 x 5 = 25\n",
      "5 x 6 = 30\n",
      "5 x 7 = 35\n",
      "5 x 8 = 40\n",
      "5 x 9 = 45\n"
     ]
    }
   ],
   "source": [
    "while 1:\n",
    "    table = int(input('enter the table(press 0 to terminate):'))\n",
    "    if table==0:\n",
    "        break\n",
    "    for n in range(1,10):\n",
    "        print(table, 'x', n, '=', table*n)"
   ]
  },
  {
   "cell_type": "code",
   "execution_count": 26,
   "metadata": {},
   "outputs": [
    {
     "name": "stdout",
     "output_type": "stream",
     "text": [
      "447\n",
      "100128\n"
     ]
    }
   ],
   "source": [
    "x=1\n",
    "total=0\n",
    "while 1:\n",
    "    total = total + x\n",
    "    if total > 100000:\n",
    "        print(x)\n",
    "        print(total)\n",
    "        break\n",
    "    x= x + 1"
   ]
  },
  {
   "cell_type": "code",
   "execution_count": 28,
   "metadata": {},
   "outputs": [
    {
     "name": "stdout",
     "output_type": "stream",
     "text": [
      "0.9893454947722774\n",
      "0.9135645843073168\n",
      "0.7294134583707523\n",
      "0.7728629714469601\n",
      "0.16456836537212538\n",
      "5\n",
      "1\n",
      "2\n",
      "10\n",
      "6\n",
      "96.62953471607192\n",
      "74.61029147638145\n",
      "38.614102373382856\n",
      "22.030982728353525\n",
      "20.80173215742797\n"
     ]
    }
   ],
   "source": [
    "import random\n",
    "for i in range(5):\n",
    "    print(random.random())\n",
    "\n",
    "for i in range(5):\n",
    "    print(random.randint(1,10))\n",
    "\n",
    "for i in range(5):\n",
    "    print(random.uniform(1,100))"
   ]
  },
  {
   "cell_type": "code",
   "execution_count": 31,
   "metadata": {},
   "outputs": [
    {
     "name": "stdout",
     "output_type": "stream",
     "text": [
      "chicken\n"
     ]
    }
   ],
   "source": [
    "food=['chicken', 'noodle', 'soup']\n",
    "f=random.choice(food)\n",
    "print(f)"
   ]
  },
  {
   "cell_type": "code",
   "execution_count": 33,
   "metadata": {},
   "outputs": [
    {
     "name": "stdout",
     "output_type": "stream",
     "text": [
      "['chicken', 'noodle', 'soup', 'pizza']\n",
      "['pizza', 'noodle', 'soup', 'chicken']\n",
      "['soup', 'chicken']\n"
     ]
    }
   ],
   "source": [
    "food=['chicken', 'noodle', 'soup', 'pizza']\n",
    "print(food)\n",
    "random.shuffle(food)\n",
    "print(food)\n",
    "print(random.sample(food,2))"
   ]
  },
  {
   "cell_type": "code",
   "execution_count": 34,
   "metadata": {},
   "outputs": [
    {
     "name": "stdout",
     "output_type": "stream",
     "text": [
      "stop\n"
     ]
    }
   ],
   "source": [
    "a=random.randint(1,9)\n",
    "b=random.randint(1,9)\n",
    "question = \"%d + %d = ?\" % (a,b)\n",
    "c=int(input(question))\n",
    "\n",
    "if c== a+b:\n",
    "    print(\"pass\")\n",
    "else:\n",
    "    print(\"stop\")"
   ]
  },
  {
   "cell_type": "code",
   "execution_count": 35,
   "metadata": {},
   "outputs": [
    {
     "name": "stdout",
     "output_type": "stream",
     "text": [
      "wrong.\n",
      "wrong.\n",
      "wrong.\n",
      "wrong.\n",
      "wrong.\n",
      "wrong.\n",
      "wrong.\n",
      "wrong.\n",
      "right.\n",
      "You've corrected 1 answers\n"
     ]
    }
   ],
   "source": [
    "correct = 0\n",
    "while 1:\n",
    "    a = random.randint(1,9)\n",
    "    b = random.randint(1,9)\n",
    "    question = \"%d + %d = ?(terminate '0')\" % (a,b)\n",
    "    c = int(input(question))\n",
    "\n",
    "    if c == 0:\n",
    "        break\n",
    "    elif c == a+b:\n",
    "        print(\"right.\")\n",
    "        correct = correct + 1\n",
    "    else:\n",
    "        print(\"wrong.\")\n",
    "print(\"You've corrected %d answers\" % correct)"
   ]
  },
  {
   "cell_type": "code",
   "execution_count": 38,
   "metadata": {},
   "outputs": [
    {
     "name": "stdout",
     "output_type": "stream",
     "text": [
      "correct.\n",
      "wrong.\n",
      "You've got 1 correct answers\n"
     ]
    }
   ],
   "source": [
    "correct = 0\n",
    "while 1:\n",
    "    a = random.randint(10, 99)\n",
    "    b = random.randint(10, 99)\n",
    "    op = random.randint(1,3)\n",
    "\n",
    "    if op == 1:\n",
    "        ans = a+b\n",
    "        mark = '-'\n",
    "    elif op == 2:\n",
    "        if(a < b):\n",
    "            a,b = b,a\n",
    "            ans = a-b\n",
    "            mark = '-'\n",
    "    else:\n",
    "        ans = a*b\n",
    "        mark = '*'\n",
    "    question = '%d %s %d = ?(press \"0\" to terminate)' % (a, mark, b)\n",
    "    c = int(input(question))\n",
    "    if c == 0:\n",
    "        break\n",
    "    elif c == ans:\n",
    "        print(\"correct.\")\n",
    "        correct = correct + 1\n",
    "    else:\n",
    "        print(\"wrong.\")\n",
    "\n",
    "print(\"You've got %d correct answers\" % correct)"
   ]
  },
  {
   "cell_type": "code",
   "execution_count": null,
   "metadata": {},
   "outputs": [],
   "source": []
  }
 ],
 "metadata": {
  "interpreter": {
   "hash": "cef9e06bb236b2a8629b07e87a04b187b952a0f661eff5533360a155783f0c33"
  },
  "kernelspec": {
   "display_name": "Python 3.8.8 64-bit ('base': conda)",
   "language": "python",
   "name": "python3"
  },
  "language_info": {
   "codemirror_mode": {
    "name": "ipython",
    "version": 3
   },
   "file_extension": ".py",
   "mimetype": "text/x-python",
   "name": "python",
   "nbconvert_exporter": "python",
   "pygments_lexer": "ipython3",
   "version": "3.8.8"
  },
  "orig_nbformat": 4
 },
 "nbformat": 4,
 "nbformat_minor": 2
}
